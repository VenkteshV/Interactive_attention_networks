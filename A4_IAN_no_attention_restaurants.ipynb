{
  "nbformat": 4,
  "nbformat_minor": 0,
  "metadata": {
    "colab": {
      "name": "A4_IAN_no_attention_restaurants.ipynb",
      "provenance": [],
      "collapsed_sections": []
    },
    "kernelspec": {
      "name": "python3",
      "display_name": "Python 3"
    },
    "language_info": {
      "name": "python"
    },
    "accelerator": "GPU"
  },
  "cells": [
    {
      "cell_type": "code",
      "metadata": {
        "colab": {
          "base_uri": "https://localhost:8080/"
        },
        "id": "DLn1zNbNCI5V",
        "outputId": "d946f8ff-8669-4677-cdcc-80e15afbccd6"
      },
      "source": [
        "import os\n",
        "os.environ['CUDA_LAUNCH_BLOCKING'] = \"1\"\n",
        "import torch\n",
        "import logging\n",
        "logging.basicConfig(level=logging.ERROR)\n",
        "# If there's a GPU available...\n",
        "if torch.cuda.is_available():    \n",
        " \n",
        "    # Tell PyTorch to use the GPU.    \n",
        "    device = torch.device(\"cuda\")\n",
        " \n",
        "    print('There are %d GPU(s) available.' % torch.cuda.device_count())\n",
        " \n",
        "    print('We will use the GPU:', torch.cuda.get_device_name(0))\n",
        " \n",
        "# If not...\n",
        "else:\n",
        "    print('No GPU available, using the CPU instead.')\n",
        "    device = torch.device(\"cpu\")"
      ],
      "execution_count": 1,
      "outputs": [
        {
          "output_type": "stream",
          "text": [
            "There are 1 GPU(s) available.\n",
            "We will use the GPU: Tesla T4\n"
          ],
          "name": "stdout"
        }
      ]
    },
    {
      "cell_type": "code",
      "metadata": {
        "colab": {
          "base_uri": "https://localhost:8080/"
        },
        "id": "z-gUSZcqDNw7",
        "outputId": "8719df25-e1f2-4fad-d51e-c8c3fa449f6f"
      },
      "source": [
        "!pip install torchtext==0.3.1"
      ],
      "execution_count": 2,
      "outputs": [
        {
          "output_type": "stream",
          "text": [
            "Collecting torchtext==0.3.1\n",
            "\u001b[?25l  Downloading https://files.pythonhosted.org/packages/c6/bc/b28b9efb4653c03e597ed207264eea45862b5260f48e9f010b5068d64db1/torchtext-0.3.1-py3-none-any.whl (62kB)\n",
            "\r\u001b[K     |█████▎                          | 10kB 23.6MB/s eta 0:00:01\r\u001b[K     |██████████▌                     | 20kB 29.1MB/s eta 0:00:01\r\u001b[K     |███████████████▊                | 30kB 21.4MB/s eta 0:00:01\r\u001b[K     |█████████████████████           | 40kB 24.7MB/s eta 0:00:01\r\u001b[K     |██████████████████████████▎     | 51kB 26.1MB/s eta 0:00:01\r\u001b[K     |███████████████████████████████▌| 61kB 28.3MB/s eta 0:00:01\r\u001b[K     |████████████████████████████████| 71kB 7.2MB/s \n",
            "\u001b[?25hRequirement already satisfied: torch in /usr/local/lib/python3.7/dist-packages (from torchtext==0.3.1) (1.8.1+cu101)\n",
            "Requirement already satisfied: requests in /usr/local/lib/python3.7/dist-packages (from torchtext==0.3.1) (2.23.0)\n",
            "Requirement already satisfied: tqdm in /usr/local/lib/python3.7/dist-packages (from torchtext==0.3.1) (4.41.1)\n",
            "Requirement already satisfied: numpy in /usr/local/lib/python3.7/dist-packages (from torchtext==0.3.1) (1.19.5)\n",
            "Requirement already satisfied: typing-extensions in /usr/local/lib/python3.7/dist-packages (from torch->torchtext==0.3.1) (3.7.4.3)\n",
            "Requirement already satisfied: certifi>=2017.4.17 in /usr/local/lib/python3.7/dist-packages (from requests->torchtext==0.3.1) (2020.12.5)\n",
            "Requirement already satisfied: urllib3!=1.25.0,!=1.25.1,<1.26,>=1.21.1 in /usr/local/lib/python3.7/dist-packages (from requests->torchtext==0.3.1) (1.24.3)\n",
            "Requirement already satisfied: chardet<4,>=3.0.2 in /usr/local/lib/python3.7/dist-packages (from requests->torchtext==0.3.1) (3.0.4)\n",
            "Requirement already satisfied: idna<3,>=2.5 in /usr/local/lib/python3.7/dist-packages (from requests->torchtext==0.3.1) (2.10)\n",
            "Installing collected packages: torchtext\n",
            "  Found existing installation: torchtext 0.9.1\n",
            "    Uninstalling torchtext-0.9.1:\n",
            "      Successfully uninstalled torchtext-0.9.1\n",
            "Successfully installed torchtext-0.3.1\n"
          ],
          "name": "stdout"
        }
      ]
    },
    {
      "cell_type": "code",
      "metadata": {
        "colab": {
          "base_uri": "https://localhost:8080/",
          "height": 402
        },
        "id": "XbUtYIGe6Tgc",
        "outputId": "50571d83-8d3e-4d51-f59a-13ecb0556729"
      },
      "source": [
        "import pandas as pd\n",
        "data = pd.read_csv(\"train_sentiment_absa_restaurent.csv\")\n",
        "data"
      ],
      "execution_count": 5,
      "outputs": [
        {
          "output_type": "execute_result",
          "data": {
            "text/html": [
              "<div>\n",
              "<style scoped>\n",
              "    .dataframe tbody tr th:only-of-type {\n",
              "        vertical-align: middle;\n",
              "    }\n",
              "\n",
              "    .dataframe tbody tr th {\n",
              "        vertical-align: top;\n",
              "    }\n",
              "\n",
              "    .dataframe thead th {\n",
              "        text-align: right;\n",
              "    }\n",
              "</style>\n",
              "<table border=\"1\" class=\"dataframe\">\n",
              "  <thead>\n",
              "    <tr style=\"text-align: right;\">\n",
              "      <th></th>\n",
              "      <th>text</th>\n",
              "      <th>aspect_words</th>\n",
              "      <th>labels</th>\n",
              "    </tr>\n",
              "  </thead>\n",
              "  <tbody>\n",
              "    <tr>\n",
              "      <th>0</th>\n",
              "      <td>We had great desserts (including the best cann...</td>\n",
              "      <td>cannoli</td>\n",
              "      <td>2</td>\n",
              "    </tr>\n",
              "    <tr>\n",
              "      <th>1</th>\n",
              "      <td>Great pizza for lunch place.</td>\n",
              "      <td>pizza</td>\n",
              "      <td>2</td>\n",
              "    </tr>\n",
              "    <tr>\n",
              "      <th>2</th>\n",
              "      <td>It's a great place to pick up a cheap lunch or...</td>\n",
              "      <td>lunch</td>\n",
              "      <td>2</td>\n",
              "    </tr>\n",
              "    <tr>\n",
              "      <th>3</th>\n",
              "      <td>Its a nice quiet location to go eat a good mea...</td>\n",
              "      <td>location</td>\n",
              "      <td>2</td>\n",
              "    </tr>\n",
              "    <tr>\n",
              "      <th>4</th>\n",
              "      <td>The first 2 courses were very good, but the ch...</td>\n",
              "      <td>dessert wine</td>\n",
              "      <td>0</td>\n",
              "    </tr>\n",
              "    <tr>\n",
              "      <th>...</th>\n",
              "      <td>...</td>\n",
              "      <td>...</td>\n",
              "      <td>...</td>\n",
              "    </tr>\n",
              "    <tr>\n",
              "      <th>3242</th>\n",
              "      <td>Zero ambiance to boot.</td>\n",
              "      <td>ambiance</td>\n",
              "      <td>0</td>\n",
              "    </tr>\n",
              "    <tr>\n",
              "      <th>3243</th>\n",
              "      <td>Kind, attentive wait staff.</td>\n",
              "      <td>wait staff</td>\n",
              "      <td>2</td>\n",
              "    </tr>\n",
              "    <tr>\n",
              "      <th>3244</th>\n",
              "      <td>$20 gets you unlimited sushi of a very high qu...</td>\n",
              "      <td>sushi places</td>\n",
              "      <td>2</td>\n",
              "    </tr>\n",
              "    <tr>\n",
              "      <th>3245</th>\n",
              "      <td>Their sushi, Kamikaze and other Rolls are fres...</td>\n",
              "      <td>sushi</td>\n",
              "      <td>2</td>\n",
              "    </tr>\n",
              "    <tr>\n",
              "      <th>3246</th>\n",
              "      <td>Also, the sandwiches (nearing $7) didn't come ...</td>\n",
              "      <td>side</td>\n",
              "      <td>1</td>\n",
              "    </tr>\n",
              "  </tbody>\n",
              "</table>\n",
              "<p>3247 rows × 3 columns</p>\n",
              "</div>"
            ],
            "text/plain": [
              "                                                   text  aspect_words  labels\n",
              "0     We had great desserts (including the best cann...       cannoli       2\n",
              "1                          Great pizza for lunch place.         pizza       2\n",
              "2     It's a great place to pick up a cheap lunch or...         lunch       2\n",
              "3     Its a nice quiet location to go eat a good mea...      location       2\n",
              "4     The first 2 courses were very good, but the ch...  dessert wine       0\n",
              "...                                                 ...           ...     ...\n",
              "3242                             Zero ambiance to boot.      ambiance       0\n",
              "3243                        Kind, attentive wait staff.    wait staff       2\n",
              "3244  $20 gets you unlimited sushi of a very high qu...  sushi places       2\n",
              "3245  Their sushi, Kamikaze and other Rolls are fres...         sushi       2\n",
              "3246  Also, the sandwiches (nearing $7) didn't come ...          side       1\n",
              "\n",
              "[3247 rows x 3 columns]"
            ]
          },
          "metadata": {
            "tags": []
          },
          "execution_count": 5
        }
      ]
    },
    {
      "cell_type": "code",
      "metadata": {
        "colab": {
          "base_uri": "https://localhost:8080/",
          "height": 402
        },
        "id": "7TAM4G7n6as1",
        "outputId": "a0e62c70-9c42-4410-95d8-d82e88058761"
      },
      "source": [
        "val = pd.read_csv(\"val_sentiment_absa_restaurent.csv\")\n",
        "val"
      ],
      "execution_count": 6,
      "outputs": [
        {
          "output_type": "execute_result",
          "data": {
            "text/html": [
              "<div>\n",
              "<style scoped>\n",
              "    .dataframe tbody tr th:only-of-type {\n",
              "        vertical-align: middle;\n",
              "    }\n",
              "\n",
              "    .dataframe tbody tr th {\n",
              "        vertical-align: top;\n",
              "    }\n",
              "\n",
              "    .dataframe thead th {\n",
              "        text-align: right;\n",
              "    }\n",
              "</style>\n",
              "<table border=\"1\" class=\"dataframe\">\n",
              "  <thead>\n",
              "    <tr style=\"text-align: right;\">\n",
              "      <th></th>\n",
              "      <th>text</th>\n",
              "      <th>aspect_words</th>\n",
              "      <th>labels</th>\n",
              "    </tr>\n",
              "  </thead>\n",
              "  <tbody>\n",
              "    <tr>\n",
              "      <th>0</th>\n",
              "      <td>This is a consistently great place to dine for...</td>\n",
              "      <td>lunch</td>\n",
              "      <td>1</td>\n",
              "    </tr>\n",
              "    <tr>\n",
              "      <th>1</th>\n",
              "      <td>The workers there also absolutely load the bag...</td>\n",
              "      <td>workers</td>\n",
              "      <td>1</td>\n",
              "    </tr>\n",
              "    <tr>\n",
              "      <th>2</th>\n",
              "      <td>If it isn't for the food (A+++), it must be th...</td>\n",
              "      <td>service</td>\n",
              "      <td>2</td>\n",
              "    </tr>\n",
              "    <tr>\n",
              "      <th>3</th>\n",
              "      <td>The whole set up is truly unprofessional and I...</td>\n",
              "      <td>staff</td>\n",
              "      <td>0</td>\n",
              "    </tr>\n",
              "    <tr>\n",
              "      <th>4</th>\n",
              "      <td>The staff was too busy ordering sushi for dinn...</td>\n",
              "      <td>sushi</td>\n",
              "      <td>1</td>\n",
              "    </tr>\n",
              "    <tr>\n",
              "      <th>...</th>\n",
              "      <td>...</td>\n",
              "      <td>...</td>\n",
              "      <td>...</td>\n",
              "    </tr>\n",
              "    <tr>\n",
              "      <th>356</th>\n",
              "      <td>We ordered some beef and noodle soup dishes fr...</td>\n",
              "      <td>beef</td>\n",
              "      <td>0</td>\n",
              "    </tr>\n",
              "    <tr>\n",
              "      <th>357</th>\n",
              "      <td>Looking around, I saw a room full of New Yorke...</td>\n",
              "      <td>clubhouse</td>\n",
              "      <td>0</td>\n",
              "    </tr>\n",
              "    <tr>\n",
              "      <th>358</th>\n",
              "      <td>THE BIG COMPLAINT: NO TOASTING AVAILABLE.</td>\n",
              "      <td>TOASTING</td>\n",
              "      <td>0</td>\n",
              "    </tr>\n",
              "    <tr>\n",
              "      <th>359</th>\n",
              "      <td>Interesting other dishes for a change include ...</td>\n",
              "      <td>salmon caserole</td>\n",
              "      <td>2</td>\n",
              "    </tr>\n",
              "    <tr>\n",
              "      <th>360</th>\n",
              "      <td>It may be a bit packed on weekends, but the vi...</td>\n",
              "      <td>French food</td>\n",
              "      <td>2</td>\n",
              "    </tr>\n",
              "  </tbody>\n",
              "</table>\n",
              "<p>361 rows × 3 columns</p>\n",
              "</div>"
            ],
            "text/plain": [
              "                                                  text     aspect_words  labels\n",
              "0    This is a consistently great place to dine for...            lunch       1\n",
              "1    The workers there also absolutely load the bag...          workers       1\n",
              "2    If it isn't for the food (A+++), it must be th...          service       2\n",
              "3    The whole set up is truly unprofessional and I...            staff       0\n",
              "4    The staff was too busy ordering sushi for dinn...            sushi       1\n",
              "..                                                 ...              ...     ...\n",
              "356  We ordered some beef and noodle soup dishes fr...             beef       0\n",
              "357  Looking around, I saw a room full of New Yorke...        clubhouse       0\n",
              "358          THE BIG COMPLAINT: NO TOASTING AVAILABLE.         TOASTING       0\n",
              "359  Interesting other dishes for a change include ...  salmon caserole       2\n",
              "360  It may be a bit packed on weekends, but the vi...      French food       2\n",
              "\n",
              "[361 rows x 3 columns]"
            ]
          },
          "metadata": {
            "tags": []
          },
          "execution_count": 6
        }
      ]
    },
    {
      "cell_type": "code",
      "metadata": {
        "colab": {
          "base_uri": "https://localhost:8080/",
          "height": 402
        },
        "id": "k88b8lKw6ezA",
        "outputId": "9d10248f-6e0a-4fd3-d0a7-337c8bb50642"
      },
      "source": [
        "test = pd.read_csv(\"test_sentiment_ABSA_restaurent.csv\")\n",
        "test"
      ],
      "execution_count": 7,
      "outputs": [
        {
          "output_type": "execute_result",
          "data": {
            "text/html": [
              "<div>\n",
              "<style scoped>\n",
              "    .dataframe tbody tr th:only-of-type {\n",
              "        vertical-align: middle;\n",
              "    }\n",
              "\n",
              "    .dataframe tbody tr th {\n",
              "        vertical-align: top;\n",
              "    }\n",
              "\n",
              "    .dataframe thead th {\n",
              "        text-align: right;\n",
              "    }\n",
              "</style>\n",
              "<table border=\"1\" class=\"dataframe\">\n",
              "  <thead>\n",
              "    <tr style=\"text-align: right;\">\n",
              "      <th></th>\n",
              "      <th>text</th>\n",
              "      <th>aspect_words</th>\n",
              "      <th>labels</th>\n",
              "    </tr>\n",
              "  </thead>\n",
              "  <tbody>\n",
              "    <tr>\n",
              "      <th>0</th>\n",
              "      <td>The bread is top notch as well.</td>\n",
              "      <td>bread</td>\n",
              "      <td>2</td>\n",
              "    </tr>\n",
              "    <tr>\n",
              "      <th>1</th>\n",
              "      <td>I have to say they have one of the fastest del...</td>\n",
              "      <td>delivery times</td>\n",
              "      <td>2</td>\n",
              "    </tr>\n",
              "    <tr>\n",
              "      <th>2</th>\n",
              "      <td>Food is always fresh and hot- ready to eat!</td>\n",
              "      <td>Food</td>\n",
              "      <td>2</td>\n",
              "    </tr>\n",
              "    <tr>\n",
              "      <th>3</th>\n",
              "      <td>Did I mention that the coffee is OUTSTANDING?</td>\n",
              "      <td>coffee</td>\n",
              "      <td>2</td>\n",
              "    </tr>\n",
              "    <tr>\n",
              "      <th>4</th>\n",
              "      <td>Certainly not the best sushi in New York, howe...</td>\n",
              "      <td>place</td>\n",
              "      <td>2</td>\n",
              "    </tr>\n",
              "    <tr>\n",
              "      <th>...</th>\n",
              "      <td>...</td>\n",
              "      <td>...</td>\n",
              "      <td>...</td>\n",
              "    </tr>\n",
              "    <tr>\n",
              "      <th>1115</th>\n",
              "      <td>Creamy appetizers--taramasalata, eggplant sala...</td>\n",
              "      <td>Creamy appetizers</td>\n",
              "      <td>2</td>\n",
              "    </tr>\n",
              "    <tr>\n",
              "      <th>1116</th>\n",
              "      <td>Creamy appetizers--taramasalata, eggplant sala...</td>\n",
              "      <td>warm pitas</td>\n",
              "      <td>1</td>\n",
              "    </tr>\n",
              "    <tr>\n",
              "      <th>1117</th>\n",
              "      <td>Creamy appetizers--taramasalata, eggplant sala...</td>\n",
              "      <td>taramasalata</td>\n",
              "      <td>2</td>\n",
              "    </tr>\n",
              "    <tr>\n",
              "      <th>1118</th>\n",
              "      <td>Creamy appetizers--taramasalata, eggplant sala...</td>\n",
              "      <td>eggplant salad</td>\n",
              "      <td>2</td>\n",
              "    </tr>\n",
              "    <tr>\n",
              "      <th>1119</th>\n",
              "      <td>Creamy appetizers--taramasalata, eggplant sala...</td>\n",
              "      <td>Greek yogurt (with cuccumber, dill, and garlic)</td>\n",
              "      <td>2</td>\n",
              "    </tr>\n",
              "  </tbody>\n",
              "</table>\n",
              "<p>1120 rows × 3 columns</p>\n",
              "</div>"
            ],
            "text/plain": [
              "                                                   text  ... labels\n",
              "0                       The bread is top notch as well.  ...      2\n",
              "1     I have to say they have one of the fastest del...  ...      2\n",
              "2           Food is always fresh and hot- ready to eat!  ...      2\n",
              "3         Did I mention that the coffee is OUTSTANDING?  ...      2\n",
              "4     Certainly not the best sushi in New York, howe...  ...      2\n",
              "...                                                 ...  ...    ...\n",
              "1115  Creamy appetizers--taramasalata, eggplant sala...  ...      2\n",
              "1116  Creamy appetizers--taramasalata, eggplant sala...  ...      1\n",
              "1117  Creamy appetizers--taramasalata, eggplant sala...  ...      2\n",
              "1118  Creamy appetizers--taramasalata, eggplant sala...  ...      2\n",
              "1119  Creamy appetizers--taramasalata, eggplant sala...  ...      2\n",
              "\n",
              "[1120 rows x 3 columns]"
            ]
          },
          "metadata": {
            "tags": []
          },
          "execution_count": 7
        }
      ]
    },
    {
      "cell_type": "code",
      "metadata": {
        "id": "hhfudHQBDcFi"
      },
      "source": [
        "import torchtext\n",
        "text = torchtext.data.Field(lower=True, batch_first=True, tokenize='spacy', include_lengths=True)\n",
        "aspect = torchtext.data.Field(lower=True, batch_first=True, tokenize='spacy', include_lengths=True)\n",
        "\n",
        "target = torchtext.data.Field(sequential=False, use_vocab=False, is_target=True)\n",
        "# use field objects to read training, validation and test sets\n",
        "train = torchtext.data.TabularDataset(path='train_sentiment_absa_restaurent.csv', format='csv',\n",
        "                                      fields={'text': ('text',text),\n",
        "                                              'aspect_words': ('aspect',aspect),\n",
        "                                              'labels': ('target',target)})\n",
        "val = torchtext.data.TabularDataset(path='val_sentiment_absa_restaurent.csv', format='csv',\n",
        "                                              fields={'text': ('text',text),\n",
        "                                              'aspect_words': ('aspect',aspect),\n",
        "                                              'labels': ('target',target)})\n",
        "test = torchtext.data.TabularDataset(path='test_sentiment_ABSA_restaurent.csv', format='csv',\n",
        "                                              fields={'text': ('text',text),\n",
        "                                              'aspect_words': ('aspect',aspect),\n",
        "                                              'labels': ('target',target)})"
      ],
      "execution_count": 8,
      "outputs": []
    },
    {
      "cell_type": "code",
      "metadata": {
        "colab": {
          "base_uri": "https://localhost:8080/"
        },
        "id": "gEVDyluEDdOi",
        "outputId": "999d7e08-774e-4728-edae-cd7c279a7434"
      },
      "source": [
        "from sklearn.preprocessing import LabelEncoder\n",
        "import joblib\n",
        "LE =LabelEncoder()\n",
        "LE=joblib.load('sentiment_label_encoder_restaurent')\n"
      ],
      "execution_count": 9,
      "outputs": [
        {
          "output_type": "stream",
          "text": [
            "/usr/local/lib/python3.7/dist-packages/sklearn/base.py:318: UserWarning: Trying to unpickle estimator LabelEncoder from version 0.22.1 when using version 0.22.2.post1. This might lead to breaking code or invalid results. Use at your own risk.\n",
            "  UserWarning)\n"
          ],
          "name": "stderr"
        }
      ]
    },
    {
      "cell_type": "code",
      "metadata": {
        "id": "QuhZQpggDdRv"
      },
      "source": [
        "def get_labels(prediction):\n",
        "    predicted_label =  LE.inverse_transform([prediction])\n",
        "    return predicted_label[0]"
      ],
      "execution_count": 10,
      "outputs": []
    },
    {
      "cell_type": "code",
      "metadata": {
        "id": "2vaC2rkNDdUJ",
        "colab": {
          "base_uri": "https://localhost:8080/"
        },
        "outputId": "6b0d0eaa-9ea9-40cf-ea1c-db4a6af93377"
      },
      "source": [
        "text.build_vocab(train, val, test,vectors=\"glove.6B.300d\")\n",
        "aspect.build_vocab(train, val, test,vectors=\"glove.6B.300d\")\n",
        "\n"
      ],
      "execution_count": 11,
      "outputs": [
        {
          "output_type": "stream",
          "text": [
            ".vector_cache/glove.6B.zip: 862MB [02:42, 5.32MB/s]                           \n",
            "100%|█████████▉| 399521/400000 [00:37<00:00, 10794.30it/s]"
          ],
          "name": "stderr"
        }
      ]
    },
    {
      "cell_type": "code",
      "metadata": {
        "colab": {
          "base_uri": "https://localhost:8080/"
        },
        "id": "Y2k0I7mADdXG",
        "outputId": "8fa94bbc-10f9-4873-b72c-3758cb582416"
      },
      "source": [
        "print(text.vocab.vectors.shape)\n",
        "print(f\"Unique tokens in text vocabulary: {len(text.vocab)}\")"
      ],
      "execution_count": 12,
      "outputs": [
        {
          "output_type": "stream",
          "text": [
            "torch.Size([4454, 300])\n",
            "Unique tokens in text vocabulary: 4454\n"
          ],
          "name": "stdout"
        }
      ]
    },
    {
      "cell_type": "code",
      "metadata": {
        "id": "NBC5xYgcDdZy"
      },
      "source": [
        "batch_size = 32\n",
        "train_iter = torchtext.data.BucketIterator(dataset=train,\n",
        "                                           batch_size=batch_size,\n",
        "                                           sort_key=lambda x: x.text.__len__(),\n",
        "                                           shuffle=True,\n",
        "                                           sort_within_batch=True) \n",
        "val_iter = torchtext.data.BucketIterator(dataset=val,\n",
        "                                         batch_size=batch_size,\n",
        "                                         sort_key=lambda x: x.text.__len__(),\n",
        "                                         train=False,\n",
        "                                         sort_within_batch=True)\n",
        "test_iter = torchtext.data.BucketIterator(dataset=test,\n",
        "                                          batch_size=batch_size,\n",
        "                                          sort_key=lambda x: x.text.__len__(),\n",
        "                                          sort_within_batch=True)"
      ],
      "execution_count": 13,
      "outputs": []
    },
    {
      "cell_type": "code",
      "metadata": {
        "id": "k97P-uv8Ddch"
      },
      "source": [
        "from torch import nn\n",
        "class IANClassifier(nn.Module):\n",
        "  def __init__(self, pre_trained_aspect,pre_trained_context, hidden_dim=300, lstm_layer=2, dropout=0.5):\n",
        "        super(IANClassifier, self).__init__()\n",
        "        self.dropout = nn.Dropout(p=dropout)\n",
        "        self.aspect_embedding = nn.Embedding.from_pretrained(pre_trained_aspect)\n",
        "        self.context_embedding = nn.Embedding.from_pretrained(pre_trained_context)\n",
        "\n",
        "        self.aspect_embedding.weight.requires_grad = True\n",
        "        self.lstm_aspect = nn.LSTM(input_size=self.aspect_embedding.embedding_dim,\n",
        "                            hidden_size=hidden_dim,\n",
        "                            num_layers=1)\n",
        "        # self.atten1 = Attention(hidden_dim*2, batch_first=True) # 2 is bidrectional\n",
        "        self.lstm_context = nn.LSTM(input_size=self.context_embedding.embedding_dim,\n",
        "                            hidden_size=hidden_dim,\n",
        "                            num_layers=1)\n",
        "        # self.atten2 = Attention(hidden_dim*2, batch_first=True)\n",
        "        # self.fc1 = nn.Sequential(nn.Linear(hidden_dim*lstm_layer*2, hidden_dim*lstm_layer*2),\n",
        "        #                          nn.BatchNorm1d(hidden_dim*lstm_layer*2),\n",
        "        #                          nn.ReLU()) \n",
        "        self.fc = nn.Linear(hidden_dim*2, 3)\n",
        "\n",
        "    \n",
        "  def forward(self, context, context_len, aspect, aspect_len):\n",
        "        context_embed = self.context_embedding(context)\n",
        "        context_embed = self.dropout(context_embed)\n",
        "        \n",
        "        context_packed = nn.utils.rnn.pack_padded_sequence(context_embed, context_len, batch_first=True,enforce_sorted=False)\n",
        "        out1, (h_n, c_n) = self.lstm_context(context_packed)\n",
        "        context_out, lengths = nn.utils.rnn.pad_packed_sequence(out1, batch_first=True)\n",
        "        lengths_tensor = torch.autograd.Variable(torch.FloatTensor(lengths.float())).view(-1,1)\n",
        "        average_pooling_context = torch.sum(context_out,dim=1)/lengths_tensor.to(device)\n",
        "        # print(\"average_pooling\",average_pooling.shape,lengths)\n",
        "\n",
        "        aspect_embed = self.aspect_embedding(aspect)\n",
        "        aspect_embed = self.dropout(aspect_embed)\n",
        "        \n",
        "        aspect_packed = nn.utils.rnn.pack_padded_sequence(aspect_embed, aspect_len, batch_first=True,enforce_sorted=False)\n",
        "        out_aspect, (h_n, c_n) = self.lstm_aspect(aspect_packed)\n",
        "        aspect_out, lengths = nn.utils.rnn.pad_packed_sequence(out_aspect, batch_first=True)\n",
        "        aspect_lengths_tensor = torch.autograd.Variable(torch.FloatTensor(lengths.float())).view(-1,1)\n",
        "        average_pooling_aspect = torch.sum(aspect_out,dim=1)/aspect_lengths_tensor.to(device)\n",
        "\n",
        "        z = torch.cat((average_pooling_context, average_pooling_aspect), dim=-1)\n",
        "        z = self.dropout(z)\n",
        "        # print(\"z\",z.shape)\n",
        "        out = self.fc(z)\n",
        "        out = torch.tanh(out)\n",
        "        return out\n"
      ],
      "execution_count": 135,
      "outputs": []
    },
    {
      "cell_type": "code",
      "metadata": {
        "id": "Pp5du6h4DdfG"
      },
      "source": [
        "import numpy as np            \n",
        "base_lr, max_lr = 0.001, 0.003\n",
        "model = IANClassifier(aspect.vocab.vectors,text.vocab.vectors, hidden_dim=300, lstm_layer=2, dropout=0.5).cuda()\n",
        "\n",
        "optimizer = torch.optim.Adam(filter(lambda p: p.requires_grad, model.parameters()), \n",
        "                             lr=base_lr, weight_decay=1e-5)"
      ],
      "execution_count": 136,
      "outputs": []
    },
    {
      "cell_type": "code",
      "metadata": {
        "id": "535vabwcDdh9"
      },
      "source": [
        "\n",
        "\n",
        "epochs = 30\n"
      ],
      "execution_count": 137,
      "outputs": []
    },
    {
      "cell_type": "code",
      "metadata": {
        "id": "hC09isZqDdkq"
      },
      "source": [
        "import numpy as np\n",
        "\n",
        "# Function to calculate the accuracy of our predictions vs labels\n",
        "def flat_accuracy(preds, labels):\n",
        "    pred_flat = np.argmax(preds, axis=1).flatten()\n",
        "    labels_flat = labels.flatten()\n",
        "    return np.sum(pred_flat == labels_flat) / len(labels_flat)"
      ],
      "execution_count": 138,
      "outputs": []
    },
    {
      "cell_type": "code",
      "metadata": {
        "id": "ta6zfUTa3kh7"
      },
      "source": [
        "import time\n",
        "import datetime\n",
        "\n",
        "def format_time(elapsed):\n",
        "    '''\n",
        "    Takes a time in seconds and returns a string hh:mm:ss\n",
        "    '''\n",
        "    # Round to the nearest second.\n",
        "    elapsed_rounded = int(round((elapsed)))\n",
        "    \n",
        "    # Format as hh:mm:ss\n",
        "    return str(datetime.timedelta(seconds=elapsed_rounded))"
      ],
      "execution_count": 139,
      "outputs": []
    },
    {
      "cell_type": "code",
      "metadata": {
        "id": "GFq9gd5kQSHb"
      },
      "source": [
        "import os\n",
        "os.environ['CUDA_LAUNCH_BLOCKING'] = \"1\"\n"
      ],
      "execution_count": 140,
      "outputs": []
    },
    {
      "cell_type": "code",
      "metadata": {
        "id": "y-rKyCrwE7N4",
        "colab": {
          "base_uri": "https://localhost:8080/"
        },
        "outputId": "610af292-3a96-4107-931d-6d21201a62b9"
      },
      "source": [
        "# model.to(device)\n",
        "model"
      ],
      "execution_count": 141,
      "outputs": [
        {
          "output_type": "execute_result",
          "data": {
            "text/plain": [
              "IANClassifier(\n",
              "  (dropout): Dropout(p=0.5, inplace=False)\n",
              "  (aspect_embedding): Embedding(1400, 300)\n",
              "  (context_embedding): Embedding(4454, 300)\n",
              "  (lstm_aspect): LSTM(300, 300)\n",
              "  (lstm_context): LSTM(300, 300)\n",
              "  (fc): Linear(in_features=600, out_features=3, bias=True)\n",
              ")"
            ]
          },
          "metadata": {
            "tags": []
          },
          "execution_count": 141
        }
      ]
    },
    {
      "cell_type": "code",
      "metadata": {
        "id": "a_nmuoSgQ5t3"
      },
      "source": [
        "class EarlyStopping:\n",
        "    \"\"\"Early stops the training if validation loss doesn't improve after a given patience.\"\"\"\n",
        "    def __init__(self, patience=7, verbose=False, delta=0, path='checkpoint.pt', trace_func=print):\n",
        "        \"\"\"\n",
        "        Args:\n",
        "            patience (int): How long to wait after last time validation loss improved.\n",
        "                            Default: 7\n",
        "            verbose (bool): If True, prints a message for each validation loss improvement. \n",
        "                            Default: False\n",
        "            delta (float): Minimum change in the monitored quantity to qualify as an improvement.\n",
        "                            Default: 0\n",
        "            path (str): Path for the checkpoint to be saved to.\n",
        "                            Default: 'checkpoint.pt'\n",
        "            trace_func (function): trace print function.\n",
        "                            Default: print            \n",
        "        \"\"\"\n",
        "        self.patience = patience\n",
        "        self.verbose = verbose\n",
        "        self.counter = 0\n",
        "        self.best_score = None\n",
        "        self.early_stop = False\n",
        "        self.val_loss_min = np.Inf\n",
        "        self.delta = delta\n",
        "        self.path = path\n",
        "        self.trace_func = trace_func\n",
        "    def __call__(self, val_loss, model):\n",
        "\n",
        "        score = -val_loss\n",
        "\n",
        "        if self.best_score is None:\n",
        "            self.best_score = score\n",
        "            self.save_checkpoint(val_loss, model)\n",
        "        elif score < self.best_score + self.delta:\n",
        "            self.counter += 1\n",
        "            self.trace_func(f'EarlyStopping counter: {self.counter} out of {self.patience}')\n",
        "            if self.counter >= self.patience:\n",
        "                self.early_stop = True\n",
        "        else:\n",
        "            self.best_score = score\n",
        "            self.save_checkpoint(val_loss, model)\n",
        "            self.counter = 0\n",
        "\n",
        "    def save_checkpoint(self, val_loss, model):\n",
        "        '''Saves model when validation loss decrease.'''\n",
        "        if self.verbose:\n",
        "            self.trace_func(f'Validation loss decreased ({self.val_loss_min:.6f} --> {val_loss:.6f}).  Saving model ...')\n",
        "        torch.save(model.state_dict(), self.path)\n",
        "        self.val_loss_min = val_loss"
      ],
      "execution_count": 142,
      "outputs": []
    },
    {
      "cell_type": "code",
      "metadata": {
        "id": "ZU11TINmyrO2"
      },
      "source": [
        "loss_func = nn.CrossEntropyLoss()"
      ],
      "execution_count": 143,
      "outputs": []
    },
    {
      "cell_type": "code",
      "metadata": {
        "id": "7T3CSPydh2LY"
      },
      "source": [
        "# for i in range(1000000000000000000000):\n",
        "#   j=i"
      ],
      "execution_count": 144,
      "outputs": []
    },
    {
      "cell_type": "code",
      "metadata": {
        "colab": {
          "base_uri": "https://localhost:8080/"
        },
        "id": "OFBf8rQZiDge",
        "outputId": "f46cfdc4-9d07-4fd8-e3c5-2f5dc35b6a9b"
      },
      "source": [
        "import random\n",
        "import numpy as np\n",
        "import torch.nn.functional as F\n",
        "\n",
        "seed_val = 42\n",
        "\n",
        "random.seed(seed_val)\n",
        "np.random.seed(seed_val)\n",
        "torch.manual_seed(seed_val)\n",
        "torch.cuda.manual_seed_all(seed_val)\n",
        "\n",
        "# We'll store a number of quantities such as training and validation loss, \n",
        "# validation accuracy, and timings.\n",
        "training_stats = []\n",
        "\n",
        "# Measure the total training time for the whole run.\n",
        "total_t0 = time.time()\n",
        "early_stopping = EarlyStopping(patience=3, verbose=True)\n",
        "# For each epoch...\n",
        "for epoch_i in range(0, epochs):\n",
        "    \n",
        "    # ========================================\n",
        "    #               Training\n",
        "    # ========================================\n",
        "    \n",
        "    # Perform one full pass over the training set.\n",
        "\n",
        "    print(\"\")\n",
        "    print('======== Epoch {:} / {:} ========'.format(epoch_i + 1, epochs))\n",
        "    print('Training...')\n",
        "\n",
        "    # Measure how long the training epoch takes.\n",
        "    t0 = time.time()\n",
        "\n",
        "    # Reset the total loss for this epoch.\n",
        "    total_train_accuracy = 0\n",
        "    total_train_loss = 0\n",
        "\n",
        "   \n",
        "    model.train()\n",
        "\n",
        "    # For each batch of training data...\n",
        "    for step, batch in enumerate(train_iter):\n",
        "\n",
        "        # Progress update every 40 batches.\n",
        "        if step % 10 == 0 and not step == 0:\n",
        "            # Calculate elapsed time in minutes.\n",
        "            elapsed = format_time(time.time() - t0)\n",
        "            \n",
        "            # Report progress.\n",
        "            print('  Batch {:>5,}  of  {:>5,}.    Elapsed: {:}.'.format(step, len(train_iter), elapsed))\n",
        "\n",
        "        context_text, context_len = batch.text\n",
        "        aspect_text,aspect_len = batch.aspect\n",
        "        context_text = context_text.cuda()\n",
        "        aspect_text = aspect_text.cuda()\n",
        "        y = batch.target.type(torch.long).cuda()\n",
        "        # compute forward pass\n",
        "        model.zero_grad()        \n",
        "\n",
        "        probas = model.forward(context_text, context_len, aspect_text, aspect_len)\n",
        "\n",
        "\n",
        "\n",
        "        # Accumulate the training loss over all of the batches so that we can\n",
        "   \n",
        "        loss = loss_func(probas, y)\n",
        "        total_train_loss += loss.item()\n",
        "\n",
        "        # Perform a backward pass to calculate the gradients.\n",
        "        loss.backward()\n",
        "\n",
        "\n",
        "\n",
        "\n",
        "        optimizer.step()\n",
        "\n",
        "        # Update the learning rate.\n",
        "        # scheduler.batch_step()\n",
        "        logits = probas.detach().cpu().numpy()\n",
        "        label_ids = y.to('cpu').numpy()\n",
        "        total_train_accuracy += flat_accuracy(logits, label_ids)\n",
        "    avg_train_accuracy = total_train_accuracy / len(train_iter)\n",
        "    print(\" Train Accuracy: {0:.2f}\".format(avg_train_accuracy))\n",
        "\n",
        "    # Calculate the average loss over all of the batches.\n",
        "    avg_train_loss = total_train_loss / len(train_iter) \n",
        "\n",
        "            \n",
        "    \n",
        "    # Measure how long this epoch took.\n",
        "    training_time = format_time(time.time() - t0)\n",
        "\n",
        "    print(\"\")\n",
        "    print(\"  Average training loss: {0:.2f}\".format(avg_train_loss))\n",
        "    print(\"  Training epcoh took: {:}\".format(training_time))\n",
        "        \n",
        "    # ========================================\n",
        "    #               Validation\n",
        "    # ========================================\n",
        "    # After the completion of each training epoch, measure our performance on\n",
        "    # our validation set.\n",
        "\n",
        "    print(\"\")\n",
        "    print(\"Running Validation...\")\n",
        "\n",
        "    t0 = time.time()\n",
        "\n",
        "    # Put the model in evaluation mode--the dropout layers behave differently\n",
        "    # during evaluation.\n",
        "    model.eval()\n",
        "\n",
        "    # Tracking variables \n",
        "    total_eval_accuracy = 0\n",
        "    total_eval_loss = 0\n",
        "    nb_eval_steps = 0\n",
        "\n",
        "    # Evaluate data for one epoch\n",
        "    for batch in val_iter:\n",
        "        \n",
        "        context_text, context_len = batch.text\n",
        "        aspect_text,aspect_len = batch.aspect\n",
        "        context_text = context_text.cuda()\n",
        "        aspect_text = aspect_text.cuda()\n",
        "        y = batch.target.type(torch.long).cuda()      \n",
        "\n",
        "        \n",
        "   \n",
        "        with torch.no_grad():        \n",
        "          logits = model.forward(context_text, context_len, aspect_text, aspect_len)            \n",
        "        # Accumulate the validation loss.\n",
        "        loss_func = nn.CrossEntropyLoss()\n",
        "        loss = loss_func(logits, y)\n",
        "        total_eval_loss += loss.item()\n",
        "\n",
        "        # Move logits and labels to CPU\n",
        "        logits = logits.detach().cpu().numpy()\n",
        "        label_ids = y.to('cpu').numpy()\n",
        "\n",
        "        # Calculate the accuracy for this batch of test sentences, and\n",
        "        # accumulate it over all batches.\n",
        "        total_eval_accuracy += flat_accuracy(logits, label_ids)\n",
        "        \n",
        "\n",
        "    # Report the final accuracy for this validation run.\n",
        "    avg_val_accuracy = total_eval_accuracy / len(val_iter)\n",
        "    print(\"  Accuracy: {0:.2f}\".format(avg_val_accuracy))\n",
        "\n",
        "    # Calculate the average loss over all of the batches.\n",
        "    avg_val_loss = total_eval_loss / len(val_iter)\n",
        "    early_stopping(avg_val_loss, model)\n",
        "    if early_stopping.early_stop:\n",
        "      print(\"Early stopping\")\n",
        "      break    \n",
        "    # Measure how long the validation run took.\n",
        "    validation_time = format_time(time.time() - t0)\n",
        "    \n",
        "    print(\"  Validation Loss: {0:.2f}\".format(avg_val_loss))\n",
        "    print(\"  Validation took: {:}\".format(validation_time))\n",
        "\n",
        "    # Record all statistics from this epoch.\n",
        "    training_stats.append(\n",
        "        {\n",
        "            'epoch': epoch_i + 1,\n",
        "            'Training Loss': avg_train_loss,\n",
        "            'Valid. Loss': avg_val_loss,\n",
        "            'Valid. Accur.': avg_val_accuracy,\n",
        "            'Training Time': training_time,\n",
        "            'Validation Time': validation_time\n",
        "        }\n",
        "    )\n",
        "\n",
        "print(\"\")\n",
        "print(\"Training complete!\")\n",
        "\n",
        "print(\"Total training took {:} (h:mm:ss)\".format(format_time(time.time()-total_t0)))"
      ],
      "execution_count": 145,
      "outputs": [
        {
          "output_type": "stream",
          "text": [
            "\n",
            "======== Epoch 1 / 30 ========\n",
            "Training...\n",
            "  Batch    10  of    102.    Elapsed: 0:00:00.\n",
            "  Batch    20  of    102.    Elapsed: 0:00:00.\n",
            "  Batch    30  of    102.    Elapsed: 0:00:00.\n",
            "  Batch    40  of    102.    Elapsed: 0:00:01.\n",
            "  Batch    50  of    102.    Elapsed: 0:00:01.\n",
            "  Batch    60  of    102.    Elapsed: 0:00:01.\n",
            "  Batch    70  of    102.    Elapsed: 0:00:01.\n",
            "  Batch    80  of    102.    Elapsed: 0:00:01.\n",
            "  Batch    90  of    102.    Elapsed: 0:00:01.\n",
            "  Batch   100  of    102.    Elapsed: 0:00:01.\n",
            " Train Accuracy: 0.62\n",
            "\n",
            "  Average training loss: 0.90\n",
            "  Training epcoh took: 0:00:01\n",
            "\n",
            "Running Validation...\n",
            "  Accuracy: 0.62\n",
            "Validation loss decreased (inf --> 0.844115).  Saving model ...\n",
            "  Validation Loss: 0.84\n",
            "  Validation took: 0:00:00\n",
            "\n",
            "======== Epoch 2 / 30 ========\n",
            "Training...\n",
            "  Batch    10  of    102.    Elapsed: 0:00:00.\n",
            "  Batch    20  of    102.    Elapsed: 0:00:00.\n",
            "  Batch    30  of    102.    Elapsed: 0:00:00.\n",
            "  Batch    40  of    102.    Elapsed: 0:00:01.\n",
            "  Batch    50  of    102.    Elapsed: 0:00:01.\n",
            "  Batch    60  of    102.    Elapsed: 0:00:01.\n",
            "  Batch    70  of    102.    Elapsed: 0:00:01.\n",
            "  Batch    80  of    102.    Elapsed: 0:00:01.\n",
            "  Batch    90  of    102.    Elapsed: 0:00:01.\n",
            "  Batch   100  of    102.    Elapsed: 0:00:01.\n",
            " Train Accuracy: 0.67\n",
            "\n",
            "  Average training loss: 0.78\n",
            "  Training epcoh took: 0:00:01\n",
            "\n",
            "Running Validation...\n",
            "  Accuracy: 0.66\n",
            "Validation loss decreased (0.844115 --> 0.786125).  Saving model ...\n",
            "  Validation Loss: 0.79\n",
            "  Validation took: 0:00:00\n",
            "\n",
            "======== Epoch 3 / 30 ========\n",
            "Training...\n",
            "  Batch    10  of    102.    Elapsed: 0:00:00.\n",
            "  Batch    20  of    102.    Elapsed: 0:00:00.\n",
            "  Batch    30  of    102.    Elapsed: 0:00:00.\n",
            "  Batch    40  of    102.    Elapsed: 0:00:01.\n",
            "  Batch    50  of    102.    Elapsed: 0:00:01.\n",
            "  Batch    60  of    102.    Elapsed: 0:00:01.\n",
            "  Batch    70  of    102.    Elapsed: 0:00:01.\n",
            "  Batch    80  of    102.    Elapsed: 0:00:01.\n",
            "  Batch    90  of    102.    Elapsed: 0:00:01.\n",
            "  Batch   100  of    102.    Elapsed: 0:00:01.\n",
            " Train Accuracy: 0.71\n",
            "\n",
            "  Average training loss: 0.74\n",
            "  Training epcoh took: 0:00:01\n",
            "\n",
            "Running Validation...\n",
            "  Accuracy: 0.69\n",
            "Validation loss decreased (0.786125 --> 0.776965).  Saving model ...\n",
            "  Validation Loss: 0.78\n",
            "  Validation took: 0:00:00\n",
            "\n",
            "======== Epoch 4 / 30 ========\n",
            "Training...\n",
            "  Batch    10  of    102.    Elapsed: 0:00:00.\n",
            "  Batch    20  of    102.    Elapsed: 0:00:00.\n",
            "  Batch    30  of    102.    Elapsed: 0:00:00.\n",
            "  Batch    40  of    102.    Elapsed: 0:00:00.\n",
            "  Batch    50  of    102.    Elapsed: 0:00:01.\n",
            "  Batch    60  of    102.    Elapsed: 0:00:01.\n",
            "  Batch    70  of    102.    Elapsed: 0:00:01.\n",
            "  Batch    80  of    102.    Elapsed: 0:00:01.\n",
            "  Batch    90  of    102.    Elapsed: 0:00:01.\n",
            "  Batch   100  of    102.    Elapsed: 0:00:01.\n",
            " Train Accuracy: 0.74\n",
            "\n",
            "  Average training loss: 0.69\n",
            "  Training epcoh took: 0:00:01\n",
            "\n",
            "Running Validation...\n",
            "  Accuracy: 0.69\n",
            "Validation loss decreased (0.776965 --> 0.736497).  Saving model ...\n",
            "  Validation Loss: 0.74\n",
            "  Validation took: 0:00:00\n",
            "\n",
            "======== Epoch 5 / 30 ========\n",
            "Training...\n",
            "  Batch    10  of    102.    Elapsed: 0:00:00.\n",
            "  Batch    20  of    102.    Elapsed: 0:00:00.\n",
            "  Batch    30  of    102.    Elapsed: 0:00:00.\n",
            "  Batch    40  of    102.    Elapsed: 0:00:01.\n",
            "  Batch    50  of    102.    Elapsed: 0:00:01.\n",
            "  Batch    60  of    102.    Elapsed: 0:00:01.\n",
            "  Batch    70  of    102.    Elapsed: 0:00:01.\n",
            "  Batch    80  of    102.    Elapsed: 0:00:01.\n",
            "  Batch    90  of    102.    Elapsed: 0:00:01.\n",
            "  Batch   100  of    102.    Elapsed: 0:00:01.\n",
            " Train Accuracy: 0.76\n",
            "\n",
            "  Average training loss: 0.65\n",
            "  Training epcoh took: 0:00:01\n",
            "\n",
            "Running Validation...\n",
            "  Accuracy: 0.66\n",
            "EarlyStopping counter: 1 out of 3\n",
            "  Validation Loss: 0.77\n",
            "  Validation took: 0:00:00\n",
            "\n",
            "======== Epoch 6 / 30 ========\n",
            "Training...\n",
            "  Batch    10  of    102.    Elapsed: 0:00:00.\n",
            "  Batch    20  of    102.    Elapsed: 0:00:00.\n",
            "  Batch    30  of    102.    Elapsed: 0:00:00.\n",
            "  Batch    40  of    102.    Elapsed: 0:00:01.\n",
            "  Batch    50  of    102.    Elapsed: 0:00:01.\n",
            "  Batch    60  of    102.    Elapsed: 0:00:01.\n",
            "  Batch    70  of    102.    Elapsed: 0:00:01.\n",
            "  Batch    80  of    102.    Elapsed: 0:00:01.\n",
            "  Batch    90  of    102.    Elapsed: 0:00:01.\n",
            "  Batch   100  of    102.    Elapsed: 0:00:01.\n",
            " Train Accuracy: 0.77\n",
            "\n",
            "  Average training loss: 0.64\n",
            "  Training epcoh took: 0:00:01\n",
            "\n",
            "Running Validation...\n",
            "  Accuracy: 0.68\n",
            "EarlyStopping counter: 2 out of 3\n",
            "  Validation Loss: 0.75\n",
            "  Validation took: 0:00:00\n",
            "\n",
            "======== Epoch 7 / 30 ========\n",
            "Training...\n",
            "  Batch    10  of    102.    Elapsed: 0:00:00.\n",
            "  Batch    20  of    102.    Elapsed: 0:00:00.\n",
            "  Batch    30  of    102.    Elapsed: 0:00:00.\n",
            "  Batch    40  of    102.    Elapsed: 0:00:01.\n",
            "  Batch    50  of    102.    Elapsed: 0:00:01.\n",
            "  Batch    60  of    102.    Elapsed: 0:00:01.\n",
            "  Batch    70  of    102.    Elapsed: 0:00:01.\n",
            "  Batch    80  of    102.    Elapsed: 0:00:01.\n",
            "  Batch    90  of    102.    Elapsed: 0:00:01.\n",
            "  Batch   100  of    102.    Elapsed: 0:00:01.\n",
            " Train Accuracy: 0.78\n",
            "\n",
            "  Average training loss: 0.61\n",
            "  Training epcoh took: 0:00:01\n",
            "\n",
            "Running Validation...\n",
            "  Accuracy: 0.70\n",
            "EarlyStopping counter: 3 out of 3\n",
            "Early stopping\n",
            "\n",
            "Training complete!\n",
            "Total training took 0:00:10 (h:mm:ss)\n"
          ],
          "name": "stdout"
        }
      ]
    },
    {
      "cell_type": "code",
      "metadata": {
        "colab": {
          "base_uri": "https://localhost:8080/",
          "height": 254
        },
        "id": "k60TbsQxkiVf",
        "outputId": "e75480d3-d7a8-404f-f0ee-92094736b06e"
      },
      "source": [
        "import pandas as pd\n",
        "\n",
        "# Display floats with two decimal places.\n",
        "pd.set_option('precision', 2)\n",
        "\n",
        "# Create a DataFrame from our training statistics.\n",
        "df_stats = pd.DataFrame(data=training_stats)\n",
        "\n",
        "# Use the 'epoch' as the row index.\n",
        "df_stats = df_stats.set_index('epoch')\n",
        "\n",
        "# A hack to force the column headers to wrap.\n",
        "#df = df.style.set_table_styles([dict(selector=\"th\",props=[('max-width', '70px')])])\n",
        "\n",
        "# Display the table.\n",
        "df_stats"
      ],
      "execution_count": 146,
      "outputs": [
        {
          "output_type": "execute_result",
          "data": {
            "text/html": [
              "<div>\n",
              "<style scoped>\n",
              "    .dataframe tbody tr th:only-of-type {\n",
              "        vertical-align: middle;\n",
              "    }\n",
              "\n",
              "    .dataframe tbody tr th {\n",
              "        vertical-align: top;\n",
              "    }\n",
              "\n",
              "    .dataframe thead th {\n",
              "        text-align: right;\n",
              "    }\n",
              "</style>\n",
              "<table border=\"1\" class=\"dataframe\">\n",
              "  <thead>\n",
              "    <tr style=\"text-align: right;\">\n",
              "      <th></th>\n",
              "      <th>Training Loss</th>\n",
              "      <th>Valid. Loss</th>\n",
              "      <th>Valid. Accur.</th>\n",
              "      <th>Training Time</th>\n",
              "      <th>Validation Time</th>\n",
              "    </tr>\n",
              "    <tr>\n",
              "      <th>epoch</th>\n",
              "      <th></th>\n",
              "      <th></th>\n",
              "      <th></th>\n",
              "      <th></th>\n",
              "      <th></th>\n",
              "    </tr>\n",
              "  </thead>\n",
              "  <tbody>\n",
              "    <tr>\n",
              "      <th>1</th>\n",
              "      <td>0.90</td>\n",
              "      <td>0.84</td>\n",
              "      <td>0.62</td>\n",
              "      <td>0:00:01</td>\n",
              "      <td>0:00:00</td>\n",
              "    </tr>\n",
              "    <tr>\n",
              "      <th>2</th>\n",
              "      <td>0.78</td>\n",
              "      <td>0.79</td>\n",
              "      <td>0.66</td>\n",
              "      <td>0:00:01</td>\n",
              "      <td>0:00:00</td>\n",
              "    </tr>\n",
              "    <tr>\n",
              "      <th>3</th>\n",
              "      <td>0.74</td>\n",
              "      <td>0.78</td>\n",
              "      <td>0.69</td>\n",
              "      <td>0:00:01</td>\n",
              "      <td>0:00:00</td>\n",
              "    </tr>\n",
              "    <tr>\n",
              "      <th>4</th>\n",
              "      <td>0.69</td>\n",
              "      <td>0.74</td>\n",
              "      <td>0.69</td>\n",
              "      <td>0:00:01</td>\n",
              "      <td>0:00:00</td>\n",
              "    </tr>\n",
              "    <tr>\n",
              "      <th>5</th>\n",
              "      <td>0.65</td>\n",
              "      <td>0.77</td>\n",
              "      <td>0.66</td>\n",
              "      <td>0:00:01</td>\n",
              "      <td>0:00:00</td>\n",
              "    </tr>\n",
              "    <tr>\n",
              "      <th>6</th>\n",
              "      <td>0.64</td>\n",
              "      <td>0.75</td>\n",
              "      <td>0.68</td>\n",
              "      <td>0:00:01</td>\n",
              "      <td>0:00:00</td>\n",
              "    </tr>\n",
              "  </tbody>\n",
              "</table>\n",
              "</div>"
            ],
            "text/plain": [
              "       Training Loss  Valid. Loss  Valid. Accur. Training Time Validation Time\n",
              "epoch                                                                         \n",
              "1               0.90         0.84           0.62       0:00:01         0:00:00\n",
              "2               0.78         0.79           0.66       0:00:01         0:00:00\n",
              "3               0.74         0.78           0.69       0:00:01         0:00:00\n",
              "4               0.69         0.74           0.69       0:00:01         0:00:00\n",
              "5               0.65         0.77           0.66       0:00:01         0:00:00\n",
              "6               0.64         0.75           0.68       0:00:01         0:00:00"
            ]
          },
          "metadata": {
            "tags": []
          },
          "execution_count": 146
        }
      ]
    },
    {
      "cell_type": "code",
      "metadata": {
        "colab": {
          "base_uri": "https://localhost:8080/",
          "height": 427
        },
        "id": "ZVu3LDvUmjVP",
        "outputId": "f1741b37-4b48-46c1-8630-f18073066f6f"
      },
      "source": [
        "import matplotlib.pyplot as plt\n",
        "% matplotlib inline\n",
        "\n",
        "import seaborn as sns\n",
        "\n",
        "# Use plot styling from seaborn.\n",
        "sns.set(style='darkgrid')\n",
        "\n",
        "# Increase the plot size and font size.\n",
        "sns.set(font_scale=1.5)\n",
        "plt.rcParams[\"figure.figsize\"] = (12,6)\n",
        "\n",
        "# Plot the learning curve.\n",
        "plt.plot(df_stats['Training Loss'], 'b-o', label=\"Training\")\n",
        "plt.plot(df_stats['Valid. Loss'], 'g-o', label=\"Validation\")\n",
        "\n",
        "# Label the plot.\n",
        "plt.title(\"Training & Validation Loss\")\n",
        "plt.xlabel(\"Epoch\")\n",
        "plt.ylabel(\"Loss\")\n",
        "plt.legend()\n",
        "plt.xticks([1, 2, 3, 4,5,6,7,8,9,10,11,12,13,14,15,16,17,18,19,20])\n",
        "\n",
        "plt.show()"
      ],
      "execution_count": 147,
      "outputs": [
        {
          "output_type": "display_data",
          "data": {
            "image/png": "[encoded data removed]",
            "text/plain": [
              "<Figure size 864x432 with 1 Axes>"
            ]
          },
          "metadata": {
            "tags": []
          }
        }
      ]
    },
    {
      "cell_type": "code",
      "metadata": {
        "colab": {
          "base_uri": "https://localhost:8080/"
        },
        "id": "9Xec3fZ2mnaY",
        "outputId": "fb3d0274-1a64-4f5e-9455-11fe7d95b17f"
      },
      "source": [
        "import os\n",
        "\n",
        "\n",
        "output_dir = 'model_IAN_restaurants_no_attention/'\n",
        "\n",
        "# Create output directory if needed\n",
        "if not os.path.exists(output_dir):\n",
        "    os.makedirs(output_dir)\n",
        "\n",
        "print(\"Saving model to %s\" % output_dir)\n",
        "\n",
        "\n"
      ],
      "execution_count": 160,
      "outputs": [
        {
          "output_type": "stream",
          "text": [
            "Saving model to model_IAN_restaurants_no_attention/\n"
          ],
          "name": "stdout"
        }
      ]
    },
    {
      "cell_type": "code",
      "metadata": {
        "id": "f1KaciNsmo9x"
      },
      "source": [
        "  import json\n",
        "  torch.save(model.state_dict(), os.path.join(output_dir, 'model_weights'))\n",
        "  # with open(os.path.join(output_dir, 'model_config.json'), 'w') as f:\n",
        "  #     json.dump(model.config, f)"
      ],
      "execution_count": 161,
      "outputs": []
    },
    {
      "cell_type": "code",
      "metadata": {
        "id": "3enhHd93mpAQ"
      },
      "source": [
        "from google.colab import files\n"
      ],
      "execution_count": 162,
      "outputs": []
    },
    {
      "cell_type": "code",
      "metadata": {
        "colab": {
          "base_uri": "https://localhost:8080/"
        },
        "id": "dTjU581OmpC4",
        "outputId": "04ab7334-5e37-4a6b-defc-11016f979652"
      },
      "source": [
        "!zip -r model_IAN_restaurants_no_attention.zip model_IAN_restaurants_no_attention\n"
      ],
      "execution_count": 163,
      "outputs": [
        {
          "output_type": "stream",
          "text": [
            "  adding: model_IAN_restaurants_no_attention/ (stored 0%)\n",
            "  adding: model_IAN_restaurants_no_attention/model_weights (deflated 11%)\n"
          ],
          "name": "stdout"
        }
      ]
    },
    {
      "cell_type": "code",
      "metadata": {
        "colab": {
          "base_uri": "https://localhost:8080/",
          "height": 17
        },
        "id": "Lt2ItuK6mpHp",
        "outputId": "4c0dc112-5584-4bb8-f55a-a20a0b364f5d"
      },
      "source": [
        "files.download('model_IAN_restaurants_no_attention.zip')"
      ],
      "execution_count": 180,
      "outputs": [
        {
          "output_type": "display_data",
          "data": {
            "application/javascript": [
              "\n",
              "    async function download(id, filename, size) {\n",
              "      if (!google.colab.kernel.accessAllowed) {\n",
              "        return;\n",
              "      }\n",
              "      const div = document.createElement('div');\n",
              "      const label = document.createElement('label');\n",
              "      label.textContent = `Downloading \"${filename}\": `;\n",
              "      div.appendChild(label);\n",
              "      const progress = document.createElement('progress');\n",
              "      progress.max = size;\n",
              "      div.appendChild(progress);\n",
              "      document.body.appendChild(div);\n",
              "\n",
              "      const buffers = [];\n",
              "      let downloaded = 0;\n",
              "\n",
              "      const channel = await google.colab.kernel.comms.open(id);\n",
              "      // Send a message to notify the kernel that we're ready.\n",
              "      channel.send({})\n",
              "\n",
              "      for await (const message of channel.messages) {\n",
              "        // Send a message to notify the kernel that we're ready.\n",
              "        channel.send({})\n",
              "        if (message.buffers) {\n",
              "          for (const buffer of message.buffers) {\n",
              "            buffers.push(buffer);\n",
              "            downloaded += buffer.byteLength;\n",
              "            progress.value = downloaded;\n",
              "          }\n",
              "        }\n",
              "      }\n",
              "      const blob = new Blob(buffers, {type: 'application/binary'});\n",
              "      const a = document.createElement('a');\n",
              "      a.href = window.URL.createObjectURL(blob);\n",
              "      a.download = filename;\n",
              "      div.appendChild(a);\n",
              "      a.click();\n",
              "      div.remove();\n",
              "    }\n",
              "  "
            ],
            "text/plain": [
              "<IPython.core.display.Javascript object>"
            ]
          },
          "metadata": {
            "tags": []
          }
        },
        {
          "output_type": "display_data",
          "data": {
            "application/javascript": [
              "download(\"download_dedab219-d9dd-4036-bc9d-7b5db779d0bd\", \"model_IAN_restaurants_no_attention.zip\", 11459873)"
            ],
            "text/plain": [
              "<IPython.core.display.Javascript object>"
            ]
          },
          "metadata": {
            "tags": []
          }
        }
      ]
    },
    {
      "cell_type": "code",
      "metadata": {
        "colab": {
          "base_uri": "https://localhost:8080/"
        },
        "id": "Xzl9eUD4wg8c",
        "outputId": "b1480c15-7324-491b-9ed3-19b0c32ec697"
      },
      "source": [
        "!unzip model_IAN_restaurants_no_attention.zip"
      ],
      "execution_count": 172,
      "outputs": [
        {
          "output_type": "stream",
          "text": [
            "Archive:  model_IAN_restaurants_no_attention.zip\n",
            "replace model_IAN_restaurants_no_attention/model_weights? [y]es, [n]o, [A]ll, [N]one, [r]ename: y\n",
            "  inflating: model_IAN_restaurants_no_attention/model_weights  \n"
          ],
          "name": "stdout"
        }
      ]
    },
    {
      "cell_type": "code",
      "metadata": {
        "colab": {
          "base_uri": "https://localhost:8080/"
        },
        "id": "DUJtc_j6wn6v",
        "outputId": "d1423092-0df5-4757-85d7-e0562dce662e"
      },
      "source": [
        "model.load_state_dict(torch.load('model_IAN_restaurants_no_attention/model_weights'))"
      ],
      "execution_count": 173,
      "outputs": [
        {
          "output_type": "execute_result",
          "data": {
            "text/plain": [
              "<All keys matched successfully>"
            ]
          },
          "metadata": {
            "tags": []
          },
          "execution_count": 173
        }
      ]
    },
    {
      "cell_type": "code",
      "metadata": {
        "colab": {
          "base_uri": "https://localhost:8080/"
        },
        "id": "ssbC_SvOnAd6",
        "outputId": "3fd8366f-b3b5-466c-baa1-79165d7f3940"
      },
      "source": [
        "\n",
        "# Prediction on test set\n",
        "\n",
        "# print('Predicting labels for {:,} test sentences...'.format(len(input_ids)))\n",
        "\n",
        "# Put model in evaluation mode\n",
        "model.eval()\n",
        "\n",
        "# Tracking variables \n",
        "predictions , true_labels = [], []\n",
        "\n",
        "# Predict \n",
        "for batch in test_iter:\n",
        "  # Add batch to GPU\n",
        "  context_text, context_len = batch.text\n",
        "  context_text = context_text.cuda()\n",
        "\n",
        "  aspect_text, aspect_len = batch.aspect\n",
        "  aspect_text = aspect_text.cuda()\n",
        "  # outs = sigmoid(outs.cpu().data.numpy()).tolist()\n",
        "  y = batch.target.type(torch.long).cuda()\n",
        "\n",
        "  # Telling the model not to compute or store gradients, saving memory and \n",
        "  # speeding up prediction\n",
        "  with torch.no_grad():\n",
        "      # Forward pass, calculate logit predictions\n",
        "    outputs = model.forward(context_text, context_len,aspect_text,aspect_len) \n",
        "\n",
        "  logits = outputs\n",
        "  _,logits = logits.max(dim=1)\n",
        "\n",
        "  # Move logits and labels to CPU\n",
        "  logits = logits.detach().cpu().numpy()\n",
        "  label_ids = y.to('cpu').numpy()\n",
        "  \n",
        "  # Store predictions and true labels\n",
        "  predictions.append(logits)\n",
        "  true_labels.append(label_ids)\n",
        "\n",
        "print('    DONE.')"
      ],
      "execution_count": 174,
      "outputs": [
        {
          "output_type": "stream",
          "text": [
            "    DONE.\n"
          ],
          "name": "stdout"
        }
      ]
    },
    {
      "cell_type": "code",
      "metadata": {
        "id": "QG3UQw5inBAv"
      },
      "source": [
        "flat_predictions = np.concatenate(predictions, axis=0)\n",
        "\n",
        "# flat_predictions = np.argmax(flat_predictions, axis=1).flatten()\n",
        "\n",
        "# Combine the correct labels for each batch into a single list.\n",
        "flat_true_labels = np.concatenate(true_labels, axis=0)"
      ],
      "execution_count": 175,
      "outputs": []
    },
    {
      "cell_type": "code",
      "metadata": {
        "colab": {
          "base_uri": "https://localhost:8080/"
        },
        "id": "AGAR726XnBFP",
        "outputId": "c52d4dbd-38a4-4781-bd27-f1d81a186bc1"
      },
      "source": [
        "flat_predictions"
      ],
      "execution_count": 176,
      "outputs": [
        {
          "output_type": "execute_result",
          "data": {
            "text/plain": [
              "array([1, 2, 0, ..., 1, 2, 2])"
            ]
          },
          "metadata": {
            "tags": []
          },
          "execution_count": 176
        }
      ]
    },
    {
      "cell_type": "code",
      "metadata": {
        "colab": {
          "base_uri": "https://localhost:8080/"
        },
        "id": "iyqbdeY5nBMV",
        "outputId": "58bdd1d3-1621-484d-990d-4d335212f7f3"
      },
      "source": [
        "from sklearn.metrics import accuracy_score\n",
        "accuracy_score(flat_true_labels,flat_predictions)"
      ],
      "execution_count": 177,
      "outputs": [
        {
          "output_type": "execute_result",
          "data": {
            "text/plain": [
              "0.7517857142857143"
            ]
          },
          "metadata": {
            "tags": []
          },
          "execution_count": 177
        }
      ]
    },
    {
      "cell_type": "code",
      "metadata": {
        "id": "sIFROTrunBPE"
      },
      "source": [
        "def accuracy_per_class(preds_flat, labels_flat):\n",
        "\n",
        "    for label in np.unique(labels_flat):\n",
        "        y_preds = preds_flat[labels_flat==label]\n",
        "        y_true = labels_flat[labels_flat==label]\n",
        "        print(f'Class: {get_labels(label)}')\n",
        "        print(f'Accuracy: {len(y_preds[y_preds==label])}/{len(y_true)}\\n')"
      ],
      "execution_count": 178,
      "outputs": []
    },
    {
      "cell_type": "code",
      "metadata": {
        "colab": {
          "base_uri": "https://localhost:8080/"
        },
        "id": "C4puCpQVnBTh",
        "outputId": "53864f0d-ec01-4253-dc38-86fac7dc0429"
      },
      "source": [
        "accuracy_per_class(flat_predictions,flat_true_labels)"
      ],
      "execution_count": 179,
      "outputs": [
        {
          "output_type": "stream",
          "text": [
            "Class: negative\n",
            "Accuracy: 140/196\n",
            "\n",
            "Class: neutral\n",
            "Accuracy: 59/196\n",
            "\n",
            "Class: positive\n",
            "Accuracy: 643/728\n",
            "\n"
          ],
          "name": "stdout"
        }
      ]
    },
    {
      "cell_type": "code",
      "metadata": {
        "id": "WgCeBJhmoAMX"
      },
      "source": [
        ""
      ],
      "execution_count": 153,
      "outputs": []
    }
  ]
}