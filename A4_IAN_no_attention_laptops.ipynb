{
  "nbformat": 4,
  "nbformat_minor": 0,
  "metadata": {
    "colab": {
      "name": "A4_IAN_no_attention_laptops.ipynb",
      "provenance": [],
      "collapsed_sections": []
    },
    "kernelspec": {
      "name": "python3",
      "display_name": "Python 3"
    },
    "language_info": {
      "name": "python"
    },
    "accelerator": "GPU"
  },
  "cells": [
    {
      "cell_type": "code",
      "metadata": {
        "colab": {
          "base_uri": "https://localhost:8080/"
        },
        "id": "DLn1zNbNCI5V",
        "outputId": "ac7ec341-e931-4905-9fb1-63792f87fd9c"
      },
      "source": [
        "import os\n",
        "os.environ['CUDA_LAUNCH_BLOCKING'] = \"1\"\n",
        "import torch\n",
        "import logging\n",
        "logging.basicConfig(level=logging.ERROR)\n",
        "# If there's a GPU available...\n",
        "if torch.cuda.is_available():    \n",
        " \n",
        "    # Tell PyTorch to use the GPU.    \n",
        "    device = torch.device(\"cuda\")\n",
        " \n",
        "    print('There are %d GPU(s) available.' % torch.cuda.device_count())\n",
        " \n",
        "    print('We will use the GPU:', torch.cuda.get_device_name(0))\n",
        " \n",
        "# If not...\n",
        "else:\n",
        "    print('No GPU available, using the CPU instead.')\n",
        "    device = torch.device(\"cpu\")"
      ],
      "execution_count": 1,
      "outputs": [
        {
          "output_type": "stream",
          "text": [
            "There are 1 GPU(s) available.\n",
            "We will use the GPU: Tesla P100-PCIE-16GB\n"
          ],
          "name": "stdout"
        }
      ]
    },
    {
      "cell_type": "code",
      "metadata": {
        "colab": {
          "base_uri": "https://localhost:8080/"
        },
        "id": "z-gUSZcqDNw7",
        "outputId": "c77e906f-dda4-4c1d-8b48-0a55154d4717"
      },
      "source": [
        "!pip install torchtext==0.3.1"
      ],
      "execution_count": 2,
      "outputs": [
        {
          "output_type": "stream",
          "text": [
            "Requirement already satisfied: torchtext==0.3.1 in /usr/local/lib/python3.7/dist-packages (0.3.1)\n",
            "Requirement already satisfied: requests in /usr/local/lib/python3.7/dist-packages (from torchtext==0.3.1) (2.23.0)\n",
            "Requirement already satisfied: tqdm in /usr/local/lib/python3.7/dist-packages (from torchtext==0.3.1) (4.41.1)\n",
            "Requirement already satisfied: torch in /usr/local/lib/python3.7/dist-packages (from torchtext==0.3.1) (1.8.1+cu101)\n",
            "Requirement already satisfied: numpy in /usr/local/lib/python3.7/dist-packages (from torchtext==0.3.1) (1.19.5)\n",
            "Requirement already satisfied: idna<3,>=2.5 in /usr/local/lib/python3.7/dist-packages (from requests->torchtext==0.3.1) (2.10)\n",
            "Requirement already satisfied: urllib3!=1.25.0,!=1.25.1,<1.26,>=1.21.1 in /usr/local/lib/python3.7/dist-packages (from requests->torchtext==0.3.1) (1.24.3)\n",
            "Requirement already satisfied: certifi>=2017.4.17 in /usr/local/lib/python3.7/dist-packages (from requests->torchtext==0.3.1) (2020.12.5)\n",
            "Requirement already satisfied: chardet<4,>=3.0.2 in /usr/local/lib/python3.7/dist-packages (from requests->torchtext==0.3.1) (3.0.4)\n",
            "Requirement already satisfied: typing-extensions in /usr/local/lib/python3.7/dist-packages (from torch->torchtext==0.3.1) (3.7.4.3)\n"
          ],
          "name": "stdout"
        }
      ]
    },
    {
      "cell_type": "code",
      "metadata": {
        "id": "hhfudHQBDcFi"
      },
      "source": [
        "import torchtext\n",
        "text = torchtext.data.Field(lower=True, batch_first=True, tokenize='spacy', include_lengths=True)\n",
        "aspect = torchtext.data.Field(lower=True, batch_first=True, tokenize='spacy', include_lengths=True)\n",
        "\n",
        "target = torchtext.data.Field(sequential=False, use_vocab=False, is_target=True)\n",
        "# use field objects to read training, validation and test sets\n",
        "train = torchtext.data.TabularDataset(path='train_sentiment_absa.csv', format='csv',\n",
        "                                      fields={'text': ('text',text),\n",
        "                                              'aspect_words': ('aspect',aspect),\n",
        "                                              'labels': ('target',target)})\n",
        "val = torchtext.data.TabularDataset(path='val_sentiment_absa.csv', format='csv',\n",
        "                                              fields={'text': ('text',text),\n",
        "                                              'aspect_words': ('aspect',aspect),\n",
        "                                              'labels': ('target',target)})\n",
        "test = torchtext.data.TabularDataset(path='test_sentiment_ABSA.csv', format='csv',\n",
        "                                              fields={'text': ('text',text),\n",
        "                                              'aspect_words': ('aspect',aspect),\n",
        "                                              'labels': ('target',target)})"
      ],
      "execution_count": 3,
      "outputs": []
    },
    {
      "cell_type": "code",
      "metadata": {
        "colab": {
          "base_uri": "https://localhost:8080/"
        },
        "id": "gEVDyluEDdOi",
        "outputId": "fcde46a6-5ae0-408e-a0b0-1ec664334c1c"
      },
      "source": [
        "from sklearn.preprocessing import LabelEncoder\n",
        "import joblib\n",
        "LE =LabelEncoder()\n",
        "LE=joblib.load('sentiment_label_encoder')\n"
      ],
      "execution_count": 4,
      "outputs": [
        {
          "output_type": "stream",
          "text": [
            "/usr/local/lib/python3.7/dist-packages/sklearn/base.py:318: UserWarning: Trying to unpickle estimator LabelEncoder from version 0.22.1 when using version 0.22.2.post1. This might lead to breaking code or invalid results. Use at your own risk.\n",
            "  UserWarning)\n"
          ],
          "name": "stderr"
        }
      ]
    },
    {
      "cell_type": "code",
      "metadata": {
        "id": "QuhZQpggDdRv"
      },
      "source": [
        "def get_labels(prediction):\n",
        "    predicted_label =  LE.inverse_transform([prediction])\n",
        "    return predicted_label[0]"
      ],
      "execution_count": 5,
      "outputs": []
    },
    {
      "cell_type": "code",
      "metadata": {
        "id": "2vaC2rkNDdUJ"
      },
      "source": [
        "text.build_vocab(train, val, test,vectors=\"glove.6B.100d\")\n",
        "aspect.build_vocab(train, val, test,vectors=\"glove.6B.100d\")\n",
        "\n"
      ],
      "execution_count": 6,
      "outputs": []
    },
    {
      "cell_type": "code",
      "metadata": {
        "colab": {
          "base_uri": "https://localhost:8080/"
        },
        "id": "Y2k0I7mADdXG",
        "outputId": "bd107333-f6ea-4a24-9627-d712116fcfb9"
      },
      "source": [
        "print(text.vocab.vectors.shape)\n",
        "print(f\"Unique tokens in text vocabulary: {len(text.vocab)}\")"
      ],
      "execution_count": 7,
      "outputs": [
        {
          "output_type": "stream",
          "text": [
            "torch.Size([3528, 100])\n",
            "Unique tokens in text vocabulary: 3528\n"
          ],
          "name": "stdout"
        }
      ]
    },
    {
      "cell_type": "code",
      "metadata": {
        "id": "NBC5xYgcDdZy"
      },
      "source": [
        "batch_size = 32\n",
        "train_iter = torchtext.data.BucketIterator(dataset=train,\n",
        "                                           batch_size=batch_size,\n",
        "                                           sort_key=lambda x: x.text.__len__(),\n",
        "                                           shuffle=True,\n",
        "                                           sort_within_batch=True) \n",
        "val_iter = torchtext.data.BucketIterator(dataset=val,\n",
        "                                         batch_size=batch_size,\n",
        "                                         sort_key=lambda x: x.text.__len__(),\n",
        "                                         train=False,\n",
        "                                         sort_within_batch=True)\n",
        "test_iter = torchtext.data.BucketIterator(dataset=test,\n",
        "                                          batch_size=batch_size,\n",
        "                                          sort_key=lambda x: x.text.__len__(),\n",
        "                                          sort_within_batch=True)"
      ],
      "execution_count": 8,
      "outputs": []
    },
    {
      "cell_type": "code",
      "metadata": {
        "id": "k97P-uv8Ddch"
      },
      "source": [
        "from torch import nn\n",
        "class IANClassifier(nn.Module):\n",
        "  def __init__(self, pre_trained_aspect,pre_trained_context, hidden_dim=128, lstm_layer=2, dropout=0.2):\n",
        "        super(IANClassifier, self).__init__()\n",
        "        self.dropout = nn.Dropout(p=dropout)\n",
        "        self.aspect_embedding = nn.Embedding.from_pretrained(pre_trained_aspect)\n",
        "        self.context_embedding = nn.Embedding.from_pretrained(pre_trained_context)\n",
        "\n",
        "        self.aspect_embedding.weight.requires_grad = True\n",
        "        self.lstm_aspect = nn.LSTM(input_size=self.aspect_embedding.embedding_dim,\n",
        "                            hidden_size=hidden_dim,\n",
        "                            num_layers=1)\n",
        "        # self.atten1 = Attention(hidden_dim*2, batch_first=True) # 2 is bidrectional\n",
        "        self.lstm_context = nn.LSTM(input_size=self.context_embedding.embedding_dim,\n",
        "                            hidden_size=hidden_dim,\n",
        "                            num_layers=1)\n",
        "        # self.atten2 = Attention(hidden_dim*2, batch_first=True)\n",
        "        # self.fc1 = nn.Sequential(nn.Linear(hidden_dim*lstm_layer*2, hidden_dim*lstm_layer*2),\n",
        "        #                          nn.BatchNorm1d(hidden_dim*lstm_layer*2),\n",
        "        #                          nn.ReLU()) \n",
        "        self.fc = nn.Linear(hidden_dim*2, 3)\n",
        "\n",
        "    \n",
        "  def forward(self, context, context_len, aspect, aspect_len):\n",
        "        context_embed = self.context_embedding(context)\n",
        "        context_embed = self.dropout(context_embed)\n",
        "        \n",
        "        context_packed = nn.utils.rnn.pack_padded_sequence(context_embed, context_len, batch_first=True,enforce_sorted=False)\n",
        "        out1, (h_n, c_n) = self.lstm_context(context_packed)\n",
        "        context_out, lengths = nn.utils.rnn.pad_packed_sequence(out1, batch_first=True)\n",
        "        lengths_tensor = torch.autograd.Variable(torch.FloatTensor(lengths.float())).view(-1,1)\n",
        "        average_pooling_context = torch.sum(context_out,dim=1)/lengths_tensor.to(device)\n",
        "        # print(\"average_pooling\",average_pooling.shape,lengths)\n",
        "\n",
        "        aspect_embed = self.aspect_embedding(aspect)\n",
        "        aspect_embed = self.dropout(aspect_embed)\n",
        "        \n",
        "        aspect_packed = nn.utils.rnn.pack_padded_sequence(aspect_embed, aspect_len, batch_first=True,enforce_sorted=False)\n",
        "        out_aspect, (h_n, c_n) = self.lstm_context(aspect_packed)\n",
        "        aspect_out, lengths = nn.utils.rnn.pad_packed_sequence(out_aspect, batch_first=True)\n",
        "        aspect_lengths_tensor = torch.autograd.Variable(torch.FloatTensor(lengths.float())).view(-1,1)\n",
        "        average_pooling_aspect = torch.sum(aspect_out,dim=1)/aspect_lengths_tensor.to(device)\n",
        "\n",
        "        z = torch.cat((average_pooling_context, average_pooling_aspect), dim=-1)\n",
        "        z = self.dropout(z)\n",
        "        # print(\"z\",z.shape)\n",
        "        out = self.fc(z)\n",
        "        return out\n"
      ],
      "execution_count": 9,
      "outputs": []
    },
    {
      "cell_type": "code",
      "metadata": {
        "id": "Pp5du6h4DdfG"
      },
      "source": [
        "import numpy as np            \n",
        "base_lr, max_lr = 0.001, 0.003\n",
        "model = IANClassifier(aspect.vocab.vectors,text.vocab.vectors, hidden_dim=128, lstm_layer=2, dropout=0.3).cuda()\n",
        "\n",
        "optimizer = torch.optim.Adam(filter(lambda p: p.requires_grad, model.parameters()), \n",
        "                             lr=max_lr)"
      ],
      "execution_count": 10,
      "outputs": []
    },
    {
      "cell_type": "code",
      "metadata": {
        "id": "535vabwcDdh9"
      },
      "source": [
        "\n",
        "\n",
        "epochs = 30\n"
      ],
      "execution_count": 11,
      "outputs": []
    },
    {
      "cell_type": "code",
      "metadata": {
        "id": "hC09isZqDdkq"
      },
      "source": [
        "import numpy as np\n",
        "\n",
        "# Function to calculate the accuracy of our predictions vs labels\n",
        "def flat_accuracy(preds, labels):\n",
        "    pred_flat = np.argmax(preds, axis=1).flatten()\n",
        "    labels_flat = labels.flatten()\n",
        "    return np.sum(pred_flat == labels_flat) / len(labels_flat)"
      ],
      "execution_count": 12,
      "outputs": []
    },
    {
      "cell_type": "code",
      "metadata": {
        "id": "ta6zfUTa3kh7"
      },
      "source": [
        "import time\n",
        "import datetime\n",
        "\n",
        "def format_time(elapsed):\n",
        "    '''\n",
        "    Takes a time in seconds and returns a string hh:mm:ss\n",
        "    '''\n",
        "    # Round to the nearest second.\n",
        "    elapsed_rounded = int(round((elapsed)))\n",
        "    \n",
        "    # Format as hh:mm:ss\n",
        "    return str(datetime.timedelta(seconds=elapsed_rounded))"
      ],
      "execution_count": 13,
      "outputs": []
    },
    {
      "cell_type": "code",
      "metadata": {
        "id": "GFq9gd5kQSHb"
      },
      "source": [
        "import os\n",
        "os.environ['CUDA_LAUNCH_BLOCKING'] = \"1\"\n"
      ],
      "execution_count": 14,
      "outputs": []
    },
    {
      "cell_type": "code",
      "metadata": {
        "id": "y-rKyCrwE7N4",
        "colab": {
          "base_uri": "https://localhost:8080/"
        },
        "outputId": "bf009f3b-3874-42da-fb18-6d81125e4d5d"
      },
      "source": [
        "# model.to(device)\n",
        "model"
      ],
      "execution_count": 15,
      "outputs": [
        {
          "output_type": "execute_result",
          "data": {
            "text/plain": [
              "IANClassifier(\n",
              "  (dropout): Dropout(p=0.3, inplace=False)\n",
              "  (aspect_embedding): Embedding(973, 100)\n",
              "  (context_embedding): Embedding(3528, 100)\n",
              "  (lstm_aspect): LSTM(100, 128)\n",
              "  (lstm_context): LSTM(100, 128)\n",
              "  (fc): Linear(in_features=256, out_features=3, bias=True)\n",
              ")"
            ]
          },
          "metadata": {
            "tags": []
          },
          "execution_count": 15
        }
      ]
    },
    {
      "cell_type": "code",
      "metadata": {
        "id": "a_nmuoSgQ5t3"
      },
      "source": [
        "class EarlyStopping:\n",
        "    \"\"\"Early stops the training if validation loss doesn't improve after a given patience.\"\"\"\n",
        "    def __init__(self, patience=7, verbose=False, delta=0, path='checkpoint.pt', trace_func=print):\n",
        "        \"\"\"\n",
        "        Args:\n",
        "            patience (int): How long to wait after last time validation loss improved.\n",
        "                            Default: 7\n",
        "            verbose (bool): If True, prints a message for each validation loss improvement. \n",
        "                            Default: False\n",
        "            delta (float): Minimum change in the monitored quantity to qualify as an improvement.\n",
        "                            Default: 0\n",
        "            path (str): Path for the checkpoint to be saved to.\n",
        "                            Default: 'checkpoint.pt'\n",
        "            trace_func (function): trace print function.\n",
        "                            Default: print            \n",
        "        \"\"\"\n",
        "        self.patience = patience\n",
        "        self.verbose = verbose\n",
        "        self.counter = 0\n",
        "        self.best_score = None\n",
        "        self.early_stop = False\n",
        "        self.val_loss_min = np.Inf\n",
        "        self.delta = delta\n",
        "        self.path = path\n",
        "        self.trace_func = trace_func\n",
        "    def __call__(self, val_loss, model):\n",
        "\n",
        "        score = -val_loss\n",
        "\n",
        "        if self.best_score is None:\n",
        "            self.best_score = score\n",
        "            self.save_checkpoint(val_loss, model)\n",
        "        elif score < self.best_score + self.delta:\n",
        "            self.counter += 1\n",
        "            self.trace_func(f'EarlyStopping counter: {self.counter} out of {self.patience}')\n",
        "            if self.counter >= self.patience:\n",
        "                self.early_stop = True\n",
        "        else:\n",
        "            self.best_score = score\n",
        "            self.save_checkpoint(val_loss, model)\n",
        "            self.counter = 0\n",
        "\n",
        "    def save_checkpoint(self, val_loss, model):\n",
        "        '''Saves model when validation loss decrease.'''\n",
        "        if self.verbose:\n",
        "            self.trace_func(f'Validation loss decreased ({self.val_loss_min:.6f} --> {val_loss:.6f}).  Saving model ...')\n",
        "        torch.save(model.state_dict(), self.path)\n",
        "        self.val_loss_min = val_loss"
      ],
      "execution_count": 16,
      "outputs": []
    },
    {
      "cell_type": "code",
      "metadata": {
        "id": "ZU11TINmyrO2"
      },
      "source": [
        "loss_func = nn.CrossEntropyLoss()"
      ],
      "execution_count": 17,
      "outputs": []
    },
    {
      "cell_type": "code",
      "metadata": {
        "id": "7T3CSPydh2LY"
      },
      "source": [
        "# for i in range(1000000000000000000000):\n",
        "#   j=i"
      ],
      "execution_count": 18,
      "outputs": []
    },
    {
      "cell_type": "code",
      "metadata": {
        "colab": {
          "base_uri": "https://localhost:8080/"
        },
        "id": "OFBf8rQZiDge",
        "outputId": "e27a843d-92e5-4d73-e751-d18f153fe4ee"
      },
      "source": [
        "import random\n",
        "import numpy as np\n",
        "import torch.nn.functional as F\n",
        "\n",
        "seed_val = 42\n",
        "\n",
        "random.seed(seed_val)\n",
        "np.random.seed(seed_val)\n",
        "torch.manual_seed(seed_val)\n",
        "torch.cuda.manual_seed_all(seed_val)\n",
        "\n",
        "# We'll store a number of quantities such as training and validation loss, \n",
        "# validation accuracy, and timings.\n",
        "training_stats = []\n",
        "\n",
        "# Measure the total training time for the whole run.\n",
        "total_t0 = time.time()\n",
        "early_stopping = EarlyStopping(patience=3, verbose=True)\n",
        "# For each epoch...\n",
        "for epoch_i in range(0, epochs):\n",
        "    \n",
        "    # ========================================\n",
        "    #               Training\n",
        "    # ========================================\n",
        "    \n",
        "    # Perform one full pass over the training set.\n",
        "\n",
        "    print(\"\")\n",
        "    print('======== Epoch {:} / {:} ========'.format(epoch_i + 1, epochs))\n",
        "    print('Training...')\n",
        "\n",
        "    # Measure how long the training epoch takes.\n",
        "    t0 = time.time()\n",
        "\n",
        "    # Reset the total loss for this epoch.\n",
        "    total_train_accuracy = 0\n",
        "    total_train_loss = 0\n",
        "\n",
        "   \n",
        "    model.train()\n",
        "\n",
        "    # For each batch of training data...\n",
        "    for step, batch in enumerate(train_iter):\n",
        "\n",
        "        # Progress update every 40 batches.\n",
        "        if step % 10 == 0 and not step == 0:\n",
        "            # Calculate elapsed time in minutes.\n",
        "            elapsed = format_time(time.time() - t0)\n",
        "            \n",
        "            # Report progress.\n",
        "            print('  Batch {:>5,}  of  {:>5,}.    Elapsed: {:}.'.format(step, len(train_iter), elapsed))\n",
        "\n",
        "        context_text, context_len = batch.text\n",
        "        aspect_text,aspect_len = batch.aspect\n",
        "        context_text = context_text.cuda()\n",
        "        aspect_text = aspect_text.cuda()\n",
        "        y = batch.target.type(torch.long).cuda()\n",
        "        # compute forward pass\n",
        "        model.zero_grad()        \n",
        "\n",
        "        probas = model.forward(context_text, context_len, aspect_text, aspect_len)\n",
        "\n",
        "\n",
        "\n",
        "        # Accumulate the training loss over all of the batches so that we can\n",
        "   \n",
        "        loss = loss_func(probas, y)\n",
        "        total_train_loss += loss.item()\n",
        "\n",
        "        # Perform a backward pass to calculate the gradients.\n",
        "        loss.backward()\n",
        "\n",
        "\n",
        "\n",
        "\n",
        "        optimizer.step()\n",
        "\n",
        "        # Update the learning rate.\n",
        "        # scheduler.batch_step()\n",
        "        logits = probas.detach().cpu().numpy()\n",
        "        label_ids = y.to('cpu').numpy()\n",
        "        total_train_accuracy += flat_accuracy(logits, label_ids)\n",
        "    avg_train_accuracy = total_train_accuracy / len(train_iter)\n",
        "    print(\" Train Accuracy: {0:.2f}\".format(avg_train_accuracy))\n",
        "\n",
        "    # Calculate the average loss over all of the batches.\n",
        "    avg_train_loss = total_train_loss / len(train_iter) \n",
        "\n",
        "            \n",
        "    \n",
        "    # Measure how long this epoch took.\n",
        "    training_time = format_time(time.time() - t0)\n",
        "\n",
        "    print(\"\")\n",
        "    print(\"  Average training loss: {0:.2f}\".format(avg_train_loss))\n",
        "    print(\"  Training epcoh took: {:}\".format(training_time))\n",
        "        \n",
        "    # ========================================\n",
        "    #               Validation\n",
        "    # ========================================\n",
        "    # After the completion of each training epoch, measure our performance on\n",
        "    # our validation set.\n",
        "\n",
        "    print(\"\")\n",
        "    print(\"Running Validation...\")\n",
        "\n",
        "    t0 = time.time()\n",
        "\n",
        "    # Put the model in evaluation mode--the dropout layers behave differently\n",
        "    # during evaluation.\n",
        "    model.eval()\n",
        "\n",
        "    # Tracking variables \n",
        "    total_eval_accuracy = 0\n",
        "    total_eval_loss = 0\n",
        "    nb_eval_steps = 0\n",
        "\n",
        "    # Evaluate data for one epoch\n",
        "    for batch in val_iter:\n",
        "        \n",
        "        context_text, context_len = batch.text\n",
        "        aspect_text,aspect_len = batch.aspect\n",
        "        context_text = context_text.cuda()\n",
        "        aspect_text = aspect_text.cuda()\n",
        "        y = batch.target.type(torch.long).cuda()      \n",
        "\n",
        "        \n",
        "   \n",
        "        with torch.no_grad():        \n",
        "          logits = model.forward(context_text, context_len, aspect_text, aspect_len)            \n",
        "        # Accumulate the validation loss.\n",
        "        loss_func = nn.CrossEntropyLoss()\n",
        "        loss = loss_func(logits, y)\n",
        "        total_eval_loss += loss.item()\n",
        "\n",
        "        # Move logits and labels to CPU\n",
        "        logits = logits.detach().cpu().numpy()\n",
        "        label_ids = y.to('cpu').numpy()\n",
        "\n",
        "        # Calculate the accuracy for this batch of test sentences, and\n",
        "        # accumulate it over all batches.\n",
        "        total_eval_accuracy += flat_accuracy(logits, label_ids)\n",
        "        \n",
        "\n",
        "    # Report the final accuracy for this validation run.\n",
        "    avg_val_accuracy = total_eval_accuracy / len(val_iter)\n",
        "    print(\"  Accuracy: {0:.2f}\".format(avg_val_accuracy))\n",
        "\n",
        "    # Calculate the average loss over all of the batches.\n",
        "    avg_val_loss = total_eval_loss / len(val_iter)\n",
        "    early_stopping(avg_val_loss, model)\n",
        "    if early_stopping.early_stop:\n",
        "      print(\"Early stopping\")\n",
        "      break    \n",
        "    # Measure how long the validation run took.\n",
        "    validation_time = format_time(time.time() - t0)\n",
        "    \n",
        "    print(\"  Validation Loss: {0:.2f}\".format(avg_val_loss))\n",
        "    print(\"  Validation took: {:}\".format(validation_time))\n",
        "\n",
        "    # Record all statistics from this epoch.\n",
        "    training_stats.append(\n",
        "        {\n",
        "            'epoch': epoch_i + 1,\n",
        "            'Training Loss': avg_train_loss,\n",
        "            'Valid. Loss': avg_val_loss,\n",
        "            'Valid. Accur.': avg_val_accuracy,\n",
        "            'Training Time': training_time,\n",
        "            'Validation Time': validation_time\n",
        "        }\n",
        "    )\n",
        "\n",
        "print(\"\")\n",
        "print(\"Training complete!\")\n",
        "\n",
        "print(\"Total training took {:} (h:mm:ss)\".format(format_time(time.time()-total_t0)))"
      ],
      "execution_count": 19,
      "outputs": [
        {
          "output_type": "stream",
          "text": [
            "\n",
            "======== Epoch 1 / 30 ========\n",
            "Training...\n",
            "  Batch    10  of     66.    Elapsed: 0:00:00.\n",
            "  Batch    20  of     66.    Elapsed: 0:00:00.\n",
            "  Batch    30  of     66.    Elapsed: 0:00:00.\n",
            "  Batch    40  of     66.    Elapsed: 0:00:00.\n",
            "  Batch    50  of     66.    Elapsed: 0:00:00.\n",
            "  Batch    60  of     66.    Elapsed: 0:00:01.\n",
            " Train Accuracy: 0.52\n",
            "\n",
            "  Average training loss: 0.97\n",
            "  Training epcoh took: 0:00:01\n",
            "\n",
            "Running Validation...\n",
            "  Accuracy: 0.51\n",
            "Validation loss decreased (inf --> 0.974533).  Saving model ...\n",
            "  Validation Loss: 0.97\n",
            "  Validation took: 0:00:00\n",
            "\n",
            "======== Epoch 2 / 30 ========\n",
            "Training...\n",
            "  Batch    10  of     66.    Elapsed: 0:00:00.\n",
            "  Batch    20  of     66.    Elapsed: 0:00:00.\n",
            "  Batch    30  of     66.    Elapsed: 0:00:00.\n",
            "  Batch    40  of     66.    Elapsed: 0:00:00.\n",
            "  Batch    50  of     66.    Elapsed: 0:00:00.\n",
            "  Batch    60  of     66.    Elapsed: 0:00:01.\n",
            " Train Accuracy: 0.63\n",
            "\n",
            "  Average training loss: 0.83\n",
            "  Training epcoh took: 0:00:01\n",
            "\n",
            "Running Validation...\n",
            "  Accuracy: 0.66\n",
            "Validation loss decreased (0.974533 --> 0.812008).  Saving model ...\n",
            "  Validation Loss: 0.81\n",
            "  Validation took: 0:00:00\n",
            "\n",
            "======== Epoch 3 / 30 ========\n",
            "Training...\n",
            "  Batch    10  of     66.    Elapsed: 0:00:00.\n",
            "  Batch    20  of     66.    Elapsed: 0:00:00.\n",
            "  Batch    30  of     66.    Elapsed: 0:00:00.\n",
            "  Batch    40  of     66.    Elapsed: 0:00:00.\n",
            "  Batch    50  of     66.    Elapsed: 0:00:00.\n",
            "  Batch    60  of     66.    Elapsed: 0:00:01.\n",
            " Train Accuracy: 0.68\n",
            "\n",
            "  Average training loss: 0.74\n",
            "  Training epcoh took: 0:00:01\n",
            "\n",
            "Running Validation...\n",
            "  Accuracy: 0.71\n",
            "Validation loss decreased (0.812008 --> 0.797550).  Saving model ...\n",
            "  Validation Loss: 0.80\n",
            "  Validation took: 0:00:00\n",
            "\n",
            "======== Epoch 4 / 30 ========\n",
            "Training...\n",
            "  Batch    10  of     66.    Elapsed: 0:00:00.\n",
            "  Batch    20  of     66.    Elapsed: 0:00:00.\n",
            "  Batch    30  of     66.    Elapsed: 0:00:00.\n",
            "  Batch    40  of     66.    Elapsed: 0:00:00.\n",
            "  Batch    50  of     66.    Elapsed: 0:00:00.\n",
            "  Batch    60  of     66.    Elapsed: 0:00:01.\n",
            " Train Accuracy: 0.72\n",
            "\n",
            "  Average training loss: 0.67\n",
            "  Training epcoh took: 0:00:01\n",
            "\n",
            "Running Validation...\n",
            "  Accuracy: 0.71\n",
            "Validation loss decreased (0.797550 --> 0.792218).  Saving model ...\n",
            "  Validation Loss: 0.79\n",
            "  Validation took: 0:00:00\n",
            "\n",
            "======== Epoch 5 / 30 ========\n",
            "Training...\n",
            "  Batch    10  of     66.    Elapsed: 0:00:00.\n",
            "  Batch    20  of     66.    Elapsed: 0:00:00.\n",
            "  Batch    30  of     66.    Elapsed: 0:00:00.\n",
            "  Batch    40  of     66.    Elapsed: 0:00:00.\n",
            "  Batch    50  of     66.    Elapsed: 0:00:00.\n",
            "  Batch    60  of     66.    Elapsed: 0:00:01.\n",
            " Train Accuracy: 0.74\n",
            "\n",
            "  Average training loss: 0.64\n",
            "  Training epcoh took: 0:00:01\n",
            "\n",
            "Running Validation...\n",
            "  Accuracy: 0.71\n",
            "EarlyStopping counter: 1 out of 3\n",
            "  Validation Loss: 0.82\n",
            "  Validation took: 0:00:00\n",
            "\n",
            "======== Epoch 6 / 30 ========\n",
            "Training...\n",
            "  Batch    10  of     66.    Elapsed: 0:00:00.\n",
            "  Batch    20  of     66.    Elapsed: 0:00:00.\n",
            "  Batch    30  of     66.    Elapsed: 0:00:00.\n",
            "  Batch    40  of     66.    Elapsed: 0:00:00.\n",
            "  Batch    50  of     66.    Elapsed: 0:00:00.\n",
            "  Batch    60  of     66.    Elapsed: 0:00:01.\n",
            " Train Accuracy: 0.76\n",
            "\n",
            "  Average training loss: 0.58\n",
            "  Training epcoh took: 0:00:01\n",
            "\n",
            "Running Validation...\n",
            "  Accuracy: 0.74\n",
            "Validation loss decreased (0.792218 --> 0.770284).  Saving model ...\n",
            "  Validation Loss: 0.77\n",
            "  Validation took: 0:00:00\n",
            "\n",
            "======== Epoch 7 / 30 ========\n",
            "Training...\n",
            "  Batch    10  of     66.    Elapsed: 0:00:00.\n",
            "  Batch    20  of     66.    Elapsed: 0:00:00.\n",
            "  Batch    30  of     66.    Elapsed: 0:00:00.\n",
            "  Batch    40  of     66.    Elapsed: 0:00:00.\n",
            "  Batch    50  of     66.    Elapsed: 0:00:00.\n",
            "  Batch    60  of     66.    Elapsed: 0:00:01.\n",
            " Train Accuracy: 0.78\n",
            "\n",
            "  Average training loss: 0.54\n",
            "  Training epcoh took: 0:00:01\n",
            "\n",
            "Running Validation...\n",
            "  Accuracy: 0.70\n",
            "EarlyStopping counter: 1 out of 3\n",
            "  Validation Loss: 0.83\n",
            "  Validation took: 0:00:00\n",
            "\n",
            "======== Epoch 8 / 30 ========\n",
            "Training...\n",
            "  Batch    10  of     66.    Elapsed: 0:00:00.\n",
            "  Batch    20  of     66.    Elapsed: 0:00:00.\n",
            "  Batch    30  of     66.    Elapsed: 0:00:00.\n",
            "  Batch    40  of     66.    Elapsed: 0:00:00.\n",
            "  Batch    50  of     66.    Elapsed: 0:00:00.\n",
            "  Batch    60  of     66.    Elapsed: 0:00:01.\n",
            " Train Accuracy: 0.81\n",
            "\n",
            "  Average training loss: 0.48\n",
            "  Training epcoh took: 0:00:01\n",
            "\n",
            "Running Validation...\n",
            "  Accuracy: 0.74\n",
            "EarlyStopping counter: 2 out of 3\n",
            "  Validation Loss: 0.85\n",
            "  Validation took: 0:00:00\n",
            "\n",
            "======== Epoch 9 / 30 ========\n",
            "Training...\n",
            "  Batch    10  of     66.    Elapsed: 0:00:00.\n",
            "  Batch    20  of     66.    Elapsed: 0:00:00.\n",
            "  Batch    30  of     66.    Elapsed: 0:00:00.\n",
            "  Batch    40  of     66.    Elapsed: 0:00:00.\n",
            "  Batch    50  of     66.    Elapsed: 0:00:00.\n",
            "  Batch    60  of     66.    Elapsed: 0:00:01.\n",
            " Train Accuracy: 0.82\n",
            "\n",
            "  Average training loss: 0.46\n",
            "  Training epcoh took: 0:00:01\n",
            "\n",
            "Running Validation...\n",
            "  Accuracy: 0.72\n",
            "EarlyStopping counter: 3 out of 3\n",
            "Early stopping\n",
            "\n",
            "Training complete!\n",
            "Total training took 0:00:06 (h:mm:ss)\n"
          ],
          "name": "stdout"
        }
      ]
    },
    {
      "cell_type": "code",
      "metadata": {
        "colab": {
          "base_uri": "https://localhost:8080/",
          "height": 314
        },
        "id": "k60TbsQxkiVf",
        "outputId": "a477a92a-4c47-47d1-d610-fcf7ee8a89e3"
      },
      "source": [
        "import pandas as pd\n",
        "\n",
        "# Display floats with two decimal places.\n",
        "pd.set_option('precision', 2)\n",
        "\n",
        "# Create a DataFrame from our training statistics.\n",
        "df_stats = pd.DataFrame(data=training_stats)\n",
        "\n",
        "# Use the 'epoch' as the row index.\n",
        "df_stats = df_stats.set_index('epoch')\n",
        "\n",
        "# A hack to force the column headers to wrap.\n",
        "#df = df.style.set_table_styles([dict(selector=\"th\",props=[('max-width', '70px')])])\n",
        "\n",
        "# Display the table.\n",
        "df_stats"
      ],
      "execution_count": 20,
      "outputs": [
        {
          "output_type": "execute_result",
          "data": {
            "text/html": [
              "<div>\n",
              "<style scoped>\n",
              "    .dataframe tbody tr th:only-of-type {\n",
              "        vertical-align: middle;\n",
              "    }\n",
              "\n",
              "    .dataframe tbody tr th {\n",
              "        vertical-align: top;\n",
              "    }\n",
              "\n",
              "    .dataframe thead th {\n",
              "        text-align: right;\n",
              "    }\n",
              "</style>\n",
              "<table border=\"1\" class=\"dataframe\">\n",
              "  <thead>\n",
              "    <tr style=\"text-align: right;\">\n",
              "      <th></th>\n",
              "      <th>Training Loss</th>\n",
              "      <th>Valid. Loss</th>\n",
              "      <th>Valid. Accur.</th>\n",
              "      <th>Training Time</th>\n",
              "      <th>Validation Time</th>\n",
              "    </tr>\n",
              "    <tr>\n",
              "      <th>epoch</th>\n",
              "      <th></th>\n",
              "      <th></th>\n",
              "      <th></th>\n",
              "      <th></th>\n",
              "      <th></th>\n",
              "    </tr>\n",
              "  </thead>\n",
              "  <tbody>\n",
              "    <tr>\n",
              "      <th>1</th>\n",
              "      <td>0.97</td>\n",
              "      <td>0.97</td>\n",
              "      <td>0.51</td>\n",
              "      <td>0:00:01</td>\n",
              "      <td>0:00:00</td>\n",
              "    </tr>\n",
              "    <tr>\n",
              "      <th>2</th>\n",
              "      <td>0.83</td>\n",
              "      <td>0.81</td>\n",
              "      <td>0.66</td>\n",
              "      <td>0:00:01</td>\n",
              "      <td>0:00:00</td>\n",
              "    </tr>\n",
              "    <tr>\n",
              "      <th>3</th>\n",
              "      <td>0.74</td>\n",
              "      <td>0.80</td>\n",
              "      <td>0.71</td>\n",
              "      <td>0:00:01</td>\n",
              "      <td>0:00:00</td>\n",
              "    </tr>\n",
              "    <tr>\n",
              "      <th>4</th>\n",
              "      <td>0.67</td>\n",
              "      <td>0.79</td>\n",
              "      <td>0.71</td>\n",
              "      <td>0:00:01</td>\n",
              "      <td>0:00:00</td>\n",
              "    </tr>\n",
              "    <tr>\n",
              "      <th>5</th>\n",
              "      <td>0.64</td>\n",
              "      <td>0.82</td>\n",
              "      <td>0.71</td>\n",
              "      <td>0:00:01</td>\n",
              "      <td>0:00:00</td>\n",
              "    </tr>\n",
              "    <tr>\n",
              "      <th>6</th>\n",
              "      <td>0.58</td>\n",
              "      <td>0.77</td>\n",
              "      <td>0.74</td>\n",
              "      <td>0:00:01</td>\n",
              "      <td>0:00:00</td>\n",
              "    </tr>\n",
              "    <tr>\n",
              "      <th>7</th>\n",
              "      <td>0.54</td>\n",
              "      <td>0.83</td>\n",
              "      <td>0.70</td>\n",
              "      <td>0:00:01</td>\n",
              "      <td>0:00:00</td>\n",
              "    </tr>\n",
              "    <tr>\n",
              "      <th>8</th>\n",
              "      <td>0.48</td>\n",
              "      <td>0.85</td>\n",
              "      <td>0.74</td>\n",
              "      <td>0:00:01</td>\n",
              "      <td>0:00:00</td>\n",
              "    </tr>\n",
              "  </tbody>\n",
              "</table>\n",
              "</div>"
            ],
            "text/plain": [
              "       Training Loss  Valid. Loss  Valid. Accur. Training Time Validation Time\n",
              "epoch                                                                         \n",
              "1               0.97         0.97           0.51       0:00:01         0:00:00\n",
              "2               0.83         0.81           0.66       0:00:01         0:00:00\n",
              "3               0.74         0.80           0.71       0:00:01         0:00:00\n",
              "4               0.67         0.79           0.71       0:00:01         0:00:00\n",
              "5               0.64         0.82           0.71       0:00:01         0:00:00\n",
              "6               0.58         0.77           0.74       0:00:01         0:00:00\n",
              "7               0.54         0.83           0.70       0:00:01         0:00:00\n",
              "8               0.48         0.85           0.74       0:00:01         0:00:00"
            ]
          },
          "metadata": {
            "tags": []
          },
          "execution_count": 20
        }
      ]
    },
    {
      "cell_type": "code",
      "metadata": {
        "colab": {
          "base_uri": "https://localhost:8080/",
          "height": 427
        },
        "id": "ZVu3LDvUmjVP",
        "outputId": "62c50ae8-382f-45e4-88f5-dad082881f1e"
      },
      "source": [
        "import matplotlib.pyplot as plt\n",
        "% matplotlib inline\n",
        "\n",
        "import seaborn as sns\n",
        "\n",
        "# Use plot styling from seaborn.\n",
        "sns.set(style='darkgrid')\n",
        "\n",
        "# Increase the plot size and font size.\n",
        "sns.set(font_scale=1.5)\n",
        "plt.rcParams[\"figure.figsize\"] = (12,6)\n",
        "\n",
        "# Plot the learning curve.\n",
        "plt.plot(df_stats['Training Loss'], 'b-o', label=\"Training\")\n",
        "plt.plot(df_stats['Valid. Loss'], 'g-o', label=\"Validation\")\n",
        "\n",
        "# Label the plot.\n",
        "plt.title(\"Training & Validation Loss\")\n",
        "plt.xlabel(\"Epoch\")\n",
        "plt.ylabel(\"Loss\")\n",
        "plt.legend()\n",
        "plt.xticks([1, 2, 3, 4,5,6,7,8,9,10,11,12,13,14,15,16,17,18,19,20])\n",
        "\n",
        "plt.show()"
      ],
      "execution_count": 21,
      "outputs": [
        {
          "output_type": "display_data",
          "data": {
            "image/png": "[encoded data removed]",
            "text/plain": [
              "<Figure size 864x432 with 1 Axes>"
            ]
          },
          "metadata": {
            "tags": []
          }
        }
      ]
    },
    {
      "cell_type": "code",
      "metadata": {
        "colab": {
          "base_uri": "https://localhost:8080/"
        },
        "id": "9Xec3fZ2mnaY",
        "outputId": "947f98d9-86c8-4ffe-9188-6a3a302dabe4"
      },
      "source": [
        "import os\n",
        "\n",
        "\n",
        "output_dir = 'model_IAN_laptops_no_attention/'\n",
        "\n",
        "# Create output directory if needed\n",
        "if not os.path.exists(output_dir):\n",
        "    os.makedirs(output_dir)\n",
        "\n",
        "print(\"Saving model to %s\" % output_dir)\n",
        "\n",
        "\n"
      ],
      "execution_count": 22,
      "outputs": [
        {
          "output_type": "stream",
          "text": [
            "Saving model to model_IAN_laptops_no_attention/\n"
          ],
          "name": "stdout"
        }
      ]
    },
    {
      "cell_type": "code",
      "metadata": {
        "id": "f1KaciNsmo9x"
      },
      "source": [
        "  import json\n",
        "  torch.save(model.state_dict(), os.path.join(output_dir, 'model_weights'))\n",
        "  # with open(os.path.join(output_dir, 'model_config.json'), 'w') as f:\n",
        "  #     json.dump(model.config, f)"
      ],
      "execution_count": 23,
      "outputs": []
    },
    {
      "cell_type": "code",
      "metadata": {
        "id": "3enhHd93mpAQ"
      },
      "source": [
        "from google.colab import files\n"
      ],
      "execution_count": 24,
      "outputs": []
    },
    {
      "cell_type": "code",
      "metadata": {
        "colab": {
          "base_uri": "https://localhost:8080/"
        },
        "id": "dTjU581OmpC4",
        "outputId": "29dc51e5-41ef-4544-ea7d-4ccee6a8803c"
      },
      "source": [
        "!zip -r model_IAN_laptops_no_attention.zip model_IAN_laptops_no_attention\n"
      ],
      "execution_count": 26,
      "outputs": [
        {
          "output_type": "stream",
          "text": [
            "  adding: model_IAN_laptops_no_attention/ (stored 0%)\n",
            "  adding: model_IAN_laptops_no_attention/model_weights (deflated 11%)\n"
          ],
          "name": "stdout"
        }
      ]
    },
    {
      "cell_type": "code",
      "metadata": {
        "colab": {
          "base_uri": "https://localhost:8080/",
          "height": 17
        },
        "id": "Lt2ItuK6mpHp",
        "outputId": "dee1e425-8a71-4051-80dc-6b9cf00cf2b0"
      },
      "source": [
        "files.download('model_IAN_laptops_no_attention.zip')"
      ],
      "execution_count": 27,
      "outputs": [
        {
          "output_type": "display_data",
          "data": {
            "application/javascript": [
              "\n",
              "    async function download(id, filename, size) {\n",
              "      if (!google.colab.kernel.accessAllowed) {\n",
              "        return;\n",
              "      }\n",
              "      const div = document.createElement('div');\n",
              "      const label = document.createElement('label');\n",
              "      label.textContent = `Downloading \"${filename}\": `;\n",
              "      div.appendChild(label);\n",
              "      const progress = document.createElement('progress');\n",
              "      progress.max = size;\n",
              "      div.appendChild(progress);\n",
              "      document.body.appendChild(div);\n",
              "\n",
              "      const buffers = [];\n",
              "      let downloaded = 0;\n",
              "\n",
              "      const channel = await google.colab.kernel.comms.open(id);\n",
              "      // Send a message to notify the kernel that we're ready.\n",
              "      channel.send({})\n",
              "\n",
              "      for await (const message of channel.messages) {\n",
              "        // Send a message to notify the kernel that we're ready.\n",
              "        channel.send({})\n",
              "        if (message.buffers) {\n",
              "          for (const buffer of message.buffers) {\n",
              "            buffers.push(buffer);\n",
              "            downloaded += buffer.byteLength;\n",
              "            progress.value = downloaded;\n",
              "          }\n",
              "        }\n",
              "      }\n",
              "      const blob = new Blob(buffers, {type: 'application/binary'});\n",
              "      const a = document.createElement('a');\n",
              "      a.href = window.URL.createObjectURL(blob);\n",
              "      a.download = filename;\n",
              "      div.appendChild(a);\n",
              "      a.click();\n",
              "      div.remove();\n",
              "    }\n",
              "  "
            ],
            "text/plain": [
              "<IPython.core.display.Javascript object>"
            ]
          },
          "metadata": {
            "tags": []
          }
        },
        {
          "output_type": "display_data",
          "data": {
            "application/javascript": [
              "download(\"download_5cdef90f-230a-46b2-a71a-0e2a4d4c961a\", \"model_IAN_laptops_no_attention.zip\", 2444476)"
            ],
            "text/plain": [
              "<IPython.core.display.Javascript object>"
            ]
          },
          "metadata": {
            "tags": []
          }
        }
      ]
    },
    {
      "cell_type": "code",
      "metadata": {
        "colab": {
          "base_uri": "https://localhost:8080/"
        },
        "id": "ssbC_SvOnAd6",
        "outputId": "1d48a75d-d5f3-40b5-c5db-d7b62ab0cdf0"
      },
      "source": [
        "# Prediction on test set\n",
        "\n",
        "# print('Predicting labels for {:,} test sentences...'.format(len(input_ids)))\n",
        "\n",
        "# Put model in evaluation mode\n",
        "model.eval()\n",
        "\n",
        "# Tracking variables \n",
        "predictions , true_labels = [], []\n",
        "\n",
        "# Predict \n",
        "for batch in test_iter:\n",
        "  # Add batch to GPU\n",
        "  context_text, context_len = batch.text\n",
        "  context_text = context_text.cuda()\n",
        "\n",
        "  aspect_text, aspect_len = batch.aspect\n",
        "  aspect_text = aspect_text.cuda()\n",
        "  # outs = sigmoid(outs.cpu().data.numpy()).tolist()\n",
        "  y = batch.target.type(torch.long).cuda()\n",
        "\n",
        "  # Telling the model not to compute or store gradients, saving memory and \n",
        "  # speeding up prediction\n",
        "  with torch.no_grad():\n",
        "      # Forward pass, calculate logit predictions\n",
        "    outputs = model.forward(context_text, context_len,aspect_text,aspect_len) \n",
        "\n",
        "  logits = outputs\n",
        "\n",
        "  # Move logits and labels to CPU\n",
        "  logits = logits.detach().cpu().numpy()\n",
        "  label_ids = y.to('cpu').numpy()\n",
        "  \n",
        "  # Store predictions and true labels\n",
        "  predictions.append(logits)\n",
        "  true_labels.append(label_ids)\n",
        "\n",
        "print('    DONE.')"
      ],
      "execution_count": 28,
      "outputs": [
        {
          "output_type": "stream",
          "text": [
            "    DONE.\n"
          ],
          "name": "stdout"
        }
      ]
    },
    {
      "cell_type": "code",
      "metadata": {
        "id": "QG3UQw5inBAv"
      },
      "source": [
        "flat_predictions = np.concatenate(predictions, axis=0)\n",
        "\n",
        "flat_predictions = np.argmax(flat_predictions, axis=1).flatten()\n",
        "\n",
        "# Combine the correct labels for each batch into a single list.\n",
        "flat_true_labels = np.concatenate(true_labels, axis=0)"
      ],
      "execution_count": 29,
      "outputs": []
    },
    {
      "cell_type": "code",
      "metadata": {
        "colab": {
          "base_uri": "https://localhost:8080/"
        },
        "id": "AGAR726XnBFP",
        "outputId": "dfd1e9f7-e347-4642-fb07-7516383890c4"
      },
      "source": [
        "flat_predictions"
      ],
      "execution_count": 30,
      "outputs": [
        {
          "output_type": "execute_result",
          "data": {
            "text/plain": [
              "array([0, 2, 1, 1, 1, 2, 2, 1, 0, 0, 2, 2, 2, 1, 0, 2, 1, 0, 1, 1, 2, 0,\n",
              "       2, 2, 0, 1, 2, 1, 0, 0, 2, 0, 1, 2, 2, 1, 2, 2, 1, 2, 1, 1, 2, 0,\n",
              "       1, 1, 2, 0, 2, 2, 2, 2, 2, 2, 0, 0, 0, 2, 2, 2, 0, 2, 2, 2, 2, 2,\n",
              "       2, 2, 0, 2, 0, 2, 1, 1, 2, 2, 0, 0, 2, 1, 2, 2, 2, 1, 0, 0, 0, 0,\n",
              "       0, 2, 0, 0, 0, 2, 0, 2, 2, 2, 2, 0, 2, 2, 2, 0, 2, 2, 2, 0, 0, 2,\n",
              "       1, 2, 2, 2, 2, 2, 0, 2, 0, 0, 1, 2, 2, 0, 2, 0, 2, 1, 2, 2, 0, 2,\n",
              "       2, 2, 0, 0, 2, 2, 2, 2, 2, 1, 1, 1, 1, 2, 2, 2, 2, 2, 0, 2, 0, 0,\n",
              "       1, 0, 0, 0, 0, 1, 2, 2, 1, 0, 2, 2, 2, 1, 2, 2, 0, 2, 2, 0, 2, 1,\n",
              "       2, 2, 0, 2, 2, 2, 2, 0, 2, 2, 2, 2, 0, 2, 0, 2, 0, 2, 0, 2, 1, 0,\n",
              "       0, 1, 2, 2, 0, 2, 2, 2, 2, 2, 1, 2, 1, 2, 2, 2, 1, 2, 0, 2, 1, 2,\n",
              "       2, 2, 1, 2, 2, 0, 1, 2, 2, 0, 2, 2, 2, 2, 2, 2, 2, 2, 2, 0, 2, 2,\n",
              "       2, 1, 2, 2, 0, 2, 2, 2, 2, 2, 0, 2, 1, 0, 2, 2, 0, 2, 0, 2, 2, 2,\n",
              "       2, 0, 1, 0, 2, 2, 2, 0, 0, 2, 0, 1, 2, 0, 0, 0, 2, 2, 2, 0, 2, 1,\n",
              "       0, 2, 1, 2, 1, 0, 0, 1, 2, 0, 2, 2, 1, 2, 1, 2, 1, 2, 0, 0, 2, 0,\n",
              "       0, 2, 1, 0, 2, 0, 2, 0, 2, 2, 2, 2, 0, 2, 1, 1, 2, 2, 2, 2, 2, 2,\n",
              "       1, 0, 1, 0, 0, 2, 0, 2, 1, 2, 0, 2, 0, 2, 1, 1, 2, 2, 2, 1, 2, 2,\n",
              "       1, 2, 2, 0, 1, 2, 2, 2, 0, 2, 2, 2, 2, 2, 2, 1, 2, 2, 2, 2, 2, 2,\n",
              "       2, 1, 0, 2, 2, 2, 1, 2, 2, 2, 1, 0, 2, 2, 0, 2, 2, 0, 0, 0, 2, 2,\n",
              "       2, 1, 2, 0, 0, 1, 1, 2, 1, 2, 2, 2, 2, 2, 0, 2, 2, 2, 2, 0, 1, 0,\n",
              "       0, 2, 1, 1, 2, 0, 0, 2, 0, 2, 2, 2, 2, 2, 2, 2, 2, 2, 2, 2, 0, 2,\n",
              "       0, 2, 2, 2, 1, 2, 0, 2, 0, 1, 2, 0, 2, 1, 0, 2, 2, 1, 1, 2, 2, 2,\n",
              "       2, 2, 2, 2, 1, 2, 2, 2, 0, 2, 1, 2, 2, 2, 2, 0, 2, 0, 2, 0, 2, 0,\n",
              "       0, 0, 0, 2, 2, 1, 0, 1, 1, 2, 2, 2, 0, 2, 0, 0, 1, 2, 0, 0, 1, 2,\n",
              "       0, 0, 0, 2, 2, 2, 2, 2, 1, 1, 1, 2, 1, 0, 0, 2, 0, 2, 2, 0, 2, 2,\n",
              "       2, 2, 0, 0, 0, 2, 2, 2, 2, 2, 2, 1, 2, 2, 2, 2, 1, 2, 2, 2, 2, 2,\n",
              "       2, 2, 2, 2, 2, 2, 2, 1, 0, 1, 2, 0, 2, 2, 2, 2, 2, 2, 2, 2, 2, 0,\n",
              "       2, 0, 2, 2, 2, 2, 0, 1, 2, 0, 2, 2, 2, 0, 2, 1, 2, 1, 1, 0, 1, 1,\n",
              "       1, 2, 2, 1, 0, 1, 2, 2, 0, 1, 0, 1, 2, 0, 0, 2, 1, 2, 2, 0, 2, 2,\n",
              "       2, 0, 0, 0, 2, 2, 1, 2, 0, 2, 1, 2, 0, 2, 2, 0, 2, 1, 0, 0, 2, 2])"
            ]
          },
          "metadata": {
            "tags": []
          },
          "execution_count": 30
        }
      ]
    },
    {
      "cell_type": "code",
      "metadata": {
        "colab": {
          "base_uri": "https://localhost:8080/"
        },
        "id": "iyqbdeY5nBMV",
        "outputId": "2eb7b97a-de6d-4751-ca0b-62ceecab76c2"
      },
      "source": [
        "from sklearn.metrics import accuracy_score\n",
        "accuracy_score(flat_true_labels,flat_predictions)"
      ],
      "execution_count": 31,
      "outputs": [
        {
          "output_type": "execute_result",
          "data": {
            "text/plain": [
              "0.6755485893416928"
            ]
          },
          "metadata": {
            "tags": []
          },
          "execution_count": 31
        }
      ]
    },
    {
      "cell_type": "code",
      "metadata": {
        "id": "sIFROTrunBPE"
      },
      "source": [
        "def accuracy_per_class(preds_flat, labels_flat):\n",
        "\n",
        "    for label in np.unique(labels_flat):\n",
        "        y_preds = preds_flat[labels_flat==label]\n",
        "        y_true = labels_flat[labels_flat==label]\n",
        "        print(f'Class: {get_labels(label)}')\n",
        "        print(f'Accuracy: {len(y_preds[y_preds==label])}/{len(y_true)}\\n')"
      ],
      "execution_count": 32,
      "outputs": []
    },
    {
      "cell_type": "code",
      "metadata": {
        "colab": {
          "base_uri": "https://localhost:8080/"
        },
        "id": "C4puCpQVnBTh",
        "outputId": "abc33592-e3a6-412d-8e5a-e758a3e858bf"
      },
      "source": [
        "accuracy_per_class(flat_predictions,flat_true_labels)"
      ],
      "execution_count": 33,
      "outputs": [
        {
          "output_type": "stream",
          "text": [
            "Class: negative\n",
            "Accuracy: 79/128\n",
            "\n",
            "Class: neutral\n",
            "Accuracy: 70/169\n",
            "\n",
            "Class: positive\n",
            "Accuracy: 282/341\n",
            "\n"
          ],
          "name": "stdout"
        }
      ]
    },
    {
      "cell_type": "code",
      "metadata": {
        "id": "WgCeBJhmoAMX"
      },
      "source": [
        ""
      ],
      "execution_count": null,
      "outputs": []
    }
  ]
}