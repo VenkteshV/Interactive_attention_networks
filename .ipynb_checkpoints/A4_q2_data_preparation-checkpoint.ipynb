{
 "cells": [
  {
   "cell_type": "code",
   "execution_count": 38,
   "metadata": {},
   "outputs": [],
   "source": [
    "import os\n",
    "from collections import Counter\n",
    "import xml.etree.ElementTree as ET\n",
    "\n",
    "dir_path = os.path.dirname(os.path.realpath(\"__file__\"))\n",
    "\n",
    "train_data_dir = dir_path +'/ABSA complete Dataset/ABSA Train/Laptops_Train.xml'\n",
    "\n",
    "def read_and_preprocess_data(data_directory):\n",
    "    tree = ET.parse(data_directory)\n",
    "    root = tree.getroot()\n",
    "    sentences, aspect_terms = [],[]\n",
    "    unique_aspect_terms = set(list())\n",
    "    sentence_iterator = root.iter('sentence')\n",
    "    for index, sentence in enumerate(sentence_iterator):\n",
    "        sentence_text = sentence.find('text').text\n",
    "        aspect_term = list()\n",
    "        for aspect in sentence.iter('aspectTerm'):\n",
    "            term = aspect.get('term')\n",
    "            unique_aspect_terms.add(term)\n",
    "            sentiment = aspect.get('polarity')\n",
    "            if sentiment.lower()!=\"conflict\":\n",
    "                aspect_term.append((term,sentiment))\n",
    "        aspect_terms.append(aspect_term)\n",
    "        sentences.append(sentence_text)\n",
    "    return sentences,aspect_terms,unique_aspect_terms\n",
    "    \n"
   ]
  },
  {
   "cell_type": "code",
   "execution_count": 40,
   "metadata": {},
   "outputs": [],
   "source": [
    "sentences,aspect_terms,unique_aspects = read_and_preprocess_data(train_data_dir)"
   ]
  },
  {
   "cell_type": "code",
   "execution_count": 41,
   "metadata": {
    "scrolled": true
   },
   "outputs": [
    {
     "data": {
      "text/plain": [
       "'I charge it at night and skip taking the cord with me because of the good battery life.'"
      ]
     },
     "execution_count": 41,
     "metadata": {},
     "output_type": "execute_result"
    }
   ],
   "source": [
    "sentences[0]"
   ]
  },
  {
   "cell_type": "code",
   "execution_count": 42,
   "metadata": {},
   "outputs": [
    {
     "data": {
      "text/plain": [
       "[('cord', 'neutral'), ('battery life', 'positive')]"
      ]
     },
     "execution_count": 42,
     "metadata": {},
     "output_type": "execute_result"
    }
   ],
   "source": [
    "aspect_terms[0]"
   ]
  },
  {
   "cell_type": "code",
   "execution_count": 44,
   "metadata": {},
   "outputs": [],
   "source": [
    "index_aspect_mapping = {index:value for index,value in enumerate(unique_aspects)}"
   ]
  },
  {
   "cell_type": "code",
   "execution_count": 45,
   "metadata": {},
   "outputs": [],
   "source": [
    "index_label_mapping = {index:value for index,value in enumerate(['negative','neutral','positive'])}\n",
    "label_index_mapping = {value:index for index,value in enumerate(['negative','neutral','positive'])}"
   ]
  },
  {
   "cell_type": "code",
   "execution_count": 46,
   "metadata": {},
   "outputs": [
    {
     "data": {
      "text/plain": [
       "{0: 'negative', 1: 'neutral', 2: 'positive'}"
      ]
     },
     "execution_count": 46,
     "metadata": {},
     "output_type": "execute_result"
    }
   ],
   "source": [
    "index_label_mapping"
   ]
  },
  {
   "cell_type": "code",
   "execution_count": 47,
   "metadata": {},
   "outputs": [
    {
     "data": {
      "text/plain": [
       "{'negative': 0, 'neutral': 1, 'positive': 2}"
      ]
     },
     "execution_count": 47,
     "metadata": {},
     "output_type": "execute_result"
    }
   ],
   "source": [
    "label_index_mapping"
   ]
  },
  {
   "cell_type": "code",
   "execution_count": null,
   "metadata": {},
   "outputs": [],
   "source": [
    "def create_dataset(sentences,aspect_terms_sentiment):\n",
    "    sentence_aspect_grouping = []\n",
    "    labels = []\n",
    "    for index,aspect_senti in enumerate(aspect_terms_sentiment):\n",
    "        \n",
    "    "
   ]
  }
 ],
 "metadata": {
  "kernelspec": {
   "display_name": "Python 3",
   "language": "python",
   "name": "python3"
  },
  "language_info": {
   "codemirror_mode": {
    "name": "ipython",
    "version": 3
   },
   "file_extension": ".py",
   "mimetype": "text/x-python",
   "name": "python",
   "nbconvert_exporter": "python",
   "pygments_lexer": "ipython3",
   "version": "3.7.7"
  }
 },
 "nbformat": 4,
 "nbformat_minor": 2
}
