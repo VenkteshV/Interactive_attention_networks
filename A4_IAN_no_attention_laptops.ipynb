{
  "nbformat": 4,
  "nbformat_minor": 0,
  "metadata": {
    "colab": {
      "name": "A4_IAN_no_attention_laptops.ipynb",
      "provenance": [],
      "collapsed_sections": []
    },
    "kernelspec": {
      "name": "python3",
      "display_name": "Python 3"
    },
    "language_info": {
      "name": "python"
    },
    "accelerator": "GPU"
  },
  "cells": [
    {
      "cell_type": "code",
      "metadata": {
        "colab": {
          "base_uri": "https://localhost:8080/"
        },
        "id": "DLn1zNbNCI5V",
        "outputId": "439ab473-e5cc-4f03-ade3-3c31f6a7fa80"
      },
      "source": [
        "import os\n",
        "os.environ['CUDA_LAUNCH_BLOCKING'] = \"1\"\n",
        "import torch\n",
        "import logging\n",
        "logging.basicConfig(level=logging.ERROR)\n",
        "# If there's a GPU available...\n",
        "if torch.cuda.is_available():    \n",
        " \n",
        "    # Tell PyTorch to use the GPU.    \n",
        "    device = torch.device(\"cuda\")\n",
        " \n",
        "    print('There are %d GPU(s) available.' % torch.cuda.device_count())\n",
        " \n",
        "    print('We will use the GPU:', torch.cuda.get_device_name(0))\n",
        " \n",
        "# If not...\n",
        "else:\n",
        "    print('No GPU available, using the CPU instead.')\n",
        "    device = torch.device(\"cpu\")"
      ],
      "execution_count": 1,
      "outputs": [
        {
          "output_type": "stream",
          "text": [
            "There are 1 GPU(s) available.\n",
            "We will use the GPU: Tesla T4\n"
          ],
          "name": "stdout"
        }
      ]
    },
    {
      "cell_type": "code",
      "metadata": {
        "colab": {
          "base_uri": "https://localhost:8080/"
        },
        "id": "z-gUSZcqDNw7",
        "outputId": "61bb49d9-9ec8-4249-ffcc-ab5daf99cbe5"
      },
      "source": [
        "!pip install torchtext==0.3.1"
      ],
      "execution_count": 2,
      "outputs": [
        {
          "output_type": "stream",
          "text": [
            "Requirement already satisfied: torchtext==0.3.1 in /usr/local/lib/python3.7/dist-packages (0.3.1)\n",
            "Requirement already satisfied: torch in /usr/local/lib/python3.7/dist-packages (from torchtext==0.3.1) (1.8.1+cu101)\n",
            "Requirement already satisfied: tqdm in /usr/local/lib/python3.7/dist-packages (from torchtext==0.3.1) (4.41.1)\n",
            "Requirement already satisfied: requests in /usr/local/lib/python3.7/dist-packages (from torchtext==0.3.1) (2.23.0)\n",
            "Requirement already satisfied: numpy in /usr/local/lib/python3.7/dist-packages (from torchtext==0.3.1) (1.19.5)\n",
            "Requirement already satisfied: typing-extensions in /usr/local/lib/python3.7/dist-packages (from torch->torchtext==0.3.1) (3.7.4.3)\n",
            "Requirement already satisfied: chardet<4,>=3.0.2 in /usr/local/lib/python3.7/dist-packages (from requests->torchtext==0.3.1) (3.0.4)\n",
            "Requirement already satisfied: idna<3,>=2.5 in /usr/local/lib/python3.7/dist-packages (from requests->torchtext==0.3.1) (2.10)\n",
            "Requirement already satisfied: urllib3!=1.25.0,!=1.25.1,<1.26,>=1.21.1 in /usr/local/lib/python3.7/dist-packages (from requests->torchtext==0.3.1) (1.24.3)\n",
            "Requirement already satisfied: certifi>=2017.4.17 in /usr/local/lib/python3.7/dist-packages (from requests->torchtext==0.3.1) (2020.12.5)\n"
          ],
          "name": "stdout"
        }
      ]
    },
    {
      "cell_type": "code",
      "metadata": {
        "colab": {
          "base_uri": "https://localhost:8080/",
          "height": 402
        },
        "id": "XbUtYIGe6Tgc",
        "outputId": "8247b33e-0e45-40a3-858e-1c5f64a3967e"
      },
      "source": [
        "import pandas as pd\n",
        "data = pd.read_csv(\"train_sentiment_absa.csv\")\n",
        "data"
      ],
      "execution_count": 3,
      "outputs": [
        {
          "output_type": "execute_result",
          "data": {
            "text/html": [
              "<div>\n",
              "<style scoped>\n",
              "    .dataframe tbody tr th:only-of-type {\n",
              "        vertical-align: middle;\n",
              "    }\n",
              "\n",
              "    .dataframe tbody tr th {\n",
              "        vertical-align: top;\n",
              "    }\n",
              "\n",
              "    .dataframe thead th {\n",
              "        text-align: right;\n",
              "    }\n",
              "</style>\n",
              "<table border=\"1\" class=\"dataframe\">\n",
              "  <thead>\n",
              "    <tr style=\"text-align: right;\">\n",
              "      <th></th>\n",
              "      <th>text</th>\n",
              "      <th>aspect_words</th>\n",
              "      <th>labels</th>\n",
              "    </tr>\n",
              "  </thead>\n",
              "  <tbody>\n",
              "    <tr>\n",
              "      <th>0</th>\n",
              "      <td>Could not keep up with me and finally the hard...</td>\n",
              "      <td>hard drive</td>\n",
              "      <td>0</td>\n",
              "    </tr>\n",
              "    <tr>\n",
              "      <th>1</th>\n",
              "      <td>It is easy to navigate and update programs.</td>\n",
              "      <td>navigate</td>\n",
              "      <td>2</td>\n",
              "    </tr>\n",
              "    <tr>\n",
              "      <th>2</th>\n",
              "      <td>Laptops are usually used on the go, so why not...</td>\n",
              "      <td>battery</td>\n",
              "      <td>0</td>\n",
              "    </tr>\n",
              "    <tr>\n",
              "      <th>3</th>\n",
              "      <td>Every driver on the drivers/applications DVD i...</td>\n",
              "      <td>driver</td>\n",
              "      <td>2</td>\n",
              "    </tr>\n",
              "    <tr>\n",
              "      <th>4</th>\n",
              "      <td>Its small enough where I can take it pretty mu...</td>\n",
              "      <td>screen</td>\n",
              "      <td>2</td>\n",
              "    </tr>\n",
              "    <tr>\n",
              "      <th>...</th>\n",
              "      <td>...</td>\n",
              "      <td>...</td>\n",
              "      <td>...</td>\n",
              "    </tr>\n",
              "    <tr>\n",
              "      <th>2090</th>\n",
              "      <td>A seventy dollar mouse!</td>\n",
              "      <td>mouse</td>\n",
              "      <td>1</td>\n",
              "    </tr>\n",
              "    <tr>\n",
              "      <th>2091</th>\n",
              "      <td>He loves it and it is easy to use and well the...</td>\n",
              "      <td>use</td>\n",
              "      <td>2</td>\n",
              "    </tr>\n",
              "    <tr>\n",
              "      <th>2092</th>\n",
              "      <td>This wiped out several programs that were inst...</td>\n",
              "      <td>programs</td>\n",
              "      <td>0</td>\n",
              "    </tr>\n",
              "    <tr>\n",
              "      <th>2093</th>\n",
              "      <td>Yes, they cost more, but they more than make u...</td>\n",
              "      <td>speed</td>\n",
              "      <td>2</td>\n",
              "    </tr>\n",
              "    <tr>\n",
              "      <th>2094</th>\n",
              "      <td>I gave it to my daughter because I just hated ...</td>\n",
              "      <td>screen</td>\n",
              "      <td>0</td>\n",
              "    </tr>\n",
              "  </tbody>\n",
              "</table>\n",
              "<p>2095 rows × 3 columns</p>\n",
              "</div>"
            ],
            "text/plain": [
              "                                                   text aspect_words  labels\n",
              "0     Could not keep up with me and finally the hard...   hard drive       0\n",
              "1           It is easy to navigate and update programs.     navigate       2\n",
              "2     Laptops are usually used on the go, so why not...      battery       0\n",
              "3     Every driver on the drivers/applications DVD i...       driver       2\n",
              "4     Its small enough where I can take it pretty mu...       screen       2\n",
              "...                                                 ...          ...     ...\n",
              "2090                            A seventy dollar mouse!        mouse       1\n",
              "2091  He loves it and it is easy to use and well the...          use       2\n",
              "2092  This wiped out several programs that were inst...     programs       0\n",
              "2093  Yes, they cost more, but they more than make u...        speed       2\n",
              "2094  I gave it to my daughter because I just hated ...       screen       0\n",
              "\n",
              "[2095 rows x 3 columns]"
            ]
          },
          "metadata": {
            "tags": []
          },
          "execution_count": 3
        }
      ]
    },
    {
      "cell_type": "code",
      "metadata": {
        "colab": {
          "base_uri": "https://localhost:8080/",
          "height": 402
        },
        "id": "7TAM4G7n6as1",
        "outputId": "0475fc4a-6afc-4e82-9d02-c9d1589d8c43"
      },
      "source": [
        "val = pd.read_csv(\"val_sentiment_absa.csv\")\n",
        "val"
      ],
      "execution_count": 4,
      "outputs": [
        {
          "output_type": "execute_result",
          "data": {
            "text/html": [
              "<div>\n",
              "<style scoped>\n",
              "    .dataframe tbody tr th:only-of-type {\n",
              "        vertical-align: middle;\n",
              "    }\n",
              "\n",
              "    .dataframe tbody tr th {\n",
              "        vertical-align: top;\n",
              "    }\n",
              "\n",
              "    .dataframe thead th {\n",
              "        text-align: right;\n",
              "    }\n",
              "</style>\n",
              "<table border=\"1\" class=\"dataframe\">\n",
              "  <thead>\n",
              "    <tr style=\"text-align: right;\">\n",
              "      <th></th>\n",
              "      <th>text</th>\n",
              "      <th>aspect_words</th>\n",
              "      <th>labels</th>\n",
              "    </tr>\n",
              "  </thead>\n",
              "  <tbody>\n",
              "    <tr>\n",
              "      <th>0</th>\n",
              "      <td>The only downfall is a lot of the software I h...</td>\n",
              "      <td>iWork</td>\n",
              "      <td>0</td>\n",
              "    </tr>\n",
              "    <tr>\n",
              "      <th>1</th>\n",
              "      <td>Of course, I also have several great software ...</td>\n",
              "      <td>software packages</td>\n",
              "      <td>2</td>\n",
              "    </tr>\n",
              "    <tr>\n",
              "      <th>2</th>\n",
              "      <td>It was a great laptop, ran great and was reall...</td>\n",
              "      <td>ran</td>\n",
              "      <td>2</td>\n",
              "    </tr>\n",
              "    <tr>\n",
              "      <th>3</th>\n",
              "      <td>With today's company fighting over marketshare...</td>\n",
              "      <td>staff</td>\n",
              "      <td>0</td>\n",
              "    </tr>\n",
              "    <tr>\n",
              "      <th>4</th>\n",
              "      <td>I reloaded with Windows 7 Ultimate, and the Bl...</td>\n",
              "      <td>Fingerprint reader</td>\n",
              "      <td>0</td>\n",
              "    </tr>\n",
              "    <tr>\n",
              "      <th>...</th>\n",
              "      <td>...</td>\n",
              "      <td>...</td>\n",
              "      <td>...</td>\n",
              "    </tr>\n",
              "    <tr>\n",
              "      <th>228</th>\n",
              "      <td>it has 3 usb ports, 1 sd memory card reader an...</td>\n",
              "      <td>sd memory card reader</td>\n",
              "      <td>1</td>\n",
              "    </tr>\n",
              "    <tr>\n",
              "      <th>229</th>\n",
              "      <td>The store honored their warrenty and made the ...</td>\n",
              "      <td>warrenty</td>\n",
              "      <td>2</td>\n",
              "    </tr>\n",
              "    <tr>\n",
              "      <th>230</th>\n",
              "      <td>it is very easy for anyone to use an apple and...</td>\n",
              "      <td>use</td>\n",
              "      <td>2</td>\n",
              "    </tr>\n",
              "    <tr>\n",
              "      <th>231</th>\n",
              "      <td>I just plug this into my 22\" Monitor and the s...</td>\n",
              "      <td>dual-core</td>\n",
              "      <td>1</td>\n",
              "    </tr>\n",
              "    <tr>\n",
              "      <th>232</th>\n",
              "      <td>The ease of set up was terrific.</td>\n",
              "      <td>set up</td>\n",
              "      <td>2</td>\n",
              "    </tr>\n",
              "  </tbody>\n",
              "</table>\n",
              "<p>233 rows × 3 columns</p>\n",
              "</div>"
            ],
            "text/plain": [
              "                                                  text  ... labels\n",
              "0    The only downfall is a lot of the software I h...  ...      0\n",
              "1    Of course, I also have several great software ...  ...      2\n",
              "2    It was a great laptop, ran great and was reall...  ...      2\n",
              "3    With today's company fighting over marketshare...  ...      0\n",
              "4    I reloaded with Windows 7 Ultimate, and the Bl...  ...      0\n",
              "..                                                 ...  ...    ...\n",
              "228  it has 3 usb ports, 1 sd memory card reader an...  ...      1\n",
              "229  The store honored their warrenty and made the ...  ...      2\n",
              "230  it is very easy for anyone to use an apple and...  ...      2\n",
              "231  I just plug this into my 22\" Monitor and the s...  ...      1\n",
              "232                   The ease of set up was terrific.  ...      2\n",
              "\n",
              "[233 rows x 3 columns]"
            ]
          },
          "metadata": {
            "tags": []
          },
          "execution_count": 4
        }
      ]
    },
    {
      "cell_type": "code",
      "metadata": {
        "colab": {
          "base_uri": "https://localhost:8080/",
          "height": 402
        },
        "id": "k88b8lKw6ezA",
        "outputId": "1132848a-4a76-4b39-bb7f-50df94b516da"
      },
      "source": [
        "test = pd.read_csv(\"test_sentiment_ABSA.csv\")\n",
        "test"
      ],
      "execution_count": 5,
      "outputs": [
        {
          "output_type": "execute_result",
          "data": {
            "text/html": [
              "<div>\n",
              "<style scoped>\n",
              "    .dataframe tbody tr th:only-of-type {\n",
              "        vertical-align: middle;\n",
              "    }\n",
              "\n",
              "    .dataframe tbody tr th {\n",
              "        vertical-align: top;\n",
              "    }\n",
              "\n",
              "    .dataframe thead th {\n",
              "        text-align: right;\n",
              "    }\n",
              "</style>\n",
              "<table border=\"1\" class=\"dataframe\">\n",
              "  <thead>\n",
              "    <tr style=\"text-align: right;\">\n",
              "      <th></th>\n",
              "      <th>text</th>\n",
              "      <th>aspect_words</th>\n",
              "      <th>labels</th>\n",
              "    </tr>\n",
              "  </thead>\n",
              "  <tbody>\n",
              "    <tr>\n",
              "      <th>0</th>\n",
              "      <td>Boot time is super fast, around anywhere from ...</td>\n",
              "      <td>Boot time</td>\n",
              "      <td>2</td>\n",
              "    </tr>\n",
              "    <tr>\n",
              "      <th>1</th>\n",
              "      <td>tech support would not fix the problem unless ...</td>\n",
              "      <td>tech support</td>\n",
              "      <td>0</td>\n",
              "    </tr>\n",
              "    <tr>\n",
              "      <th>2</th>\n",
              "      <td>Set up was easy.</td>\n",
              "      <td>Set up</td>\n",
              "      <td>2</td>\n",
              "    </tr>\n",
              "    <tr>\n",
              "      <th>3</th>\n",
              "      <td>Did not enjoy the new Windows 8 and touchscree...</td>\n",
              "      <td>Windows 8</td>\n",
              "      <td>0</td>\n",
              "    </tr>\n",
              "    <tr>\n",
              "      <th>4</th>\n",
              "      <td>Did not enjoy the new Windows 8 and touchscree...</td>\n",
              "      <td>touchscreen functions</td>\n",
              "      <td>0</td>\n",
              "    </tr>\n",
              "    <tr>\n",
              "      <th>...</th>\n",
              "      <td>...</td>\n",
              "      <td>...</td>\n",
              "      <td>...</td>\n",
              "    </tr>\n",
              "    <tr>\n",
              "      <th>633</th>\n",
              "      <td>I've had it for about 2 months now and found n...</td>\n",
              "      <td>software</td>\n",
              "      <td>1</td>\n",
              "    </tr>\n",
              "    <tr>\n",
              "      <th>634</th>\n",
              "      <td>I've had it for about 2 months now and found n...</td>\n",
              "      <td>updates</td>\n",
              "      <td>1</td>\n",
              "    </tr>\n",
              "    <tr>\n",
              "      <th>635</th>\n",
              "      <td>the latest version does not have a disc drive.</td>\n",
              "      <td>disc drive</td>\n",
              "      <td>1</td>\n",
              "    </tr>\n",
              "    <tr>\n",
              "      <th>636</th>\n",
              "      <td>Screen - although some people might complain a...</td>\n",
              "      <td>Screen</td>\n",
              "      <td>2</td>\n",
              "    </tr>\n",
              "    <tr>\n",
              "      <th>637</th>\n",
              "      <td>Screen - although some people might complain a...</td>\n",
              "      <td>res</td>\n",
              "      <td>2</td>\n",
              "    </tr>\n",
              "  </tbody>\n",
              "</table>\n",
              "<p>638 rows × 3 columns</p>\n",
              "</div>"
            ],
            "text/plain": [
              "                                                  text  ... labels\n",
              "0    Boot time is super fast, around anywhere from ...  ...      2\n",
              "1    tech support would not fix the problem unless ...  ...      0\n",
              "2                                     Set up was easy.  ...      2\n",
              "3    Did not enjoy the new Windows 8 and touchscree...  ...      0\n",
              "4    Did not enjoy the new Windows 8 and touchscree...  ...      0\n",
              "..                                                 ...  ...    ...\n",
              "633  I've had it for about 2 months now and found n...  ...      1\n",
              "634  I've had it for about 2 months now and found n...  ...      1\n",
              "635     the latest version does not have a disc drive.  ...      1\n",
              "636  Screen - although some people might complain a...  ...      2\n",
              "637  Screen - although some people might complain a...  ...      2\n",
              "\n",
              "[638 rows x 3 columns]"
            ]
          },
          "metadata": {
            "tags": []
          },
          "execution_count": 5
        }
      ]
    },
    {
      "cell_type": "code",
      "metadata": {
        "id": "hhfudHQBDcFi"
      },
      "source": [
        "import torchtext\n",
        "text = torchtext.data.Field(lower=True, batch_first=True, tokenize='spacy', include_lengths=True)\n",
        "aspect = torchtext.data.Field(lower=True, batch_first=True, tokenize='spacy', include_lengths=True)\n",
        "\n",
        "target = torchtext.data.Field(sequential=False, use_vocab=False, is_target=True)\n",
        "# use field objects to read training, validation and test sets\n",
        "train = torchtext.data.TabularDataset(path='train_sentiment_absa.csv', format='csv',\n",
        "                                      fields={'text': ('text',text),\n",
        "                                              'aspect_words': ('aspect',aspect),\n",
        "                                              'labels': ('target',target)})\n",
        "val = torchtext.data.TabularDataset(path='val_sentiment_absa.csv', format='csv',\n",
        "                                              fields={'text': ('text',text),\n",
        "                                              'aspect_words': ('aspect',aspect),\n",
        "                                              'labels': ('target',target)})\n",
        "test = torchtext.data.TabularDataset(path='test_sentiment_ABSA.csv', format='csv',\n",
        "                                              fields={'text': ('text',text),\n",
        "                                              'aspect_words': ('aspect',aspect),\n",
        "                                              'labels': ('target',target)})"
      ],
      "execution_count": 6,
      "outputs": []
    },
    {
      "cell_type": "code",
      "metadata": {
        "colab": {
          "base_uri": "https://localhost:8080/"
        },
        "id": "gEVDyluEDdOi",
        "outputId": "e7612d45-fac5-4173-a0ab-3676d6083ec7"
      },
      "source": [
        "from sklearn.preprocessing import LabelEncoder\n",
        "import joblib\n",
        "LE =LabelEncoder()\n",
        "LE=joblib.load('sentiment_label_encoder')\n"
      ],
      "execution_count": 7,
      "outputs": [
        {
          "output_type": "stream",
          "text": [
            "/usr/local/lib/python3.7/dist-packages/sklearn/base.py:318: UserWarning: Trying to unpickle estimator LabelEncoder from version 0.22.1 when using version 0.22.2.post1. This might lead to breaking code or invalid results. Use at your own risk.\n",
            "  UserWarning)\n"
          ],
          "name": "stderr"
        }
      ]
    },
    {
      "cell_type": "code",
      "metadata": {
        "id": "QuhZQpggDdRv"
      },
      "source": [
        "def get_labels(prediction):\n",
        "    predicted_label =  LE.inverse_transform([prediction])\n",
        "    return predicted_label[0]"
      ],
      "execution_count": 8,
      "outputs": []
    },
    {
      "cell_type": "code",
      "metadata": {
        "id": "2vaC2rkNDdUJ"
      },
      "source": [
        "text.build_vocab(train, val, test,vectors=\"glove.6B.300d\")\n",
        "aspect.build_vocab(train, val, test,vectors=\"glove.6B.300d\")\n",
        "\n"
      ],
      "execution_count": 9,
      "outputs": []
    },
    {
      "cell_type": "code",
      "metadata": {
        "colab": {
          "base_uri": "https://localhost:8080/"
        },
        "id": "Y2k0I7mADdXG",
        "outputId": "ea608da2-5baf-47ba-9a0b-b5e481afb5e2"
      },
      "source": [
        "print(text.vocab.vectors.shape)\n",
        "print(f\"Unique tokens in text vocabulary: {len(text.vocab)}\")"
      ],
      "execution_count": 10,
      "outputs": [
        {
          "output_type": "stream",
          "text": [
            "torch.Size([3528, 300])\n",
            "Unique tokens in text vocabulary: 3528\n"
          ],
          "name": "stdout"
        }
      ]
    },
    {
      "cell_type": "code",
      "metadata": {
        "id": "NBC5xYgcDdZy"
      },
      "source": [
        "batch_size = 32\n",
        "train_iter = torchtext.data.BucketIterator(dataset=train,\n",
        "                                           batch_size=batch_size,\n",
        "                                           sort_key=lambda x: x.text.__len__(),\n",
        "                                           shuffle=True,\n",
        "                                           sort_within_batch=True) \n",
        "val_iter = torchtext.data.BucketIterator(dataset=val,\n",
        "                                         batch_size=batch_size,\n",
        "                                         sort_key=lambda x: x.text.__len__(),\n",
        "                                         train=False,\n",
        "                                         sort_within_batch=True)\n",
        "test_iter = torchtext.data.BucketIterator(dataset=test,\n",
        "                                          batch_size=batch_size,\n",
        "                                          sort_key=lambda x: x.text.__len__(),\n",
        "                                          sort_within_batch=True)"
      ],
      "execution_count": 11,
      "outputs": []
    },
    {
      "cell_type": "code",
      "metadata": {
        "id": "k97P-uv8Ddch"
      },
      "source": [
        "from torch import nn\n",
        "class IANClassifier(nn.Module):\n",
        "  def __init__(self, pre_trained_aspect,pre_trained_context, hidden_dim=300, lstm_layer=1, dropout=0.5):\n",
        "        super(IANClassifier, self).__init__()\n",
        "        self.dropout = nn.Dropout(p=dropout)\n",
        "        self.aspect_embedding = nn.Embedding.from_pretrained(pre_trained_aspect)\n",
        "        self.context_embedding = nn.Embedding.from_pretrained(pre_trained_context)\n",
        "\n",
        "        self.aspect_embedding.weight.requires_grad = True\n",
        "        self.lstm_aspect = nn.LSTM(input_size=self.aspect_embedding.embedding_dim,\n",
        "                            hidden_size=hidden_dim,\n",
        "                            num_layers=1)\n",
        "        # self.atten1 = Attention(hidden_dim*2, batch_first=True) # 2 is bidrectional\n",
        "        self.lstm_context = nn.LSTM(input_size=self.context_embedding.embedding_dim,\n",
        "                            hidden_size=hidden_dim,\n",
        "                            num_layers=1)\n",
        "        # self.atten2 = Attention(hidden_dim*2, batch_first=True)\n",
        "        # self.fc1 = nn.Sequential(nn.Linear(hidden_dim*lstm_layer*2, hidden_dim*lstm_layer*2),\n",
        "        #                          nn.BatchNorm1d(hidden_dim*lstm_layer*2),\n",
        "        #                          nn.ReLU()) \n",
        "        self.fc = nn.Linear(hidden_dim*2, 3)\n",
        "\n",
        "    \n",
        "  def forward(self, context, context_len, aspect, aspect_len):\n",
        "        context_embed = self.context_embedding(context)\n",
        "        context_embed = self.dropout(context_embed)\n",
        "        \n",
        "        context_packed = nn.utils.rnn.pack_padded_sequence(context_embed, context_len, batch_first=True,enforce_sorted=False)\n",
        "        out1, (h_n, c_n) = self.lstm_context(context_packed)\n",
        "        context_out, lengths = nn.utils.rnn.pad_packed_sequence(out1, batch_first=True)\n",
        "        lengths_tensor = torch.autograd.Variable(torch.FloatTensor(lengths.float())).view(-1,1)\n",
        "        average_pooling_context = torch.sum(context_out,dim=1)/lengths_tensor.to(device)\n",
        "        # print(\"average_pooling\",average_pooling.shape,lengths)\n",
        "\n",
        "        aspect_embed = self.aspect_embedding(aspect)\n",
        "        aspect_embed = self.dropout(aspect_embed)\n",
        "        \n",
        "        aspect_packed = nn.utils.rnn.pack_padded_sequence(aspect_embed, aspect_len, batch_first=True,enforce_sorted=False)\n",
        "        out_aspect, (h_n, c_n) = self.lstm_aspect(aspect_packed)\n",
        "        aspect_out, lengths = nn.utils.rnn.pad_packed_sequence(out_aspect, batch_first=True)\n",
        "        aspect_lengths_tensor = torch.autograd.Variable(torch.FloatTensor(lengths.float())).view(-1,1)\n",
        "        average_pooling_aspect = torch.sum(aspect_out,dim=1)/aspect_lengths_tensor.to(device)\n",
        "\n",
        "        z = torch.cat((average_pooling_aspect,average_pooling_context), dim=-1)\n",
        "        z = self.dropout(z)\n",
        "        # print(\"z\",z.shape)\n",
        "        out = self.fc(z)\n",
        "        out=torch.tanh(out)\n",
        "        return out\n"
      ],
      "execution_count": 12,
      "outputs": []
    },
    {
      "cell_type": "code",
      "metadata": {
        "id": "Pp5du6h4DdfG"
      },
      "source": [
        "import numpy as np     \n",
        "import torch       \n",
        "base_lr, max_lr = 0.001, 0.003\n",
        "model = IANClassifier(aspect.vocab.vectors,text.vocab.vectors, hidden_dim=300, lstm_layer=1, dropout=0.5).cuda()\n",
        "\n",
        "optimizer = torch.optim.Adam(filter(lambda p: p.requires_grad, model.parameters()), \n",
        "                             lr=base_lr, weight_decay=1e-5)"
      ],
      "execution_count": 13,
      "outputs": []
    },
    {
      "cell_type": "code",
      "metadata": {
        "id": "535vabwcDdh9"
      },
      "source": [
        "\n",
        "\n",
        "epochs = 30\n"
      ],
      "execution_count": 14,
      "outputs": []
    },
    {
      "cell_type": "code",
      "metadata": {
        "id": "hC09isZqDdkq"
      },
      "source": [
        "import numpy as np\n",
        "\n",
        "# Function to calculate the accuracy of our predictions vs labels\n",
        "def flat_accuracy(preds, labels):\n",
        "    pred_flat = np.argmax(preds, axis=1).flatten()\n",
        "    labels_flat = labels.flatten()\n",
        "    return np.sum(pred_flat == labels_flat) / len(labels_flat)"
      ],
      "execution_count": 15,
      "outputs": []
    },
    {
      "cell_type": "code",
      "metadata": {
        "id": "ta6zfUTa3kh7"
      },
      "source": [
        "import time\n",
        "import datetime\n",
        "\n",
        "def format_time(elapsed):\n",
        "    '''\n",
        "    Takes a time in seconds and returns a string hh:mm:ss\n",
        "    '''\n",
        "    # Round to the nearest second.\n",
        "    elapsed_rounded = int(round((elapsed)))\n",
        "    \n",
        "    # Format as hh:mm:ss\n",
        "    return str(datetime.timedelta(seconds=elapsed_rounded))"
      ],
      "execution_count": 16,
      "outputs": []
    },
    {
      "cell_type": "code",
      "metadata": {
        "id": "GFq9gd5kQSHb"
      },
      "source": [
        "import os\n",
        "os.environ['CUDA_LAUNCH_BLOCKING'] = \"1\"\n"
      ],
      "execution_count": 17,
      "outputs": []
    },
    {
      "cell_type": "code",
      "metadata": {
        "id": "y-rKyCrwE7N4",
        "colab": {
          "base_uri": "https://localhost:8080/"
        },
        "outputId": "340e2598-0924-4a20-9385-3bc61805ed3d"
      },
      "source": [
        "# model.to(device)\n",
        "model"
      ],
      "execution_count": 18,
      "outputs": [
        {
          "output_type": "execute_result",
          "data": {
            "text/plain": [
              "IANClassifier(\n",
              "  (dropout): Dropout(p=0.5, inplace=False)\n",
              "  (aspect_embedding): Embedding(973, 300)\n",
              "  (context_embedding): Embedding(3528, 300)\n",
              "  (lstm_aspect): LSTM(300, 300)\n",
              "  (lstm_context): LSTM(300, 300)\n",
              "  (fc): Linear(in_features=600, out_features=3, bias=True)\n",
              ")"
            ]
          },
          "metadata": {
            "tags": []
          },
          "execution_count": 18
        }
      ]
    },
    {
      "cell_type": "code",
      "metadata": {
        "id": "a_nmuoSgQ5t3"
      },
      "source": [
        "class EarlyStopping:\n",
        "    \"\"\"Early stops the training if validation loss doesn't improve after a given patience.\"\"\"\n",
        "    def __init__(self, patience=7, verbose=False, delta=0, path='checkpoint.pt', trace_func=print):\n",
        "        \"\"\"\n",
        "        Args:\n",
        "            patience (int): How long to wait after last time validation loss improved.\n",
        "                            Default: 7\n",
        "            verbose (bool): If True, prints a message for each validation loss improvement. \n",
        "                            Default: False\n",
        "            delta (float): Minimum change in the monitored quantity to qualify as an improvement.\n",
        "                            Default: 0\n",
        "            path (str): Path for the checkpoint to be saved to.\n",
        "                            Default: 'checkpoint.pt'\n",
        "            trace_func (function): trace print function.\n",
        "                            Default: print            \n",
        "        \"\"\"\n",
        "        self.patience = patience\n",
        "        self.verbose = verbose\n",
        "        self.counter = 0\n",
        "        self.best_score = None\n",
        "        self.early_stop = False\n",
        "        self.val_loss_min = np.Inf\n",
        "        self.delta = delta\n",
        "        self.path = path\n",
        "        self.trace_func = trace_func\n",
        "    def __call__(self, val_loss, model):\n",
        "\n",
        "        score = -val_loss\n",
        "\n",
        "        if self.best_score is None:\n",
        "            self.best_score = score\n",
        "            self.save_checkpoint(val_loss, model)\n",
        "        elif score < self.best_score + self.delta:\n",
        "            self.counter += 1\n",
        "            self.trace_func(f'EarlyStopping counter: {self.counter} out of {self.patience}')\n",
        "            if self.counter >= self.patience:\n",
        "                self.early_stop = True\n",
        "        else:\n",
        "            self.best_score = score\n",
        "            self.save_checkpoint(val_loss, model)\n",
        "            self.counter = 0\n",
        "\n",
        "    def save_checkpoint(self, val_loss, model):\n",
        "        '''Saves model when validation loss decrease.'''\n",
        "        if self.verbose:\n",
        "            self.trace_func(f'Validation loss decreased ({self.val_loss_min:.6f} --> {val_loss:.6f}).  Saving model ...')\n",
        "        torch.save(model.state_dict(), self.path)\n",
        "        self.val_loss_min = val_loss"
      ],
      "execution_count": 19,
      "outputs": []
    },
    {
      "cell_type": "code",
      "metadata": {
        "id": "ZU11TINmyrO2"
      },
      "source": [
        "loss_func = nn.CrossEntropyLoss()"
      ],
      "execution_count": 20,
      "outputs": []
    },
    {
      "cell_type": "code",
      "metadata": {
        "id": "7T3CSPydh2LY"
      },
      "source": [
        "# for i in range(1000000000000000000000):\n",
        "#   j=i"
      ],
      "execution_count": 21,
      "outputs": []
    },
    {
      "cell_type": "code",
      "metadata": {
        "colab": {
          "base_uri": "https://localhost:8080/"
        },
        "id": "OFBf8rQZiDge",
        "outputId": "bcced6ae-29a8-4e51-e43d-f0b0ec155446"
      },
      "source": [
        "import random\n",
        "import numpy as np\n",
        "import torch.nn.functional as F\n",
        "\n",
        "seed_val = 42\n",
        "\n",
        "random.seed(seed_val)\n",
        "np.random.seed(seed_val)\n",
        "torch.manual_seed(seed_val)\n",
        "torch.cuda.manual_seed_all(seed_val)\n",
        "\n",
        "# We'll store a number of quantities such as training and validation loss, \n",
        "# validation accuracy, and timings.\n",
        "training_stats = []\n",
        "\n",
        "# Measure the total training time for the whole run.\n",
        "total_t0 = time.time()\n",
        "early_stopping = EarlyStopping(patience=3, verbose=True)\n",
        "# For each epoch...\n",
        "for epoch_i in range(0, epochs):\n",
        "    \n",
        "    # ========================================\n",
        "    #               Training\n",
        "    # ========================================\n",
        "    \n",
        "    # Perform one full pass over the training set.\n",
        "\n",
        "    print(\"\")\n",
        "    print('======== Epoch {:} / {:} ========'.format(epoch_i + 1, epochs))\n",
        "    print('Training...')\n",
        "\n",
        "    # Measure how long the training epoch takes.\n",
        "    t0 = time.time()\n",
        "\n",
        "    # Reset the total loss for this epoch.\n",
        "    total_train_accuracy = 0\n",
        "    total_train_loss = 0\n",
        "\n",
        "   \n",
        "    model.train()\n",
        "\n",
        "    # For each batch of training data...\n",
        "    for step, batch in enumerate(train_iter):\n",
        "\n",
        "        # Progress update every 40 batches.\n",
        "        if step % 10 == 0 and not step == 0:\n",
        "            # Calculate elapsed time in minutes.\n",
        "            elapsed = format_time(time.time() - t0)\n",
        "            \n",
        "            # Report progress.\n",
        "            print('  Batch {:>5,}  of  {:>5,}.    Elapsed: {:}.'.format(step, len(train_iter), elapsed))\n",
        "\n",
        "        context_text, context_len = batch.text\n",
        "        aspect_text,aspect_len = batch.aspect\n",
        "        context_text = context_text.cuda()\n",
        "        aspect_text = aspect_text.cuda()\n",
        "        y = batch.target.type(torch.long).cuda()\n",
        "        # compute forward pass\n",
        "        model.zero_grad()        \n",
        "\n",
        "        probas = model.forward(context_text, context_len, aspect_text, aspect_len)\n",
        "\n",
        "\n",
        "\n",
        "        # Accumulate the training loss over all of the batches so that we can\n",
        "   \n",
        "        loss = loss_func(probas, y)\n",
        "        total_train_loss += loss.item()\n",
        "\n",
        "        # Perform a backward pass to calculate the gradients.\n",
        "        loss.backward()\n",
        "\n",
        "\n",
        "\n",
        "\n",
        "        optimizer.step()\n",
        "\n",
        "        # Update the learning rate.\n",
        "        # scheduler.batch_step()\n",
        "        logits = probas.detach().cpu().numpy()\n",
        "        label_ids = y.to('cpu').numpy()\n",
        "        total_train_accuracy += flat_accuracy(logits, label_ids)\n",
        "    avg_train_accuracy = total_train_accuracy / len(train_iter)\n",
        "    print(\" Train Accuracy: {0:.2f}\".format(avg_train_accuracy))\n",
        "\n",
        "    # Calculate the average loss over all of the batches.\n",
        "    avg_train_loss = total_train_loss / len(train_iter) \n",
        "\n",
        "            \n",
        "    \n",
        "    # Measure how long this epoch took.\n",
        "    training_time = format_time(time.time() - t0)\n",
        "\n",
        "    print(\"\")\n",
        "    print(\"  Average training loss: {0:.2f}\".format(avg_train_loss))\n",
        "    print(\"  Training epcoh took: {:}\".format(training_time))\n",
        "        \n",
        "    # ========================================\n",
        "    #               Validation\n",
        "    # ========================================\n",
        "    # After the completion of each training epoch, measure our performance on\n",
        "    # our validation set.\n",
        "\n",
        "    print(\"\")\n",
        "    print(\"Running Validation...\")\n",
        "\n",
        "    t0 = time.time()\n",
        "\n",
        "    # Put the model in evaluation mode--the dropout layers behave differently\n",
        "    # during evaluation.\n",
        "    model.eval()\n",
        "\n",
        "    # Tracking variables \n",
        "    total_eval_accuracy = 0\n",
        "    total_eval_loss = 0\n",
        "    nb_eval_steps = 0\n",
        "\n",
        "    # Evaluate data for one epoch\n",
        "    for batch in val_iter:\n",
        "        \n",
        "        context_text, context_len = batch.text\n",
        "        aspect_text,aspect_len = batch.aspect\n",
        "        context_text = context_text.cuda()\n",
        "        aspect_text = aspect_text.cuda()\n",
        "        y = batch.target.type(torch.long).cuda()      \n",
        "\n",
        "        \n",
        "   \n",
        "        with torch.no_grad():        \n",
        "          logits = model.forward(context_text, context_len, aspect_text, aspect_len)            \n",
        "        # Accumulate the validation loss.\n",
        "        loss_func = nn.CrossEntropyLoss()\n",
        "        loss = loss_func(logits, y)\n",
        "        total_eval_loss += loss.item()\n",
        "\n",
        "        # Move logits and labels to CPU\n",
        "        logits = logits.detach().cpu().numpy()\n",
        "        label_ids = y.to('cpu').numpy()\n",
        "\n",
        "        # Calculate the accuracy for this batch of test sentences, and\n",
        "        # accumulate it over all batches.\n",
        "        total_eval_accuracy += flat_accuracy(logits, label_ids)\n",
        "        \n",
        "\n",
        "    # Report the final accuracy for this validation run.\n",
        "    avg_val_accuracy = total_eval_accuracy / len(val_iter)\n",
        "    print(\"  Accuracy: {0:.2f}\".format(avg_val_accuracy))\n",
        "\n",
        "    # Calculate the average loss over all of the batches.\n",
        "    avg_val_loss = total_eval_loss / len(val_iter)\n",
        "    early_stopping(avg_val_loss, model)\n",
        "    if early_stopping.early_stop:\n",
        "      print(\"Early stopping\")\n",
        "      break    \n",
        "    # Measure how long the validation run took.\n",
        "    validation_time = format_time(time.time() - t0)\n",
        "    \n",
        "    print(\"  Validation Loss: {0:.2f}\".format(avg_val_loss))\n",
        "    print(\"  Validation took: {:}\".format(validation_time))\n",
        "\n",
        "    # Record all statistics from this epoch.\n",
        "    training_stats.append(\n",
        "        {\n",
        "            'epoch': epoch_i + 1,\n",
        "            'Training Loss': avg_train_loss,\n",
        "            'Valid. Loss': avg_val_loss,\n",
        "            'Valid. Accur.': avg_val_accuracy,\n",
        "            'Training Time': training_time,\n",
        "            'Validation Time': validation_time\n",
        "        }\n",
        "    )\n",
        "\n",
        "print(\"\")\n",
        "print(\"Training complete!\")\n",
        "\n",
        "print(\"Total training took {:} (h:mm:ss)\".format(format_time(time.time()-total_t0)))"
      ],
      "execution_count": 22,
      "outputs": [
        {
          "output_type": "stream",
          "text": [
            "\n",
            "======== Epoch 1 / 30 ========\n",
            "Training...\n",
            "  Batch    10  of     66.    Elapsed: 0:00:00.\n",
            "  Batch    20  of     66.    Elapsed: 0:00:00.\n",
            "  Batch    30  of     66.    Elapsed: 0:00:00.\n",
            "  Batch    40  of     66.    Elapsed: 0:00:01.\n",
            "  Batch    50  of     66.    Elapsed: 0:00:01.\n",
            "  Batch    60  of     66.    Elapsed: 0:00:01.\n",
            " Train Accuracy: 0.54\n",
            "\n",
            "  Average training loss: 0.98\n",
            "  Training epcoh took: 0:00:01\n",
            "\n",
            "Running Validation...\n",
            "  Accuracy: 0.66\n",
            "Validation loss decreased (inf --> 0.871532).  Saving model ...\n",
            "  Validation Loss: 0.87\n",
            "  Validation took: 0:00:00\n",
            "\n",
            "======== Epoch 2 / 30 ========\n",
            "Training...\n",
            "  Batch    10  of     66.    Elapsed: 0:00:00.\n",
            "  Batch    20  of     66.    Elapsed: 0:00:00.\n",
            "  Batch    30  of     66.    Elapsed: 0:00:00.\n",
            "  Batch    40  of     66.    Elapsed: 0:00:01.\n",
            "  Batch    50  of     66.    Elapsed: 0:00:01.\n",
            "  Batch    60  of     66.    Elapsed: 0:00:01.\n",
            " Train Accuracy: 0.65\n",
            "\n",
            "  Average training loss: 0.84\n",
            "  Training epcoh took: 0:00:01\n",
            "\n",
            "Running Validation...\n",
            "  Accuracy: 0.65\n",
            "Validation loss decreased (0.871532 --> 0.828749).  Saving model ...\n",
            "  Validation Loss: 0.83\n",
            "  Validation took: 0:00:00\n",
            "\n",
            "======== Epoch 3 / 30 ========\n",
            "Training...\n",
            "  Batch    10  of     66.    Elapsed: 0:00:00.\n",
            "  Batch    20  of     66.    Elapsed: 0:00:00.\n",
            "  Batch    30  of     66.    Elapsed: 0:00:00.\n",
            "  Batch    40  of     66.    Elapsed: 0:00:01.\n",
            "  Batch    50  of     66.    Elapsed: 0:00:01.\n",
            "  Batch    60  of     66.    Elapsed: 0:00:01.\n",
            " Train Accuracy: 0.67\n",
            "\n",
            "  Average training loss: 0.78\n",
            "  Training epcoh took: 0:00:01\n",
            "\n",
            "Running Validation...\n",
            "  Accuracy: 0.72\n",
            "Validation loss decreased (0.828749 --> 0.747537).  Saving model ...\n",
            "  Validation Loss: 0.75\n",
            "  Validation took: 0:00:00\n",
            "\n",
            "======== Epoch 4 / 30 ========\n",
            "Training...\n",
            "  Batch    10  of     66.    Elapsed: 0:00:00.\n",
            "  Batch    20  of     66.    Elapsed: 0:00:00.\n",
            "  Batch    30  of     66.    Elapsed: 0:00:00.\n",
            "  Batch    40  of     66.    Elapsed: 0:00:01.\n",
            "  Batch    50  of     66.    Elapsed: 0:00:01.\n",
            "  Batch    60  of     66.    Elapsed: 0:00:01.\n",
            " Train Accuracy: 0.71\n",
            "\n",
            "  Average training loss: 0.73\n",
            "  Training epcoh took: 0:00:01\n",
            "\n",
            "Running Validation...\n",
            "  Accuracy: 0.68\n",
            "EarlyStopping counter: 1 out of 3\n",
            "  Validation Loss: 0.77\n",
            "  Validation took: 0:00:00\n",
            "\n",
            "======== Epoch 5 / 30 ========\n",
            "Training...\n",
            "  Batch    10  of     66.    Elapsed: 0:00:00.\n",
            "  Batch    20  of     66.    Elapsed: 0:00:00.\n",
            "  Batch    30  of     66.    Elapsed: 0:00:00.\n",
            "  Batch    40  of     66.    Elapsed: 0:00:01.\n",
            "  Batch    50  of     66.    Elapsed: 0:00:01.\n",
            "  Batch    60  of     66.    Elapsed: 0:00:01.\n",
            " Train Accuracy: 0.74\n",
            "\n",
            "  Average training loss: 0.68\n",
            "  Training epcoh took: 0:00:01\n",
            "\n",
            "Running Validation...\n",
            "  Accuracy: 0.73\n",
            "Validation loss decreased (0.747537 --> 0.741909).  Saving model ...\n",
            "  Validation Loss: 0.74\n",
            "  Validation took: 0:00:00\n",
            "\n",
            "======== Epoch 6 / 30 ========\n",
            "Training...\n",
            "  Batch    10  of     66.    Elapsed: 0:00:00.\n",
            "  Batch    20  of     66.    Elapsed: 0:00:00.\n",
            "  Batch    30  of     66.    Elapsed: 0:00:00.\n",
            "  Batch    40  of     66.    Elapsed: 0:00:01.\n",
            "  Batch    50  of     66.    Elapsed: 0:00:01.\n",
            "  Batch    60  of     66.    Elapsed: 0:00:01.\n",
            " Train Accuracy: 0.76\n",
            "\n",
            "  Average training loss: 0.65\n",
            "  Training epcoh took: 0:00:01\n",
            "\n",
            "Running Validation...\n",
            "  Accuracy: 0.72\n",
            "Validation loss decreased (0.741909 --> 0.737426).  Saving model ...\n",
            "  Validation Loss: 0.74\n",
            "  Validation took: 0:00:00\n",
            "\n",
            "======== Epoch 7 / 30 ========\n",
            "Training...\n",
            "  Batch    10  of     66.    Elapsed: 0:00:00.\n",
            "  Batch    20  of     66.    Elapsed: 0:00:00.\n",
            "  Batch    30  of     66.    Elapsed: 0:00:00.\n",
            "  Batch    40  of     66.    Elapsed: 0:00:01.\n",
            "  Batch    50  of     66.    Elapsed: 0:00:01.\n",
            "  Batch    60  of     66.    Elapsed: 0:00:01.\n",
            " Train Accuracy: 0.76\n",
            "\n",
            "  Average training loss: 0.65\n",
            "  Training epcoh took: 0:00:01\n",
            "\n",
            "Running Validation...\n",
            "  Accuracy: 0.72\n",
            "EarlyStopping counter: 1 out of 3\n",
            "  Validation Loss: 0.74\n",
            "  Validation took: 0:00:00\n",
            "\n",
            "======== Epoch 8 / 30 ========\n",
            "Training...\n",
            "  Batch    10  of     66.    Elapsed: 0:00:00.\n",
            "  Batch    20  of     66.    Elapsed: 0:00:00.\n",
            "  Batch    30  of     66.    Elapsed: 0:00:00.\n",
            "  Batch    40  of     66.    Elapsed: 0:00:01.\n",
            "  Batch    50  of     66.    Elapsed: 0:00:01.\n",
            "  Batch    60  of     66.    Elapsed: 0:00:01.\n",
            " Train Accuracy: 0.77\n",
            "\n",
            "  Average training loss: 0.62\n",
            "  Training epcoh took: 0:00:01\n",
            "\n",
            "Running Validation...\n",
            "  Accuracy: 0.71\n",
            "EarlyStopping counter: 2 out of 3\n",
            "  Validation Loss: 0.74\n",
            "  Validation took: 0:00:00\n",
            "\n",
            "======== Epoch 9 / 30 ========\n",
            "Training...\n",
            "  Batch    10  of     66.    Elapsed: 0:00:00.\n",
            "  Batch    20  of     66.    Elapsed: 0:00:00.\n",
            "  Batch    30  of     66.    Elapsed: 0:00:00.\n",
            "  Batch    40  of     66.    Elapsed: 0:00:01.\n",
            "  Batch    50  of     66.    Elapsed: 0:00:01.\n",
            "  Batch    60  of     66.    Elapsed: 0:00:01.\n",
            " Train Accuracy: 0.79\n",
            "\n",
            "  Average training loss: 0.60\n",
            "  Training epcoh took: 0:00:01\n",
            "\n",
            "Running Validation...\n",
            "  Accuracy: 0.75\n",
            "Validation loss decreased (0.737426 --> 0.717929).  Saving model ...\n",
            "  Validation Loss: 0.72\n",
            "  Validation took: 0:00:00\n",
            "\n",
            "======== Epoch 10 / 30 ========\n",
            "Training...\n",
            "  Batch    10  of     66.    Elapsed: 0:00:00.\n",
            "  Batch    20  of     66.    Elapsed: 0:00:00.\n",
            "  Batch    30  of     66.    Elapsed: 0:00:00.\n",
            "  Batch    40  of     66.    Elapsed: 0:00:01.\n",
            "  Batch    50  of     66.    Elapsed: 0:00:01.\n",
            "  Batch    60  of     66.    Elapsed: 0:00:01.\n",
            " Train Accuracy: 0.80\n",
            "\n",
            "  Average training loss: 0.59\n",
            "  Training epcoh took: 0:00:01\n",
            "\n",
            "Running Validation...\n",
            "  Accuracy: 0.72\n",
            "EarlyStopping counter: 1 out of 3\n",
            "  Validation Loss: 0.73\n",
            "  Validation took: 0:00:00\n",
            "\n",
            "======== Epoch 11 / 30 ========\n",
            "Training...\n",
            "  Batch    10  of     66.    Elapsed: 0:00:00.\n",
            "  Batch    20  of     66.    Elapsed: 0:00:00.\n",
            "  Batch    30  of     66.    Elapsed: 0:00:00.\n",
            "  Batch    40  of     66.    Elapsed: 0:00:01.\n",
            "  Batch    50  of     66.    Elapsed: 0:00:01.\n",
            "  Batch    60  of     66.    Elapsed: 0:00:01.\n",
            " Train Accuracy: 0.81\n",
            "\n",
            "  Average training loss: 0.56\n",
            "  Training epcoh took: 0:00:01\n",
            "\n",
            "Running Validation...\n",
            "  Accuracy: 0.73\n",
            "EarlyStopping counter: 2 out of 3\n",
            "  Validation Loss: 0.75\n",
            "  Validation took: 0:00:00\n",
            "\n",
            "======== Epoch 12 / 30 ========\n",
            "Training...\n",
            "  Batch    10  of     66.    Elapsed: 0:00:00.\n",
            "  Batch    20  of     66.    Elapsed: 0:00:00.\n",
            "  Batch    30  of     66.    Elapsed: 0:00:00.\n",
            "  Batch    40  of     66.    Elapsed: 0:00:01.\n",
            "  Batch    50  of     66.    Elapsed: 0:00:01.\n",
            "  Batch    60  of     66.    Elapsed: 0:00:01.\n",
            " Train Accuracy: 0.82\n",
            "\n",
            "  Average training loss: 0.56\n",
            "  Training epcoh took: 0:00:01\n",
            "\n",
            "Running Validation...\n",
            "  Accuracy: 0.68\n",
            "EarlyStopping counter: 3 out of 3\n",
            "Early stopping\n",
            "\n",
            "Training complete!\n",
            "Total training took 0:00:11 (h:mm:ss)\n"
          ],
          "name": "stdout"
        }
      ]
    },
    {
      "cell_type": "code",
      "metadata": {
        "colab": {
          "base_uri": "https://localhost:8080/",
          "height": 402
        },
        "id": "k60TbsQxkiVf",
        "outputId": "784da7c8-5455-4c98-9f5a-c1654168b5ab"
      },
      "source": [
        "import pandas as pd\n",
        "\n",
        "# Display floats with two decimal places.\n",
        "pd.set_option('precision', 2)\n",
        "\n",
        "# Create a DataFrame from our training statistics.\n",
        "df_stats = pd.DataFrame(data=training_stats)\n",
        "\n",
        "# Use the 'epoch' as the row index.\n",
        "df_stats = df_stats.set_index('epoch')\n",
        "\n",
        "# A hack to force the column headers to wrap.\n",
        "#df = df.style.set_table_styles([dict(selector=\"th\",props=[('max-width', '70px')])])\n",
        "\n",
        "# Display the table.\n",
        "df_stats"
      ],
      "execution_count": 23,
      "outputs": [
        {
          "output_type": "execute_result",
          "data": {
            "text/html": [
              "<div>\n",
              "<style scoped>\n",
              "    .dataframe tbody tr th:only-of-type {\n",
              "        vertical-align: middle;\n",
              "    }\n",
              "\n",
              "    .dataframe tbody tr th {\n",
              "        vertical-align: top;\n",
              "    }\n",
              "\n",
              "    .dataframe thead th {\n",
              "        text-align: right;\n",
              "    }\n",
              "</style>\n",
              "<table border=\"1\" class=\"dataframe\">\n",
              "  <thead>\n",
              "    <tr style=\"text-align: right;\">\n",
              "      <th></th>\n",
              "      <th>Training Loss</th>\n",
              "      <th>Valid. Loss</th>\n",
              "      <th>Valid. Accur.</th>\n",
              "      <th>Training Time</th>\n",
              "      <th>Validation Time</th>\n",
              "    </tr>\n",
              "    <tr>\n",
              "      <th>epoch</th>\n",
              "      <th></th>\n",
              "      <th></th>\n",
              "      <th></th>\n",
              "      <th></th>\n",
              "      <th></th>\n",
              "    </tr>\n",
              "  </thead>\n",
              "  <tbody>\n",
              "    <tr>\n",
              "      <th>1</th>\n",
              "      <td>0.98</td>\n",
              "      <td>0.87</td>\n",
              "      <td>0.66</td>\n",
              "      <td>0:00:01</td>\n",
              "      <td>0:00:00</td>\n",
              "    </tr>\n",
              "    <tr>\n",
              "      <th>2</th>\n",
              "      <td>0.84</td>\n",
              "      <td>0.83</td>\n",
              "      <td>0.65</td>\n",
              "      <td>0:00:01</td>\n",
              "      <td>0:00:00</td>\n",
              "    </tr>\n",
              "    <tr>\n",
              "      <th>3</th>\n",
              "      <td>0.78</td>\n",
              "      <td>0.75</td>\n",
              "      <td>0.72</td>\n",
              "      <td>0:00:01</td>\n",
              "      <td>0:00:00</td>\n",
              "    </tr>\n",
              "    <tr>\n",
              "      <th>4</th>\n",
              "      <td>0.73</td>\n",
              "      <td>0.77</td>\n",
              "      <td>0.68</td>\n",
              "      <td>0:00:01</td>\n",
              "      <td>0:00:00</td>\n",
              "    </tr>\n",
              "    <tr>\n",
              "      <th>5</th>\n",
              "      <td>0.68</td>\n",
              "      <td>0.74</td>\n",
              "      <td>0.73</td>\n",
              "      <td>0:00:01</td>\n",
              "      <td>0:00:00</td>\n",
              "    </tr>\n",
              "    <tr>\n",
              "      <th>6</th>\n",
              "      <td>0.65</td>\n",
              "      <td>0.74</td>\n",
              "      <td>0.72</td>\n",
              "      <td>0:00:01</td>\n",
              "      <td>0:00:00</td>\n",
              "    </tr>\n",
              "    <tr>\n",
              "      <th>7</th>\n",
              "      <td>0.65</td>\n",
              "      <td>0.74</td>\n",
              "      <td>0.72</td>\n",
              "      <td>0:00:01</td>\n",
              "      <td>0:00:00</td>\n",
              "    </tr>\n",
              "    <tr>\n",
              "      <th>8</th>\n",
              "      <td>0.62</td>\n",
              "      <td>0.74</td>\n",
              "      <td>0.71</td>\n",
              "      <td>0:00:01</td>\n",
              "      <td>0:00:00</td>\n",
              "    </tr>\n",
              "    <tr>\n",
              "      <th>9</th>\n",
              "      <td>0.60</td>\n",
              "      <td>0.72</td>\n",
              "      <td>0.75</td>\n",
              "      <td>0:00:01</td>\n",
              "      <td>0:00:00</td>\n",
              "    </tr>\n",
              "    <tr>\n",
              "      <th>10</th>\n",
              "      <td>0.59</td>\n",
              "      <td>0.73</td>\n",
              "      <td>0.72</td>\n",
              "      <td>0:00:01</td>\n",
              "      <td>0:00:00</td>\n",
              "    </tr>\n",
              "    <tr>\n",
              "      <th>11</th>\n",
              "      <td>0.56</td>\n",
              "      <td>0.75</td>\n",
              "      <td>0.73</td>\n",
              "      <td>0:00:01</td>\n",
              "      <td>0:00:00</td>\n",
              "    </tr>\n",
              "  </tbody>\n",
              "</table>\n",
              "</div>"
            ],
            "text/plain": [
              "       Training Loss  Valid. Loss  Valid. Accur. Training Time Validation Time\n",
              "epoch                                                                         \n",
              "1               0.98         0.87           0.66       0:00:01         0:00:00\n",
              "2               0.84         0.83           0.65       0:00:01         0:00:00\n",
              "3               0.78         0.75           0.72       0:00:01         0:00:00\n",
              "4               0.73         0.77           0.68       0:00:01         0:00:00\n",
              "5               0.68         0.74           0.73       0:00:01         0:00:00\n",
              "6               0.65         0.74           0.72       0:00:01         0:00:00\n",
              "7               0.65         0.74           0.72       0:00:01         0:00:00\n",
              "8               0.62         0.74           0.71       0:00:01         0:00:00\n",
              "9               0.60         0.72           0.75       0:00:01         0:00:00\n",
              "10              0.59         0.73           0.72       0:00:01         0:00:00\n",
              "11              0.56         0.75           0.73       0:00:01         0:00:00"
            ]
          },
          "metadata": {
            "tags": []
          },
          "execution_count": 23
        }
      ]
    },
    {
      "cell_type": "code",
      "metadata": {
        "colab": {
          "base_uri": "https://localhost:8080/",
          "height": 427
        },
        "id": "ZVu3LDvUmjVP",
        "outputId": "643c4420-1c61-452a-b380-261837063239"
      },
      "source": [
        "import matplotlib.pyplot as plt\n",
        "% matplotlib inline\n",
        "\n",
        "import seaborn as sns\n",
        "\n",
        "# Use plot styling from seaborn.\n",
        "sns.set(style='darkgrid')\n",
        "\n",
        "# Increase the plot size and font size.\n",
        "sns.set(font_scale=1.5)\n",
        "plt.rcParams[\"figure.figsize\"] = (12,6)\n",
        "\n",
        "# Plot the learning curve.\n",
        "plt.plot(df_stats['Training Loss'], 'b-o', label=\"Training\")\n",
        "plt.plot(df_stats['Valid. Loss'], 'g-o', label=\"Validation\")\n",
        "\n",
        "# Label the plot.\n",
        "plt.title(\"Training & Validation Loss\")\n",
        "plt.xlabel(\"Epoch\")\n",
        "plt.ylabel(\"Loss\")\n",
        "plt.legend()\n",
        "plt.xticks([1, 2, 3, 4,5,6,7,8,9,10,11,12,13,14,15,16,17,18,19,20])\n",
        "\n",
        "plt.show()"
      ],
      "execution_count": 60,
      "outputs": [
        {
          "output_type": "display_data",
          "data": {
            "image/png": "[encoded data removed]",
            "text/plain": [
              "<Figure size 864x432 with 1 Axes>"
            ]
          },
          "metadata": {
            "tags": []
          }
        }
      ]
    },
    {
      "cell_type": "code",
      "metadata": {
        "colab": {
          "base_uri": "https://localhost:8080/"
        },
        "id": "9Xec3fZ2mnaY",
        "outputId": "3524a6d3-6ae7-4d4f-ea46-9194492356ec"
      },
      "source": [
        "import os\n",
        "\n",
        "\n",
        "output_dir = 'model_IAN_laptops_no_attention/'\n",
        "\n",
        "# Create output directory if needed\n",
        "if not os.path.exists(output_dir):\n",
        "    os.makedirs(output_dir)\n",
        "\n",
        "print(\"Saving model to %s\" % output_dir)\n",
        "\n",
        "\n"
      ],
      "execution_count": 30,
      "outputs": [
        {
          "output_type": "stream",
          "text": [
            "Saving model to model_IAN_laptops_no_attention/\n"
          ],
          "name": "stdout"
        }
      ]
    },
    {
      "cell_type": "code",
      "metadata": {
        "id": "f1KaciNsmo9x"
      },
      "source": [
        "  import json\n",
        "  torch.save(model.state_dict(), os.path.join(output_dir, 'model_weights'))\n",
        "  # with open(os.path.join(output_dir, 'model_config.json'), 'w') as f:\n",
        "  #     json.dump(model.config, f)"
      ],
      "execution_count": 31,
      "outputs": []
    },
    {
      "cell_type": "code",
      "metadata": {
        "id": "3enhHd93mpAQ"
      },
      "source": [
        "from google.colab import files\n"
      ],
      "execution_count": 32,
      "outputs": []
    },
    {
      "cell_type": "code",
      "metadata": {
        "colab": {
          "base_uri": "https://localhost:8080/"
        },
        "id": "dTjU581OmpC4",
        "outputId": "21795a00-ecea-4d3d-a1c8-529a88ed9f77"
      },
      "source": [
        "!zip -r model_IAN_laptops_no_attention.zip model_IAN_laptops_no_attention\n"
      ],
      "execution_count": 33,
      "outputs": [
        {
          "output_type": "stream",
          "text": [
            "  adding: model_IAN_laptops_no_attention/ (stored 0%)\n",
            "  adding: model_IAN_laptops_no_attention/model_weights (deflated 10%)\n"
          ],
          "name": "stdout"
        }
      ]
    },
    {
      "cell_type": "code",
      "metadata": {
        "colab": {
          "base_uri": "https://localhost:8080/",
          "height": 17
        },
        "id": "Lt2ItuK6mpHp",
        "outputId": "64227c70-5804-4813-ea97-cb18d1390f9b"
      },
      "source": [
        "files.download('model_IAN_laptops_no_attention.zip')"
      ],
      "execution_count": 34,
      "outputs": [
        {
          "output_type": "display_data",
          "data": {
            "application/javascript": [
              "\n",
              "    async function download(id, filename, size) {\n",
              "      if (!google.colab.kernel.accessAllowed) {\n",
              "        return;\n",
              "      }\n",
              "      const div = document.createElement('div');\n",
              "      const label = document.createElement('label');\n",
              "      label.textContent = `Downloading \"${filename}\": `;\n",
              "      div.appendChild(label);\n",
              "      const progress = document.createElement('progress');\n",
              "      progress.max = size;\n",
              "      div.appendChild(progress);\n",
              "      document.body.appendChild(div);\n",
              "\n",
              "      const buffers = [];\n",
              "      let downloaded = 0;\n",
              "\n",
              "      const channel = await google.colab.kernel.comms.open(id);\n",
              "      // Send a message to notify the kernel that we're ready.\n",
              "      channel.send({})\n",
              "\n",
              "      for await (const message of channel.messages) {\n",
              "        // Send a message to notify the kernel that we're ready.\n",
              "        channel.send({})\n",
              "        if (message.buffers) {\n",
              "          for (const buffer of message.buffers) {\n",
              "            buffers.push(buffer);\n",
              "            downloaded += buffer.byteLength;\n",
              "            progress.value = downloaded;\n",
              "          }\n",
              "        }\n",
              "      }\n",
              "      const blob = new Blob(buffers, {type: 'application/binary'});\n",
              "      const a = document.createElement('a');\n",
              "      a.href = window.URL.createObjectURL(blob);\n",
              "      a.download = filename;\n",
              "      div.appendChild(a);\n",
              "      a.click();\n",
              "      div.remove();\n",
              "    }\n",
              "  "
            ],
            "text/plain": [
              "<IPython.core.display.Javascript object>"
            ]
          },
          "metadata": {
            "tags": []
          }
        },
        {
          "output_type": "display_data",
          "data": {
            "application/javascript": [
              "download(\"download_65ce979e-249a-42ae-b18b-bedde779ec64\", \"model_IAN_laptops_no_attention.zip\", 10078684)"
            ],
            "text/plain": [
              "<IPython.core.display.Javascript object>"
            ]
          },
          "metadata": {
            "tags": []
          }
        }
      ]
    },
    {
      "cell_type": "code",
      "metadata": {
        "colab": {
          "base_uri": "https://localhost:8080/"
        },
        "id": "Xzl9eUD4wg8c",
        "outputId": "6787f7fa-879f-4507-ea1a-e62324684f96"
      },
      "source": [
        "!unzip model_IAN_laptops_no_attention.zip"
      ],
      "execution_count": 43,
      "outputs": [
        {
          "output_type": "stream",
          "text": [
            "Archive:  model_IAN_laptops_no_attention.zip\n",
            "replace model_IAN_laptops_no_attention/model_weights? [y]es, [n]o, [A]ll, [N]one, [r]ename: y\n",
            "  inflating: model_IAN_laptops_no_attention/model_weights  \n"
          ],
          "name": "stdout"
        }
      ]
    },
    {
      "cell_type": "code",
      "metadata": {
        "colab": {
          "base_uri": "https://localhost:8080/"
        },
        "id": "DUJtc_j6wn6v",
        "outputId": "560be487-7141-44ed-e9b6-471ac5a2141c"
      },
      "source": [
        "model.load_state_dict(torch.load('model_IAN_laptops_no_attention/model_weights'))"
      ],
      "execution_count": 44,
      "outputs": [
        {
          "output_type": "execute_result",
          "data": {
            "text/plain": [
              "<All keys matched successfully>"
            ]
          },
          "metadata": {
            "tags": []
          },
          "execution_count": 44
        }
      ]
    },
    {
      "cell_type": "code",
      "metadata": {
        "colab": {
          "base_uri": "https://localhost:8080/"
        },
        "id": "ssbC_SvOnAd6",
        "outputId": "b4c31227-8830-4572-e451-08ad78bbec81"
      },
      "source": [
        "\n",
        "# Prediction on test set\n",
        "\n",
        "# print('Predicting labels for {:,} test sentences...'.format(len(input_ids)))\n",
        "\n",
        "# Put model in evaluation mode\n",
        "model.eval()\n",
        "\n",
        "# Tracking variables \n",
        "predictions , true_labels = [], []\n",
        "\n",
        "# Predict \n",
        "for batch in test_iter:\n",
        "  # Add batch to GPU\n",
        "  context_text, context_len = batch.text\n",
        "  context_text = context_text.cuda()\n",
        "\n",
        "  aspect_text, aspect_len = batch.aspect\n",
        "  aspect_text = aspect_text.cuda()\n",
        "  # outs = sigmoid(outs.cpu().data.numpy()).tolist()\n",
        "  y = batch.target.type(torch.long).cuda()\n",
        "\n",
        "  # Telling the model not to compute or store gradients, saving memory and \n",
        "  # speeding up prediction\n",
        "  with torch.no_grad():\n",
        "      # Forward pass, calculate logit predictions\n",
        "    outputs = model.forward(context_text, context_len,aspect_text,aspect_len) \n",
        "\n",
        "  logits = outputs\n",
        "\n",
        "  # Move logits and labels to CPU\n",
        "  logits = logits.detach().cpu().numpy()\n",
        "  label_ids = y.to('cpu').numpy()\n",
        "  \n",
        "  # Store predictions and true labels\n",
        "  predictions.append(logits)\n",
        "  true_labels.append(label_ids)\n",
        "\n",
        "print('    DONE.')"
      ],
      "execution_count": 45,
      "outputs": [
        {
          "output_type": "stream",
          "text": [
            "    DONE.\n"
          ],
          "name": "stdout"
        }
      ]
    },
    {
      "cell_type": "code",
      "metadata": {
        "id": "QG3UQw5inBAv"
      },
      "source": [
        "flat_predictions = np.concatenate(predictions, axis=0)\n",
        "\n",
        "flat_predictions = np.argmax(flat_predictions, axis=1).flatten()\n",
        "\n",
        "# Combine the correct labels for each batch into a single list.\n",
        "flat_true_labels = np.concatenate(true_labels, axis=0)"
      ],
      "execution_count": 46,
      "outputs": []
    },
    {
      "cell_type": "code",
      "metadata": {
        "colab": {
          "base_uri": "https://localhost:8080/"
        },
        "id": "AGAR726XnBFP",
        "outputId": "73da9db9-b3a9-4c62-e5d5-3d4f86768124"
      },
      "source": [
        "flat_predictions"
      ],
      "execution_count": 47,
      "outputs": [
        {
          "output_type": "execute_result",
          "data": {
            "text/plain": [
              "array([1, 1, 1, 1, 0, 1, 1, 0, 2, 2, 0, 1, 0, 0, 0, 0, 2, 1, 0, 0, 0, 0,\n",
              "       2, 2, 0, 2, 2, 2, 2, 1, 1, 2, 0, 0, 0, 2, 2, 0, 2, 2, 0, 0, 1, 2,\n",
              "       0, 0, 0, 2, 2, 1, 2, 1, 0, 0, 1, 2, 2, 2, 0, 1, 2, 2, 2, 1, 1, 2,\n",
              "       2, 0, 1, 0, 2, 2, 2, 2, 2, 2, 2, 0, 0, 1, 0, 2, 2, 0, 2, 2, 0, 0,\n",
              "       1, 0, 1, 1, 0, 1, 2, 1, 2, 1, 1, 0, 2, 1, 2, 1, 2, 0, 2, 1, 2, 0,\n",
              "       2, 2, 2, 2, 2, 0, 0, 2, 2, 2, 2, 2, 0, 0, 2, 2, 2, 2, 0, 0, 0, 2,\n",
              "       0, 0, 1, 0, 2, 1, 2, 0, 2, 1, 0, 2, 2, 1, 2, 0, 2, 0, 2, 0, 1, 1,\n",
              "       2, 2, 2, 1, 0, 2, 0, 2, 1, 1, 2, 1, 1, 2, 1, 2, 1, 2, 2, 2, 2, 2,\n",
              "       2, 2, 1, 2, 2, 0, 2, 2, 2, 0, 0, 2, 2, 0, 1, 1, 0, 1, 2, 1, 2, 2,\n",
              "       0, 1, 0, 2, 2, 0, 2, 2, 2, 2, 2, 1, 1, 1, 0, 2, 0, 0, 1, 2, 0, 0,\n",
              "       2, 2, 2, 0, 2, 0, 0, 2, 1, 2, 2, 2, 2, 1, 2, 2, 2, 2, 2, 0, 2, 0,\n",
              "       2, 2, 2, 1, 1, 2, 0, 1, 2, 2, 1, 2, 1, 2, 2, 0, 2, 0, 0, 0, 1, 0,\n",
              "       1, 2, 1, 1, 1, 1, 1, 1, 1, 2, 2, 2, 2, 2, 0, 1, 0, 0, 0, 0, 0, 0,\n",
              "       0, 2, 0, 2, 0, 0, 0, 2, 1, 2, 2, 0, 1, 0, 2, 1, 0, 2, 1, 1, 0, 1,\n",
              "       1, 2, 0, 2, 0, 0, 2, 0, 1, 1, 2, 2, 0, 2, 1, 2, 0, 2, 2, 1, 2, 2,\n",
              "       0, 0, 2, 2, 2, 2, 0, 2, 2, 2, 1, 2, 2, 0, 2, 2, 2, 0, 1, 2, 2, 0,\n",
              "       2, 0, 0, 0, 2, 2, 0, 2, 2, 2, 2, 2, 1, 0, 0, 2, 2, 2, 1, 0, 2, 2,\n",
              "       0, 1, 2, 2, 2, 2, 1, 2, 2, 2, 1, 2, 2, 2, 2, 2, 1, 0, 0, 1, 0, 0,\n",
              "       2, 0, 0, 0, 2, 2, 2, 2, 2, 1, 0, 0, 2, 1, 2, 1, 0, 2, 0, 2, 2, 0,\n",
              "       1, 1, 2, 0, 2, 2, 2, 0, 0, 2, 2, 0, 1, 2, 2, 2, 2, 2, 1, 2, 2, 1,\n",
              "       0, 1, 1, 0, 1, 0, 1, 2, 2, 2, 2, 2, 2, 0, 2, 0, 2, 0, 2, 2, 2, 2,\n",
              "       0, 1, 2, 1, 2, 2, 2, 2, 0, 0, 0, 2, 2, 2, 1, 2, 0, 2, 0, 0, 2, 1,\n",
              "       2, 0, 0, 0, 2, 2, 2, 1, 0, 0, 2, 2, 2, 2, 0, 1, 0, 2, 2, 0, 2, 0,\n",
              "       2, 2, 1, 2, 1, 0, 1, 1, 1, 1, 1, 1, 1, 2, 2, 2, 0, 1, 2, 0, 2, 1,\n",
              "       2, 2, 1, 0, 0, 2, 0, 2, 2, 2, 1, 2, 2, 2, 1, 0, 2, 2, 2, 1, 0, 2,\n",
              "       0, 0, 0, 0, 1, 0, 2, 2, 2, 0, 2, 2, 2, 0, 0, 2, 1, 0, 0, 2, 2, 0,\n",
              "       2, 2, 2, 0, 2, 0, 2, 2, 2, 2, 0, 1, 2, 2, 1, 2, 2, 2, 2, 2, 2, 2,\n",
              "       2, 2, 2, 2, 1, 2, 2, 2, 2, 0, 2, 2, 0, 1, 0, 1, 2, 1, 1, 1, 1, 2,\n",
              "       2, 1, 1, 0, 1, 0, 2, 2, 1, 2, 2, 2, 2, 0, 2, 0, 2, 0, 1, 2, 0, 1])"
            ]
          },
          "metadata": {
            "tags": []
          },
          "execution_count": 47
        }
      ]
    },
    {
      "cell_type": "code",
      "metadata": {
        "colab": {
          "base_uri": "https://localhost:8080/"
        },
        "id": "iyqbdeY5nBMV",
        "outputId": "2a94d669-d13a-4f64-e6a9-71d5932a614e"
      },
      "source": [
        "from sklearn.metrics import accuracy_score\n",
        "accuracy_score(flat_true_labels,flat_predictions)"
      ],
      "execution_count": 48,
      "outputs": [
        {
          "output_type": "execute_result",
          "data": {
            "text/plain": [
              "0.6473354231974922"
            ]
          },
          "metadata": {
            "tags": []
          },
          "execution_count": 48
        }
      ]
    },
    {
      "cell_type": "code",
      "metadata": {
        "id": "sIFROTrunBPE"
      },
      "source": [
        "def accuracy_per_class(preds_flat, labels_flat):\n",
        "\n",
        "    for label in np.unique(labels_flat):\n",
        "        y_preds = preds_flat[labels_flat==label]\n",
        "        y_true = labels_flat[labels_flat==label]\n",
        "        print(f'Class: {get_labels(label)}')\n",
        "        print(f'Accuracy: {len(y_preds[y_preds==label])}/{len(y_true)}\\n')"
      ],
      "execution_count": 49,
      "outputs": []
    },
    {
      "cell_type": "code",
      "metadata": {
        "colab": {
          "base_uri": "https://localhost:8080/"
        },
        "id": "C4puCpQVnBTh",
        "outputId": "a22d4641-c8d4-4d10-b680-70d191b1d8c4"
      },
      "source": [
        "accuracy_per_class(flat_predictions,flat_true_labels)"
      ],
      "execution_count": 50,
      "outputs": [
        {
          "output_type": "stream",
          "text": [
            "Class: negative\n",
            "Accuracy: 79/128\n",
            "\n",
            "Class: neutral\n",
            "Accuracy: 74/169\n",
            "\n",
            "Class: positive\n",
            "Accuracy: 260/341\n",
            "\n"
          ],
          "name": "stdout"
        }
      ]
    },
    {
      "cell_type": "code",
      "metadata": {
        "id": "WgCeBJhmoAMX"
      },
      "source": [
        ""
      ],
      "execution_count": 29,
      "outputs": []
    }
  ]
}